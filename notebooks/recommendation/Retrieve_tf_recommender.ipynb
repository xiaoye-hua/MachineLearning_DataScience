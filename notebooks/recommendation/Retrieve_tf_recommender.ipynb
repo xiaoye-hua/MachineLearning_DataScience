{
 "cells": [
  {
   "cell_type": "markdown",
   "id": "fa8b1518",
   "metadata": {},
   "source": [
    "# Basic Info "
   ]
  },
  {
   "cell_type": "markdown",
   "id": "32f1597b",
   "metadata": {},
   "source": [
    "1. inbatch negative sampling\n",
    "2. movies that have scores are positive samples; sampling negative samples"
   ]
  },
  {
   "cell_type": "markdown",
   "id": "2ff19d72",
   "metadata": {},
   "source": [
    "# Package "
   ]
  },
  {
   "cell_type": "code",
   "execution_count": 1,
   "id": "861126e0",
   "metadata": {},
   "outputs": [],
   "source": [
    "import tensorflow as tf\n",
    "import tensorflow_datasets as tfd\n",
    "import tensorflow_ranking as tfr\n",
    "import tensorflow_recommenders as tfrs\n",
    "from typing import Dict, Tuple, Text\n",
    "import numpy as np\n",
    "import tempfile\n",
    "import os"
   ]
  },
  {
   "cell_type": "markdown",
   "id": "2efd22df",
   "metadata": {},
   "source": [
    "# Config "
   ]
  },
  {
   "cell_type": "code",
   "execution_count": 2,
   "id": "f6ee7edb",
   "metadata": {},
   "outputs": [],
   "source": [
    "batch_size = 100"
   ]
  },
  {
   "cell_type": "markdown",
   "id": "b1517722",
   "metadata": {},
   "source": [
    "# Data process "
   ]
  },
  {
   "cell_type": "markdown",
   "id": "2ddb7d7d",
   "metadata": {},
   "source": [
    "## Raw data "
   ]
  },
  {
   "cell_type": "code",
   "execution_count": 3,
   "id": "d6f232d8",
   "metadata": {},
   "outputs": [],
   "source": [
    "raw_ratings = tfd.load(name='movielens/100k-ratings', split='train')\n",
    "movies = tfd.load(name='movielens/100k-movies', split='train')"
   ]
  },
  {
   "cell_type": "code",
   "execution_count": 4,
   "id": "1883d15b",
   "metadata": {},
   "outputs": [],
   "source": [
    "ratings = raw_ratings.map( lambda x: {\n",
    "    \"user_id\": x['user_id']\n",
    "    , 'movie_id': x['movie_id']\n",
    "    , 'user_rating': x['user_rating']\n",
    "    }\n",
    ")"
   ]
  },
  {
   "cell_type": "markdown",
   "id": "f4581c32",
   "metadata": {},
   "source": [
    "## Id map"
   ]
  },
  {
   "cell_type": "code",
   "execution_count": 5,
   "id": "d56f69c8",
   "metadata": {},
   "outputs": [
    {
     "data": {
      "text/plain": [
       "array([b'1', b'10', b'100', b'1000', b'1001', b'1002', b'1003', b'1004',\n",
       "       b'1005', b'1006'], dtype=object)"
      ]
     },
     "execution_count": 5,
     "metadata": {},
     "output_type": "execute_result"
    }
   ],
   "source": [
    "movie_ids = movies.map(lambda x: x['movie_id'])\n",
    "user_ids = ratings.map(lambda x: x['user_id'])\n",
    "\n",
    "\n",
    "movie_titles = movie_ids.batch(1_000)\n",
    "user_ids = ratings.batch(1_000_000).map(lambda x: x[\"user_id\"])\n",
    "\n",
    "unique_movie_titles = np.unique(np.concatenate(list(movie_titles)))\n",
    "unique_user_ids = np.unique(np.concatenate(list(user_ids)))\n",
    "\n",
    "unique_movie_titles[:10]"
   ]
  },
  {
   "cell_type": "markdown",
   "id": "cb0b56a8",
   "metadata": {},
   "source": [
    "# Single retrieve task  "
   ]
  },
  {
   "cell_type": "markdown",
   "id": "6676d540",
   "metadata": {},
   "source": [
    "## train data"
   ]
  },
  {
   "cell_type": "code",
   "execution_count": 17,
   "id": "531e048a",
   "metadata": {},
   "outputs": [],
   "source": [
    "ds_train = ratings.map( lambda x: {\n",
    "        \"user_id\": x['user_id']\n",
    "        , 'movie_id': x['movie_id']\n",
    "#         , 'user_rating': x['user_rating']\n",
    "        }\n",
    "    ).apply(\n",
    "        tf.data.experimental.dense_to_ragged_batch(batch_size=32))"
   ]
  },
  {
   "cell_type": "code",
   "execution_count": 18,
   "id": "5817627a",
   "metadata": {
    "scrolled": false
   },
   "outputs": [
    {
     "data": {
      "text/plain": [
       "[{'user_id': array([b'138', b'92', b'301', b'60', b'197', b'601', b'710', b'833',\n",
       "         b'916', b'940', b'611', b'707', b'699', b'16', b'314', b'217',\n",
       "         b'276', b'510', b'757', b'881', b'880', b'797', b'188', b'246',\n",
       "         b'445', b'91', b'372', b'891', b'71', b'279', b'688', b'59'],\n",
       "        dtype=object),\n",
       "  'movie_id': array([b'357', b'709', b'412', b'56', b'895', b'325', b'95', b'92',\n",
       "         b'425', b'271', b'355', b'712', b'825', b'240', b'1150', b'684',\n",
       "         b'124', b'294', b'265', b'465', b'823', b'243', b'392', b'202',\n",
       "         b'433', b'182', b'56', b'116', b'285', b'638', b'309', b'491'],\n",
       "        dtype=object)},\n",
       " {'user_id': array([b'56', b'854', b'615', b'639', b'699', b'195', b'676', b'279',\n",
       "         b'634', b'505', b'617', b'666', b'416', b'655', b'293', b'350',\n",
       "         b'404', b'28', b'428', b'733', b'354', b'486', b'409', b'582',\n",
       "         b'253', b'354', b'663', b'669', b'535', b'560', b'7', b'223'],\n",
       "        dtype=object),\n",
       "  'movie_id': array([b'117', b'466', b'160', b'19', b'591', b'99', b'302', b'1028',\n",
       "         b'124', b'125', b'7', b'98', b'794', b'927', b'248', b'136',\n",
       "         b'339', b'96', b'268', b'248', b'275', b'628', b'179', b'240',\n",
       "         b'200', b'516', b'1009', b'175', b'70', b'183', b'386', b'321'],\n",
       "        dtype=object)}]"
      ]
     },
     "execution_count": 18,
     "metadata": {},
     "output_type": "execute_result"
    }
   ],
   "source": [
    "list(ds_train.take(2).as_numpy_iterator())"
   ]
  },
  {
   "cell_type": "markdown",
   "id": "26b65153",
   "metadata": {},
   "source": [
    "## Model Definition "
   ]
  },
  {
   "cell_type": "code",
   "execution_count": 51,
   "id": "1228433d",
   "metadata": {},
   "outputs": [],
   "source": [
    "class MovieLenModel(tfrs.Model):\n",
    "    def __init__(self):\n",
    "        super().__init__()\n",
    "        embedding_dimension = 24\n",
    "        self.user_embedding = tf.keras.Sequential([\n",
    "          tf.keras.layers.StringLookup(\n",
    "              vocabulary=unique_user_ids, mask_token=None),\n",
    "          # We add an additional embedding to account for unknown tokens.\n",
    "          tf.keras.layers.Embedding(len(unique_user_ids) + 1, embedding_dimension)\n",
    "        ])\n",
    "        self.movie_embedding = tf.keras.Sequential([\n",
    "          tf.keras.layers.StringLookup(\n",
    "              vocabulary=unique_movie_titles, mask_token=None),\n",
    "          tf.keras.layers.Embedding(len(unique_movie_titles) + 1, embedding_dimension)\n",
    "        ])        \n",
    "        self.task= tfrs.tasks.Retrieval(\n",
    "            metrics=tfrs.metrics.FactorizedTopK(\n",
    "            movie_ids.batch(128).map(self.movie_embedding)\n",
    "          )\n",
    "        )\n",
    "    \n",
    "    def compute_loss(self, features: Dict[str, tf.Tensor], training=False) -> tf.Tensor:\n",
    "        user_emb = self.user_embedding(features['user_id'])\n",
    "        movie_emb =  self.movie_embedding(features['movie_id'])\n",
    "        print(f\"user: {user_emb.shape}\")\n",
    "        print(f\"movie: {movie_emb.shape}\")\n",
    "        return self.task(user_emb, movie_emb)"
   ]
  },
  {
   "cell_type": "markdown",
   "id": "7fcfb1c8",
   "metadata": {},
   "source": [
    "\n"
   ]
  },
  {
   "cell_type": "markdown",
   "id": "06333a7b",
   "metadata": {},
   "source": [
    "## Training "
   ]
  },
  {
   "cell_type": "code",
   "execution_count": 53,
   "id": "4a4326d7",
   "metadata": {
    "scrolled": true
   },
   "outputs": [
    {
     "name": "stdout",
     "output_type": "stream",
     "text": [
      "user: (None, 24)\n",
      "movie: (None, 24)\n",
      "user: (None, 24)\n",
      "movie: (None, 24)\n",
      "3125/3125 [==============================] - 236s 75ms/step - factorized_top_k/top_1_categorical_accuracy: 1.0000e-04 - factorized_top_k/top_5_categorical_accuracy: 0.0111 - factorized_top_k/top_10_categorical_accuracy: 0.0257 - factorized_top_k/top_50_categorical_accuracy: 0.1280 - factorized_top_k/top_100_categorical_accuracy: 0.2280 - loss: 105.4683 - regularization_loss: 0.0000e+00 - total_loss: 105.4683\n"
     ]
    },
    {
     "data": {
      "text/plain": [
       "<keras.callbacks.History at 0x7fd3ad390eb8>"
      ]
     },
     "execution_count": 53,
     "metadata": {},
     "output_type": "execute_result"
    }
   ],
   "source": [
    "model1 = MovieLenModel(\n",
    ")\n",
    "\n",
    "optimizor = tf.keras.optimizers.Adagrad(learning_rate=0.1)\n",
    "model1.compile(\n",
    "               optimizer=optimizor\n",
    "              )\n",
    "\n",
    "model1.fit(ds_train, epochs=1)"
   ]
  },
  {
   "cell_type": "markdown",
   "id": "2052bf9d",
   "metadata": {},
   "source": [
    "\n"
   ]
  },
  {
   "cell_type": "markdown",
   "id": "3eea5cb3",
   "metadata": {},
   "source": [
    "## Prediction "
   ]
  },
  {
   "cell_type": "code",
   "execution_count": 54,
   "id": "1d76762f",
   "metadata": {},
   "outputs": [
    {
     "data": {
      "text/plain": [
       "<keras.engine.sequential.Sequential at 0x7fd3ad2a81d0>"
      ]
     },
     "execution_count": 54,
     "metadata": {},
     "output_type": "execute_result"
    }
   ],
   "source": [
    "model1.user_embedding"
   ]
  },
  {
   "cell_type": "code",
   "execution_count": 55,
   "id": "d683fb85",
   "metadata": {},
   "outputs": [],
   "source": [
    "# Create a model that takes in raw query features, and\n",
    "index = tfrs.layers.factorized_top_k.BruteForce(model1.user_embedding)"
   ]
  },
  {
   "cell_type": "code",
   "execution_count": 56,
   "id": "02fc0938",
   "metadata": {},
   "outputs": [
    {
     "data": {
      "text/plain": [
       "<tensorflow_recommenders.layers.factorized_top_k.BruteForce at 0x7fd3ad2a85c0>"
      ]
     },
     "execution_count": 56,
     "metadata": {},
     "output_type": "execute_result"
    }
   ],
   "source": [
    "# recommends movies out of the entire movies dataset.\n",
    "index.index_from_dataset(\n",
    "  tf.data.Dataset.zip((movie_ids.batch(100), movie_ids.batch(100).map(model1.movie_embedding)))\n",
    ")\n"
   ]
  },
  {
   "cell_type": "code",
   "execution_count": null,
   "id": "76689eb6",
   "metadata": {},
   "outputs": [],
   "source": []
  },
  {
   "cell_type": "code",
   "execution_count": 57,
   "id": "3fc3a5f8",
   "metadata": {},
   "outputs": [
    {
     "name": "stdout",
     "output_type": "stream",
     "text": [
      "Recommendations for user 42: [b'63' b'102' b'420' b'560' b'623']\n"
     ]
    }
   ],
   "source": [
    "# Get recommendations.\n",
    "scores, items = index(tf.constant([\"42\"]))\n",
    "print(f\"Recommendations for user 42: {titles[0, :5]}\")"
   ]
  },
  {
   "cell_type": "code",
   "execution_count": 30,
   "id": "ce6478e2",
   "metadata": {
    "scrolled": true
   },
   "outputs": [
    {
     "data": {
      "text/plain": [
       "<tf.Tensor: shape=(1, 10), dtype=float32, numpy=\n",
       "array([[1.4527458, 1.4333963, 1.4160137, 1.4080179, 1.3786912, 1.3743391,\n",
       "        1.3707472, 1.3624487, 1.3570994, 1.3432596]], dtype=float32)>"
      ]
     },
     "execution_count": 30,
     "metadata": {},
     "output_type": "execute_result"
    }
   ],
   "source": [
    "scores"
   ]
  },
  {
   "cell_type": "markdown",
   "id": "69f153c4",
   "metadata": {},
   "source": [
    "##  Save and deploy -> accurate search"
   ]
  },
  {
   "cell_type": "code",
   "execution_count": null,
   "id": "6eddf05f",
   "metadata": {},
   "outputs": [],
   "source": [
    "tmp = '../../data/'"
   ]
  },
  {
   "cell_type": "code",
   "execution_count": 37,
   "id": "cb819547",
   "metadata": {},
   "outputs": [
    {
     "name": "stderr",
     "output_type": "stream",
     "text": [
      "WARNING:absl:Found untraced functions such as query_with_exclusions while saving (showing 1 of 1). These functions will not be directly callable after loading.\n"
     ]
    },
    {
     "name": "stdout",
     "output_type": "stream",
     "text": [
      "INFO:tensorflow:Assets written to: /var/folders/60/6qphmx_d7x7_11vpj8524vf40000gn/T/tmpust1brl6/model/assets\n"
     ]
    },
    {
     "name": "stderr",
     "output_type": "stream",
     "text": [
      "INFO:tensorflow:Assets written to: /var/folders/60/6qphmx_d7x7_11vpj8524vf40000gn/T/tmpust1brl6/model/assets\n"
     ]
    },
    {
     "name": "stdout",
     "output_type": "stream",
     "text": [
      "Recommendations: [b'63' b'102' b'420']\n",
      "tf.Tensor(\n",
      "[[1.4527458 1.4333963 1.4160137 1.4080179 1.3786912 1.3743391 1.3707472\n",
      "  1.3624487 1.3570994 1.3432596]], shape=(1, 10), dtype=float32)\n"
     ]
    }
   ],
   "source": [
    "# Export the query model.\n",
    "with tempfile.TemporaryDirectory() as tmp:\n",
    "    path = os.path.join(tmp, \"model\")\n",
    "\n",
    "    # Save the index.\n",
    "    tf.saved_model.save(index, path)\n",
    "\n",
    "    # Load it back; can also be done in TensorFlow Serving.\n",
    "    loaded = tf.saved_model.load(path)\n",
    "\n",
    "    # Pass a user id in, get top predicted movie titles back.\n",
    "    scores, titles = loaded([\"42\"])\n",
    "\n",
    "    print(f\"Recommendations: {titles[0][:3]}\")\n",
    "    print(scores)"
   ]
  },
  {
   "cell_type": "markdown",
   "id": "0842acfd",
   "metadata": {},
   "source": [
    "## Save & deploy -> approximate search "
   ]
  },
  {
   "cell_type": "code",
   "execution_count": 58,
   "id": "2ad1ce82",
   "metadata": {
    "scrolled": false
   },
   "outputs": [],
   "source": [
    "# scann_index = tfrs.layers.factorized_top_k.ScaNN(model1.user_embedding)\n",
    "# scann_index.index_from_dataset(\n",
    "#   tf.data.Dataset.zip((movie_ids.batch(100), movie_ids.batch(100).map(model1.movie_embedding)))\n",
    "# )"
   ]
  },
  {
   "cell_type": "markdown",
   "id": "47277d62",
   "metadata": {},
   "source": [
    "# Muti-task learning"
   ]
  },
  {
   "cell_type": "markdown",
   "id": "06ff5c19",
   "metadata": {},
   "source": [
    "## Train data "
   ]
  },
  {
   "cell_type": "code",
   "execution_count": 41,
   "id": "f0fd713e",
   "metadata": {},
   "outputs": [],
   "source": [
    "ds_train_mutitask = ratings.map( lambda x: {\n",
    "        \"user_id\": x['user_id']\n",
    "        , 'movie_id': x['movie_id']\n",
    "        , 'user_rating': x['user_rating']\n",
    "        }\n",
    "    ).apply(\n",
    "        tf.data.experimental.dense_to_ragged_batch(batch_size=32))"
   ]
  },
  {
   "cell_type": "code",
   "execution_count": 42,
   "id": "b780e7e9",
   "metadata": {},
   "outputs": [],
   "source": [
    "train = ds_train_mutitask.take(1_000).cache()\n",
    "test = ds_train_mutitask.skip(1_000).take(800).cache()"
   ]
  },
  {
   "cell_type": "markdown",
   "id": "28dcf696",
   "metadata": {},
   "source": [
    "## Model definition "
   ]
  },
  {
   "cell_type": "code",
   "execution_count": 43,
   "id": "4cf193a2",
   "metadata": {},
   "outputs": [
    {
     "data": {
      "text/plain": [
       "<keras.metrics.MeanSquaredError at 0x7ff7f0e809e8>"
      ]
     },
     "execution_count": 43,
     "metadata": {},
     "output_type": "execute_result"
    }
   ],
   "source": [
    "tf.metrics.MeanSquaredError()"
   ]
  },
  {
   "cell_type": "code",
   "execution_count": 44,
   "id": "102eeb1f",
   "metadata": {},
   "outputs": [],
   "source": [
    "class MultitaskMovieLenModel(tfrs.Model):\n",
    "    def __init__(self, retrieve_weight:float, ranking_weight:float):\n",
    "        super().__init__()\n",
    "        embedding_dimension = 24\n",
    "        self.user_embedding = tf.keras.Sequential([\n",
    "          tf.keras.layers.StringLookup(\n",
    "              vocabulary=unique_user_ids, mask_token=None),\n",
    "          # We add an additional embedding to account for unknown tokens.\n",
    "          tf.keras.layers.Embedding(len(unique_user_ids) + 1, embedding_dimension)\n",
    "        ])\n",
    "        self.movie_embedding = tf.keras.Sequential([\n",
    "          tf.keras.layers.StringLookup(\n",
    "              vocabulary=unique_movie_titles, mask_token=None),\n",
    "          tf.keras.layers.Embedding(len(unique_movie_titles) + 1, embedding_dimension)\n",
    "        ])   \n",
    "        \n",
    "        self.ranking_model = tf.keras.Sequential([\n",
    "            tf.keras.layers.Dense(units=256, activation='relu')\n",
    "            , tf.keras.layers.Dense(units=128, activation='relu')\n",
    "            , tf.keras.layers.Dense(units=1, activation=None)\n",
    "        ])\n",
    "        \n",
    "        self.retrieve_task= tfrs.tasks.Retrieval(\n",
    "            metrics=tfrs.metrics.FactorizedTopK(\n",
    "            movie_ids.batch(128).map(self.movie_embedding)\n",
    "          )\n",
    "        )\n",
    "        self.ranking_task = tfrs.tasks.Ranking(\n",
    "            metrics=[tf.metrics.MeanSquaredError()]\n",
    "            , loss=tf.keras.losses.MeanSquaredError()\n",
    "        )\n",
    "        self.retrieve_weight = retrieve_weight\n",
    "        self.ranking_weight = ranking_weight\n",
    "    \n",
    "    def call(self, features: Dict[str, tf.Tensor]):\n",
    "        user_emb = self.user_embedding(features['user_id'])\n",
    "        movie_emb =  self.movie_embedding(features['movie_id'])\n",
    "        ranking_score = self.ranking_model(\n",
    "            tf.concat([user_emb, movie_emb], axis=1)\n",
    "        )\n",
    "        return (\n",
    "            user_emb,\n",
    "            movie_emb,\n",
    "            ranking_score\n",
    "        )\n",
    "    \n",
    "    def compute_loss(self, features: Dict[str, tf.Tensor], training=False) -> tf.Tensor:\n",
    "        labels = features.pop('user_rating')\n",
    "        user_emb, movie_emb, ranking_score = self(features)\n",
    "        retrieve_loss = self.retrieve_task(user_emb, movie_emb)\n",
    "        ranking_loss = self.ranking_task(labels=labels,predictions=ranking_score)\n",
    "        return self.retrieve_weight*retrieve_loss + self.ranking_weight*ranking_loss"
   ]
  },
  {
   "cell_type": "markdown",
   "id": "f3e34597",
   "metadata": {},
   "source": [
    "## training  & Eval"
   ]
  },
  {
   "cell_type": "code",
   "execution_count": 45,
   "id": "97637890",
   "metadata": {
    "scrolled": true
   },
   "outputs": [
    {
     "name": "stdout",
     "output_type": "stream",
     "text": [
      "1000/1000 [==============================] - 73s 73ms/step - factorized_top_k/top_1_categorical_accuracy: 3.1250e-05 - factorized_top_k/top_5_categorical_accuracy: 0.0083 - factorized_top_k/top_10_categorical_accuracy: 0.0183 - factorized_top_k/top_50_categorical_accuracy: 0.0890 - factorized_top_k/top_100_categorical_accuracy: 0.1539 - mean_squared_error: 13.6708 - loss: 110.4067 - regularization_loss: 0.0000e+00 - total_loss: 110.4067\n"
     ]
    },
    {
     "data": {
      "text/plain": [
       "<keras.callbacks.History at 0x7ff7e71dd470>"
      ]
     },
     "execution_count": 45,
     "metadata": {},
     "output_type": "execute_result"
    }
   ],
   "source": [
    "mutitaks_model = MultitaskMovieLenModel(retrieve_weight=1, ranking_weight=0)\n",
    "optimizor = tf.keras.optimizers.Adagrad(learning_rate=0.1)\n",
    "\n",
    "mutitaks_model.compile(optimizer=optimizor)\n",
    "\n",
    "mutitaks_model.fit(train, epochs=1)"
   ]
  },
  {
   "cell_type": "code",
   "execution_count": 47,
   "id": "7386ab46",
   "metadata": {},
   "outputs": [
    {
     "name": "stdout",
     "output_type": "stream",
     "text": [
      "800/800 [==============================] - 61s 75ms/step - factorized_top_k/top_1_categorical_accuracy: 0.0022 - factorized_top_k/top_5_categorical_accuracy: 0.0136 - factorized_top_k/top_10_categorical_accuracy: 0.0294 - factorized_top_k/top_50_categorical_accuracy: 0.1419 - factorized_top_k/top_100_categorical_accuracy: 0.2429 - mean_squared_error: 13.5742 - loss: 108.5861 - regularization_loss: 0.0000e+00 - total_loss: 108.5861\n"
     ]
    },
    {
     "data": {
      "text/plain": [
       "{'factorized_top_k/top_1_categorical_accuracy': 0.0021875000093132257,\n",
       " 'factorized_top_k/top_5_categorical_accuracy': 0.013554687611758709,\n",
       " 'factorized_top_k/top_10_categorical_accuracy': 0.029374999925494194,\n",
       " 'factorized_top_k/top_50_categorical_accuracy': 0.14191406965255737,\n",
       " 'factorized_top_k/top_100_categorical_accuracy': 0.24285155534744263,\n",
       " 'mean_squared_error': 13.574176788330078,\n",
       " 'loss': 108.55723571777344,\n",
       " 'regularization_loss': 0,\n",
       " 'total_loss': 108.55723571777344}"
      ]
     },
     "execution_count": 47,
     "metadata": {},
     "output_type": "execute_result"
    }
   ],
   "source": [
    "mutitaks_model.evaluate(test, return_dict=True)"
   ]
  },
  {
   "cell_type": "code",
   "execution_count": 48,
   "id": "25636e15",
   "metadata": {
    "scrolled": false
   },
   "outputs": [
    {
     "name": "stdout",
     "output_type": "stream",
     "text": [
      "1000/1000 [==============================] - 78s 77ms/step - factorized_top_k/top_1_categorical_accuracy: 7.1875e-04 - factorized_top_k/top_5_categorical_accuracy: 0.0058 - factorized_top_k/top_10_categorical_accuracy: 0.0116 - factorized_top_k/top_50_categorical_accuracy: 0.0475 - factorized_top_k/top_100_categorical_accuracy: 0.0859 - mean_squared_error: 1.0781 - loss: 1.0781 - regularization_loss: 0.0000e+00 - total_loss: 1.0781\n",
      "800/800 [==============================] - 70s 87ms/step - factorized_top_k/top_1_categorical_accuracy: 8.2031e-04 - factorized_top_k/top_5_categorical_accuracy: 0.0059 - factorized_top_k/top_10_categorical_accuracy: 0.0116 - factorized_top_k/top_50_categorical_accuracy: 0.0500 - factorized_top_k/top_100_categorical_accuracy: 0.0890 - mean_squared_error: 0.9413 - loss: 0.9410 - regularization_loss: 0.0000e+00 - total_loss: 0.9410 6s - factorized_top_k/top_1_categorical_accuracy: 8.5734e-04 - factorized_top_k/top_5_categorical_accuracy: 0.0060 - factorized_top_k/top_10_categorical_accuracy: 0.0118 - factorized_top_k/top_50_categorical_accuracy: 0.0504 - factorized_top_k/top_100_categorical_accuracy: 0.0895 - mean_squared_error: 0.94\n"
     ]
    },
    {
     "data": {
      "text/plain": [
       "{'factorized_top_k/top_1_categorical_accuracy': 0.0008203124743886292,\n",
       " 'factorized_top_k/top_5_categorical_accuracy': 0.005898437462747097,\n",
       " 'factorized_top_k/top_10_categorical_accuracy': 0.011601562611758709,\n",
       " 'factorized_top_k/top_50_categorical_accuracy': 0.05000000074505806,\n",
       " 'factorized_top_k/top_100_categorical_accuracy': 0.08902344107627869,\n",
       " 'mean_squared_error': 0.9413306713104248,\n",
       " 'loss': 0.6442892551422119,\n",
       " 'regularization_loss': 0,\n",
       " 'total_loss': 0.6442892551422119}"
      ]
     },
     "execution_count": 48,
     "metadata": {},
     "output_type": "execute_result"
    }
   ],
   "source": [
    "mutitaks_model = MultitaskMovieLenModel(retrieve_weight=0, ranking_weight=1)\n",
    "optimizor = tf.keras.optimizers.Adagrad(learning_rate=0.1)\n",
    "\n",
    "mutitaks_model.compile(optimizer=optimizor)\n",
    "\n",
    "mutitaks_model.fit(train, epochs=1)\n",
    "mutitaks_model.evaluate(test, return_dict=True)"
   ]
  },
  {
   "cell_type": "markdown",
   "id": "aa37cd4b",
   "metadata": {},
   "source": [
    "## Inference\n"
   ]
  },
  {
   "cell_type": "code",
   "execution_count": 50,
   "id": "0b995375",
   "metadata": {},
   "outputs": [
    {
     "name": "stdout",
     "output_type": "stream",
     "text": [
      "Predicted rating:\n",
      "tf.Tensor([[4.253978]], shape=(1, 1), dtype=float32)\n"
     ]
    }
   ],
   "source": [
    "trained_movie_embeddings, trained_user_embeddings, predicted_rating = mutitaks_model({\n",
    "      \"user_id\": np.array([\"42\"]),\n",
    "      \"movie_id\": np.array(['357'])\n",
    "  })\n",
    "print(\"Predicted rating:\")\n",
    "print(predicted_rating)"
   ]
  },
  {
   "cell_type": "code",
   "execution_count": null,
   "id": "5631f415",
   "metadata": {},
   "outputs": [],
   "source": []
  }
 ],
 "metadata": {
  "hide_input": false,
  "kernelspec": {
   "display_name": "Python3.6(machine_learning_learning)",
   "language": "python",
   "name": "machine_learning_learning"
  },
  "language_info": {
   "codemirror_mode": {
    "name": "ipython",
    "version": 3
   },
   "file_extension": ".py",
   "mimetype": "text/x-python",
   "name": "python",
   "nbconvert_exporter": "python",
   "pygments_lexer": "ipython3",
   "version": "3.6.13"
  },
  "toc": {
   "base_numbering": 1,
   "nav_menu": {},
   "number_sections": true,
   "sideBar": true,
   "skip_h1_title": false,
   "title_cell": "Table of Contents",
   "title_sidebar": "Contents",
   "toc_cell": false,
   "toc_position": {
    "height": "calc(100% - 180px)",
    "left": "10px",
    "top": "150px",
    "width": "288px"
   },
   "toc_section_display": true,
   "toc_window_display": true
  }
 },
 "nbformat": 4,
 "nbformat_minor": 5
}
