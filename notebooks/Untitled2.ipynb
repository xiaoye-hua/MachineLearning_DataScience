{
 "cells": [
  {
   "cell_type": "code",
   "execution_count": null,
   "id": "4d49c066-e131-4774-9ef0-dcd15e4aa76b",
   "metadata": {},
   "outputs": [],
   "source": []
  }
 ],
 "metadata": {
  "kernelspec": {
   "display_name": "",
   "name": ""
  },
  "language_info": {
   "name": ""
  }
 },
 "nbformat": 4,
 "nbformat_minor": 5
}
