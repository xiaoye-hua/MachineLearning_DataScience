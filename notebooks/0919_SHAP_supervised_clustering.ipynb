{
 "cells": [
  {
   "cell_type": "code",
   "execution_count": 1,
   "id": "36af507b",
   "metadata": {},
   "outputs": [
    {
     "name": "stdout",
     "output_type": "stream",
     "text": [
      "Requirement already satisfied: shap in /Users/mac/.conda/envs/machine_learning_learning/lib/python3.6/site-packages (0.39.0)\n",
      "Requirement already satisfied: scipy in /Users/mac/.conda/envs/machine_learning_learning/lib/python3.6/site-packages (from shap) (1.5.2)\n",
      "Requirement already satisfied: scikit-learn in /Users/mac/.conda/envs/machine_learning_learning/lib/python3.6/site-packages (from shap) (0.24.2)\n",
      "Requirement already satisfied: pandas in /Users/mac/.conda/envs/machine_learning_learning/lib/python3.6/site-packages (from shap) (1.1.5)\n",
      "Requirement already satisfied: numba in /Users/mac/.conda/envs/machine_learning_learning/lib/python3.6/site-packages (from shap) (0.53.0)\n",
      "Requirement already satisfied: tqdm>4.25.0 in /Users/mac/.conda/envs/machine_learning_learning/lib/python3.6/site-packages (from shap) (4.63.0)\n",
      "Requirement already satisfied: slicer==0.0.7 in /Users/mac/.conda/envs/machine_learning_learning/lib/python3.6/site-packages (from shap) (0.0.7)\n",
      "Requirement already satisfied: numpy in /Users/mac/.conda/envs/machine_learning_learning/lib/python3.6/site-packages (from shap) (1.19.2)\n",
      "Requirement already satisfied: cloudpickle in /Users/mac/.conda/envs/machine_learning_learning/lib/python3.6/site-packages (from shap) (2.0.0)\n",
      "Requirement already satisfied: importlib-resources in /Users/mac/.conda/envs/machine_learning_learning/lib/python3.6/site-packages (from tqdm>4.25.0->shap) (5.4.0)\n",
      "Requirement already satisfied: zipp>=3.1.0 in /Users/mac/.conda/envs/machine_learning_learning/lib/python3.6/site-packages (from importlib-resources->tqdm>4.25.0->shap) (3.6.0)\n",
      "Requirement already satisfied: setuptools in /Users/mac/.conda/envs/machine_learning_learning/lib/python3.6/site-packages (from numba->shap) (58.0.4)\n",
      "Requirement already satisfied: llvmlite<0.37,>=0.36.0rc1 in /Users/mac/.conda/envs/machine_learning_learning/lib/python3.6/site-packages (from numba->shap) (0.36.0)\n",
      "Requirement already satisfied: python-dateutil>=2.7.3 in /Users/mac/.conda/envs/machine_learning_learning/lib/python3.6/site-packages (from pandas->shap) (2.8.2)\n",
      "Requirement already satisfied: pytz>=2017.2 in /Users/mac/.conda/envs/machine_learning_learning/lib/python3.6/site-packages (from pandas->shap) (2021.3)\n",
      "Requirement already satisfied: six>=1.5 in /Users/mac/.conda/envs/machine_learning_learning/lib/python3.6/site-packages (from python-dateutil>=2.7.3->pandas->shap) (1.16.0)\n",
      "Requirement already satisfied: threadpoolctl>=2.0.0 in /Users/mac/.conda/envs/machine_learning_learning/lib/python3.6/site-packages (from scikit-learn->shap) (2.2.0)\n",
      "Requirement already satisfied: joblib>=0.11 in /Users/mac/.conda/envs/machine_learning_learning/lib/python3.6/site-packages (from scikit-learn->shap) (1.0.1)\n",
      "Requirement already satisfied: lightgbm in /Users/mac/.conda/envs/machine_learning_learning/lib/python3.6/site-packages (3.1.1)\n",
      "Requirement already satisfied: scikit-learn!=0.22.0 in /Users/mac/.conda/envs/machine_learning_learning/lib/python3.6/site-packages (from lightgbm) (0.24.2)\n",
      "Requirement already satisfied: scipy in /Users/mac/.conda/envs/machine_learning_learning/lib/python3.6/site-packages (from lightgbm) (1.5.2)\n",
      "Requirement already satisfied: wheel in /Users/mac/.conda/envs/machine_learning_learning/lib/python3.6/site-packages (from lightgbm) (0.37.1)\n",
      "Requirement already satisfied: numpy in /Users/mac/.conda/envs/machine_learning_learning/lib/python3.6/site-packages (from lightgbm) (1.19.2)\n",
      "Requirement already satisfied: threadpoolctl>=2.0.0 in /Users/mac/.conda/envs/machine_learning_learning/lib/python3.6/site-packages (from scikit-learn!=0.22.0->lightgbm) (2.2.0)\n",
      "Requirement already satisfied: joblib>=0.11 in /Users/mac/.conda/envs/machine_learning_learning/lib/python3.6/site-packages (from scikit-learn!=0.22.0->lightgbm) (1.0.1)\n"
     ]
    }
   ],
   "source": [
    "! pip install shap\n",
    "! pip install lightgbm"
   ]
  },
  {
   "cell_type": "code",
   "execution_count": null,
   "id": "208c80c7",
   "metadata": {},
   "outputs": [],
   "source": [
    "import lightgbm as lgb\n",
    "import shap\n",
    "from sklearn.datasets import make_classification\n",
    "\n",
    "# simulate raw data\n",
    "X, y = make_classification(\n",
    "    n_samples=1000,\n",
    "    n_features=50,\n",
    "    n_informative=5,\n",
    "    n_classes=2,\n",
    "    n_clusters_per_class=3,\n",
    "    shuffle=False\n",
    ")\n",
    "\n",
    "# fit a GBT model to the data\n",
    "m = lgb.LGBMClassifier()\n",
    "m.fit(X, y)\n",
    "\n",
    "# compute SHAP values\n",
    "explainer = shap.Explainer(m)\n",
    "shap_values = explainer(X)"
   ]
  },
  {
   "cell_type": "code",
   "execution_count": 8,
   "id": "6bf7c016",
   "metadata": {},
   "outputs": [
    {
     "ename": "ModuleNotFoundError",
     "evalue": "No module named 'umap'",
     "output_type": "error",
     "traceback": [
      "\u001b[0;31m---------------------------------------------------------------------------\u001b[0m",
      "\u001b[0;31mModuleNotFoundError\u001b[0m                       Traceback (most recent call last)",
      "Input \u001b[0;32mIn [8]\u001b[0m, in \u001b[0;36m<cell line: 1>\u001b[0;34m()\u001b[0m\n\u001b[0;32m----> 1\u001b[0m \u001b[38;5;28;01mfrom\u001b[39;00m \u001b[38;5;21;01mumap\u001b[39;00m \u001b[38;5;28;01mimport\u001b[39;00m UMAP\n\u001b[1;32m      3\u001b[0m \u001b[38;5;66;03m# compute 2D embedding of raw variable values\u001b[39;00m\n\u001b[1;32m      4\u001b[0m X_2d \u001b[38;5;241m=\u001b[39m UMAP(\n\u001b[1;32m      5\u001b[0m   n_components\u001b[38;5;241m=\u001b[39m\u001b[38;5;241m2\u001b[39m, n_neighbors\u001b[38;5;241m=\u001b[39m\u001b[38;5;241m200\u001b[39m, min_dist\u001b[38;5;241m=\u001b[39m\u001b[38;5;241m0\u001b[39m\n\u001b[1;32m      6\u001b[0m )\u001b[38;5;241m.\u001b[39mfit_transform(X)\n",
      "\u001b[0;31mModuleNotFoundError\u001b[0m: No module named 'umap'"
     ]
    }
   ],
   "source": [
    "from umap import UMAP\n",
    "\n",
    "# compute 2D embedding of raw variable values\n",
    "X_2d = UMAP(\n",
    "  n_components=2, n_neighbors=200, min_dist=0\n",
    ").fit_transform(X)\n",
    "\n",
    "# compute 2D embedding of SHAP values\n",
    "s_2d = UMAP(\n",
    "  n_components=2, n_neighbors=200, min_dist=0\n",
    ").fit_transform(shap_values.values[:, :, 1])"
   ]
  },
  {
   "cell_type": "code",
   "execution_count": null,
   "id": "94014a73",
   "metadata": {},
   "outputs": [],
   "source": []
  }
 ],
 "metadata": {
  "hide_input": false,
  "kernelspec": {
   "display_name": "Python 3",
   "language": "python",
   "name": "python3"
  },
  "language_info": {
   "codemirror_mode": {
    "name": "ipython",
    "version": 3
   },
   "file_extension": ".py",
   "mimetype": "text/x-python",
   "name": "python",
   "nbconvert_exporter": "python",
   "pygments_lexer": "ipython3",
   "version": "3.6.13"
  },
  "toc": {
   "base_numbering": 1,
   "nav_menu": {},
   "number_sections": true,
   "sideBar": true,
   "skip_h1_title": false,
   "title_cell": "Table of Contents",
   "title_sidebar": "Contents",
   "toc_cell": false,
   "toc_position": {},
   "toc_section_display": true,
   "toc_window_display": false
  }
 },
 "nbformat": 4,
 "nbformat_minor": 5
}
