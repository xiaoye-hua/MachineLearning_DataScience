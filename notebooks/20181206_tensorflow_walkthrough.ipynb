{
 "cells": [
  {
   "cell_type": "markdown",
   "metadata": {
    "colab_type": "text",
    "id": "drbQGg8BEFmG"
   },
   "source": [
    "tensorflow 官网教程学习。 [网址](https://www.tensorflow.org/tutorials/eager/custom_training_walkthrough)"
   ]
  },
  {
   "cell_type": "markdown",
   "metadata": {
    "colab_type": "text",
    "id": "AgDj-hsmEF4O"
   },
   "source": [
    "# Set up"
   ]
  },
  {
   "cell_type": "code",
   "execution_count": 0,
   "metadata": {
    "colab": {},
    "colab_type": "code",
    "id": "nSIh7L5w_eXr"
   },
   "outputs": [],
   "source": [
    "import tensorflow as tf\n",
    "tf.enable_eager_execution()\n",
    "\n",
    "import tensorflow.contrib.eager as tfe\n",
    "\n",
    "\n"
   ]
  },
  {
   "cell_type": "code",
   "execution_count": 0,
   "metadata": {
    "colab": {},
    "colab_type": "code",
    "id": "dQX_wPy9zxnp"
   },
   "outputs": [],
   "source": [
    "import matplotlib.pyplot as plt"
   ]
  },
  {
   "cell_type": "markdown",
   "metadata": {
    "colab_type": "text",
    "id": "3pta_1hR-8Zb"
   },
   "source": [
    "# Import and parse data"
   ]
  },
  {
   "cell_type": "code",
   "execution_count": 3,
   "metadata": {
    "colab": {
     "base_uri": "https://localhost:8080/",
     "height": 72
    },
    "colab_type": "code",
    "id": "toY9NPg_BFEu",
    "outputId": "de060ba8-a47e-4368-82f4-adf46f46d8d9"
   },
   "outputs": [
    {
     "name": "stdout",
     "output_type": "stream",
     "text": [
      "Downloading data from http://download.tensorflow.org/data/iris_training.csv\n",
      "8192/2194 [================================================================================================================] - 0s 0us/step\n"
     ]
    }
   ],
   "source": [
    "train_dataset_url =  \"http://download.tensorflow.org/data/iris_training.csv\"\n",
    "train_dataset_csv = tf.keras.utils.get_file(\n",
    "    fname = 'iris_data',\n",
    "    origin = train_dataset_url\n",
    ")"
   ]
  },
  {
   "cell_type": "code",
   "execution_count": 4,
   "metadata": {
    "colab": {
     "base_uri": "https://localhost:8080/",
     "height": 34
    },
    "colab_type": "code",
    "id": "YAXoaH0EBzQY",
    "outputId": "4248c008-f2b5-4fa0-d811-8800d500577c"
   },
   "outputs": [
    {
     "data": {
      "text/plain": [
       "'/root/.keras/datasets/iris_data'"
      ]
     },
     "execution_count": 4,
     "metadata": {
      "tags": []
     },
     "output_type": "execute_result"
    }
   ],
   "source": [
    "train_dataset_csv"
   ]
  },
  {
   "cell_type": "code",
   "execution_count": 5,
   "metadata": {
    "colab": {
     "base_uri": "https://localhost:8080/",
     "height": 105
    },
    "colab_type": "code",
    "id": "FCuCvJShB3bn",
    "outputId": "4ed7d5c2-bc6f-4d2b-a773-87d67efdd903"
   },
   "outputs": [
    {
     "name": "stdout",
     "output_type": "stream",
     "text": [
      "120,4,setosa,versicolor,virginica\n",
      "6.4,2.8,5.6,2.2,2\n",
      "5.0,2.3,3.3,1.0,1\n",
      "4.9,2.5,4.5,1.7,2\n",
      "4.9,3.1,1.5,0.1,0\n"
     ]
    }
   ],
   "source": [
    "! head -5 {train_dataset_csv}"
   ]
  },
  {
   "cell_type": "code",
   "execution_count": 0,
   "metadata": {
    "colab": {},
    "colab_type": "code",
    "id": "M44QKyQ-GCXn"
   },
   "outputs": [],
   "source": [
    "column_names = ['sepal_length', 'sepal_width', 'petal_length', 'petal_width', 'species']\n",
    "class_names = ['Iris setosa', 'Iris versicolor', 'Iris virginica']\n",
    "\n",
    "feature_names = column_names[:-1]\n",
    "label_name = column_names[-1]"
   ]
  },
  {
   "cell_type": "code",
   "execution_count": 7,
   "metadata": {
    "colab": {
     "base_uri": "https://localhost:8080/",
     "height": 34
    },
    "colab_type": "code",
    "id": "15L_xuz1GbNB",
    "outputId": "eeb2c3ce-2748-43de-a33a-670acb9894f0"
   },
   "outputs": [
    {
     "data": {
      "text/plain": [
       "['sepal_length', 'sepal_width', 'petal_length', 'petal_width']"
      ]
     },
     "execution_count": 7,
     "metadata": {
      "tags": []
     },
     "output_type": "execute_result"
    }
   ],
   "source": [
    "feature_names"
   ]
  },
  {
   "cell_type": "code",
   "execution_count": 8,
   "metadata": {
    "colab": {
     "base_uri": "https://localhost:8080/",
     "height": 34
    },
    "colab_type": "code",
    "id": "zgpo28TkGdrI",
    "outputId": "a0f1421f-6cc3-46b3-8411-f6aead050b75"
   },
   "outputs": [
    {
     "data": {
      "text/plain": [
       "'species'"
      ]
     },
     "execution_count": 8,
     "metadata": {
      "tags": []
     },
     "output_type": "execute_result"
    }
   ],
   "source": [
    "label_name"
   ]
  },
  {
   "cell_type": "code",
   "execution_count": 0,
   "metadata": {
    "colab": {},
    "colab_type": "code",
    "id": "NjZHvIVwFPCP"
   },
   "outputs": [],
   "source": [
    "batch_size = 32\n",
    "\n",
    "train_dataset = tf.data.experimental.make_csv_dataset(\n",
    "  [train_dataset_csv],\n",
    "    batch_size = batch_size,\n",
    "    column_names = column_names,\n",
    "    label_name = label_name,\n",
    "    num_epochs = 1\n",
    ")"
   ]
  },
  {
   "cell_type": "code",
   "execution_count": 0,
   "metadata": {
    "colab": {},
    "colab_type": "code",
    "id": "8q4ppRkNCHG4"
   },
   "outputs": [],
   "source": [
    "feature, label = next(iter(train_dataset))"
   ]
  },
  {
   "cell_type": "code",
   "execution_count": 11,
   "metadata": {
    "colab": {
     "base_uri": "https://localhost:8080/",
     "height": 298
    },
    "colab_type": "code",
    "id": "2GsBMWcCJ2HX",
    "outputId": "a4f319e5-b4c5-49c6-a533-44cfd8f85ded"
   },
   "outputs": [
    {
     "data": {
      "text/plain": [
       "[<tf.Tensor: id=68, shape=(32,), dtype=float32, numpy=\n",
       " array([6.6, 4.6, 4.9, 5.1, 6.4, 6.1, 5.1, 5.8, 6.9, 4.8, 5.1, 5.7, 5.2,\n",
       "        6.1, 4.4, 5.9, 4.5, 6.4, 4.4, 5.5, 5. , 4.8, 6.3, 5.8, 6.4, 5.4,\n",
       "        7.7, 6.3, 4.9, 6.1, 6.3, 7.4], dtype=float32)>,\n",
       " <tf.Tensor: id=69, shape=(32,), dtype=float32, numpy=\n",
       " array([2.9, 3.2, 3.1, 3.5, 2.7, 2.9, 3.8, 2.7, 3.1, 3. , 3.7, 3. , 3.4,\n",
       "        2.6, 3. , 3.2, 2.3, 3.2, 2.9, 2.6, 3.6, 3.4, 2.3, 4. , 3.1, 3.9,\n",
       "        3. , 3.4, 3.1, 3. , 2.7, 2.8], dtype=float32)>,\n",
       " <tf.Tensor: id=66, shape=(32,), dtype=float32, numpy=\n",
       " array([4.6, 1.4, 1.5, 1.4, 5.3, 4.7, 1.5, 5.1, 5.1, 1.4, 1.5, 4.2, 1.4,\n",
       "        5.6, 1.3, 4.8, 1.3, 5.3, 1.4, 4.4, 1.4, 1.6, 4.4, 1.2, 5.5, 1.3,\n",
       "        6.1, 5.6, 1.5, 4.9, 4.9, 6.1], dtype=float32)>,\n",
       " <tf.Tensor: id=67, shape=(32,), dtype=float32, numpy=\n",
       " array([1.3, 0.2, 0.1, 0.3, 1.9, 1.4, 0.3, 1.9, 2.3, 0.1, 0.4, 1.2, 0.2,\n",
       "        1.4, 0.2, 1.8, 0.3, 2.3, 0.2, 1.2, 0.2, 0.2, 1.3, 0.2, 1.8, 0.4,\n",
       "        2.3, 2.4, 0.1, 1.8, 1.8, 1.9], dtype=float32)>]"
      ]
     },
     "execution_count": 11,
     "metadata": {
      "tags": []
     },
     "output_type": "execute_result"
    }
   ],
   "source": [
    "list(feature.values())"
   ]
  },
  {
   "cell_type": "code",
   "execution_count": 0,
   "metadata": {
    "colab": {},
    "colab_type": "code",
    "id": "B3095DZmHyWq"
   },
   "outputs": [],
   "source": [
    "def parse_feature(features, label):\n",
    "  features = tf.stack(list(features.values()), axis=1)\n",
    "  return (features, label)"
   ]
  },
  {
   "cell_type": "code",
   "execution_count": 0,
   "metadata": {
    "colab": {},
    "colab_type": "code",
    "id": "dmo5Z4hjJUPV"
   },
   "outputs": [],
   "source": [
    "train_dataset = train_dataset.map(parse_feature)"
   ]
  },
  {
   "cell_type": "code",
   "execution_count": 0,
   "metadata": {
    "colab": {},
    "colab_type": "code",
    "id": "g5fIN9T4KS4v"
   },
   "outputs": [],
   "source": [
    "feature, label = next(iter(train_dataset))"
   ]
  },
  {
   "cell_type": "code",
   "execution_count": 15,
   "metadata": {
    "colab": {
     "base_uri": "https://localhost:8080/",
     "height": 598
    },
    "colab_type": "code",
    "id": "aRiKOSFgKUov",
    "outputId": "428680a4-3c64-4bfa-9fa3-fe99c11e73d5"
   },
   "outputs": [
    {
     "data": {
      "text/plain": [
       "<tf.Tensor: id=102, shape=(32, 4), dtype=float32, numpy=\n",
       "array([[7.3, 2.9, 6.3, 1.8],\n",
       "       [5.8, 2.7, 4.1, 1. ],\n",
       "       [6. , 2.9, 4.5, 1.5],\n",
       "       [5. , 2. , 3.5, 1. ],\n",
       "       [5.3, 3.7, 1.5, 0.2],\n",
       "       [6.5, 3. , 5.8, 2.2],\n",
       "       [6.3, 3.3, 6. , 2.5],\n",
       "       [4.8, 3.1, 1.6, 0.2],\n",
       "       [6.7, 3.1, 4.4, 1.4],\n",
       "       [4.9, 3. , 1.4, 0.2],\n",
       "       [5.7, 2.8, 4.5, 1.3],\n",
       "       [7.6, 3. , 6.6, 2.1],\n",
       "       [4.7, 3.2, 1.3, 0.2],\n",
       "       [6.4, 3.1, 5.5, 1.8],\n",
       "       [5.2, 3.4, 1.4, 0.2],\n",
       "       [5.2, 2.7, 3.9, 1.4],\n",
       "       [5. , 2.3, 3.3, 1. ],\n",
       "       [5.1, 2.5, 3. , 1.1],\n",
       "       [5.7, 3. , 4.2, 1.2],\n",
       "       [4.9, 3.1, 1.5, 0.1],\n",
       "       [6.2, 2.8, 4.8, 1.8],\n",
       "       [5.9, 3. , 5.1, 1.8],\n",
       "       [5.7, 2.9, 4.2, 1.3],\n",
       "       [6.3, 3.4, 5.6, 2.4],\n",
       "       [5.7, 4.4, 1.5, 0.4],\n",
       "       [5.5, 2.6, 4.4, 1.2],\n",
       "       [6.5, 3. , 5.2, 2. ],\n",
       "       [5. , 3. , 1.6, 0.2],\n",
       "       [6.4, 2.7, 5.3, 1.9],\n",
       "       [5.7, 3.8, 1.7, 0.3],\n",
       "       [5.1, 3.8, 1.6, 0.2],\n",
       "       [4.8, 3. , 1.4, 0.3]], dtype=float32)>"
      ]
     },
     "execution_count": 15,
     "metadata": {
      "tags": []
     },
     "output_type": "execute_result"
    }
   ],
   "source": [
    "feature"
   ]
  },
  {
   "cell_type": "markdown",
   "metadata": {
    "colab_type": "text",
    "id": "F6CUKGvl_OcT"
   },
   "source": [
    "# Model selection "
   ]
  },
  {
   "cell_type": "code",
   "execution_count": 0,
   "metadata": {
    "colab": {},
    "colab_type": "code",
    "id": "P5vnVoTOJTZ8"
   },
   "outputs": [],
   "source": [
    "model = tf.keras.Sequential(\n",
    "  [tf.keras.layers.Dense(10, activation=tf.nn.relu, input_shape=(4, )),\n",
    "    tf.keras.layers.Dense(10, activation=tf.nn.relu),\n",
    "    tf.keras.layers.Dense(3)]\n",
    ")"
   ]
  },
  {
   "cell_type": "code",
   "execution_count": 17,
   "metadata": {
    "colab": {
     "base_uri": "https://localhost:8080/",
     "height": 122
    },
    "colab_type": "code",
    "id": "ZVholgFalhBI",
    "outputId": "6daf4f66-e50b-4744-c7e4-8a90ca9d16b3"
   },
   "outputs": [
    {
     "data": {
      "text/plain": [
       "<tf.Tensor: id=194, shape=(5, 3), dtype=float32, numpy=\n",
       "array([[-1.6076798 , -0.80675673, -1.5272481 ],\n",
       "       [-1.3450482 , -0.53869826, -1.0933836 ],\n",
       "       [-1.4350795 , -0.62759906, -1.2170835 ],\n",
       "       [-1.0900052 , -0.4348267 , -0.97761047],\n",
       "       [-1.6786759 , -0.22416122, -0.5665835 ]], dtype=float32)>"
      ]
     },
     "execution_count": 17,
     "metadata": {
      "tags": []
     },
     "output_type": "execute_result"
    }
   ],
   "source": [
    "y = model(feature)\n",
    "\n",
    "\n",
    "y[:5]"
   ]
  },
  {
   "cell_type": "code",
   "execution_count": 18,
   "metadata": {
    "colab": {
     "base_uri": "https://localhost:8080/",
     "height": 686
    },
    "colab_type": "code",
    "id": "bFeY0u6Hl-yw",
    "outputId": "d61e12e5-f3d2-44e6-aff5-a21ec5c0c6ad"
   },
   "outputs": [
    {
     "name": "stdout",
     "output_type": "stream",
     "text": [
      "Help on function sparse_softmax_cross_entropy in module tensorflow.python.ops.losses.losses_impl:\n",
      "\n",
      "sparse_softmax_cross_entropy(labels, logits, weights=1.0, scope=None, loss_collection='losses', reduction='weighted_sum_by_nonzero_weights')\n",
      "    Cross-entropy loss using `tf.nn.sparse_softmax_cross_entropy_with_logits`.\n",
      "    \n",
      "    `weights` acts as a coefficient for the loss. If a scalar is provided,\n",
      "    then the loss is simply scaled by the given value. If `weights` is a\n",
      "    tensor of shape `[batch_size]`, then the loss weights apply to each\n",
      "    corresponding sample.\n",
      "    \n",
      "    Args:\n",
      "      labels: `Tensor` of shape `[d_0, d_1, ..., d_{r-1}]` (where `r` is rank of\n",
      "        `labels` and result) and dtype `int32` or `int64`. Each entry in `labels`\n",
      "        must be an index in `[0, num_classes)`. Other values will raise an\n",
      "        exception when this op is run on CPU, and return `NaN` for corresponding\n",
      "        loss and gradient rows on GPU.\n",
      "      logits: Unscaled log probabilities of shape\n",
      "        `[d_0, d_1, ..., d_{r-1}, num_classes]` and dtype `float16`, `float32` or\n",
      "        `float64`.\n",
      "      weights: Coefficients for the loss. This must be scalar or broadcastable to\n",
      "        `labels` (i.e. same rank and each dimension is either 1 or the same).\n",
      "      scope: the scope for the operations performed in computing the loss.\n",
      "      loss_collection: collection to which the loss will be added.\n",
      "      reduction: Type of reduction to apply to loss.\n",
      "    \n",
      "    Returns:\n",
      "      Weighted loss `Tensor` of the same type as `logits`. If `reduction` is\n",
      "      `NONE`, this has the same shape as `labels`; otherwise, it is scalar.\n",
      "    \n",
      "    Raises:\n",
      "      ValueError: If the shapes of `logits`, `labels`, and `weights` are\n",
      "        incompatible, or if any of them are None.\n",
      "    \n",
      "    @compatibility(eager)\n",
      "    The `loss_collection` argument is ignored when executing eagerly. Consider\n",
      "    holding on to the return value or collecting losses via a `tf.keras.Model`.\n",
      "    @end_compatibility\n",
      "\n"
     ]
    }
   ],
   "source": [
    "help(tf.losses.sparse_softmax_cross_entropy)"
   ]
  },
  {
   "cell_type": "markdown",
   "metadata": {
    "colab_type": "text",
    "id": "pJSt-IF-_YNr"
   },
   "source": [
    "# Training "
   ]
  },
  {
   "cell_type": "code",
   "execution_count": 0,
   "metadata": {
    "colab": {},
    "colab_type": "code",
    "id": "e00XSXXIsxV-"
   },
   "outputs": [],
   "source": [
    "def loss(model, x, y):\n",
    "  y_ = model(x)\n",
    "  return tf.losses.sparse_softmax_cross_entropy(labels=y, logits=y_)"
   ]
  },
  {
   "cell_type": "code",
   "execution_count": 20,
   "metadata": {
    "colab": {
     "base_uri": "https://localhost:8080/",
     "height": 34
    },
    "colab_type": "code",
    "id": "ZPtftLYSs2yG",
    "outputId": "82a2ea97-2d89-4ab0-bde4-3ffbe53dce3b"
   },
   "outputs": [
    {
     "data": {
      "text/plain": [
       "<tf.Tensor: id=241, shape=(), dtype=float32, numpy=1.3608472>"
      ]
     },
     "execution_count": 20,
     "metadata": {
      "tags": []
     },
     "output_type": "execute_result"
    }
   ],
   "source": [
    "loss(model, feature, label)"
   ]
  },
  {
   "cell_type": "code",
   "execution_count": 0,
   "metadata": {
    "colab": {},
    "colab_type": "code",
    "id": "MEv67VUBs4KH"
   },
   "outputs": [],
   "source": [
    "def grad(model, input_val, target):\n",
    "  with tf.GradientTape() as tape:\n",
    "    loss_value = loss(model, input_val, target)\n",
    "  return loss_value, tape.gradient(loss_value, model.trainable_variables)"
   ]
  },
  {
   "cell_type": "code",
   "execution_count": 0,
   "metadata": {
    "colab": {},
    "colab_type": "code",
    "id": "rI7Ymhr0wXCc"
   },
   "outputs": [],
   "source": [
    "optmizor = tf.train.GradientDescentOptimizer(learning_rate=0.01)\n",
    "step = tf.train.get_or_create_global_step()"
   ]
  },
  {
   "cell_type": "code",
   "execution_count": 23,
   "metadata": {
    "colab": {
     "base_uri": "https://localhost:8080/",
     "height": 210
    },
    "colab_type": "code",
    "id": "ee9DOwtCwW3T",
    "outputId": "052f06a0-1446-479d-84f4-0a37fcb6b03d"
   },
   "outputs": [
    {
     "name": "stdout",
     "output_type": "stream",
     "text": [
      "Epoch 000: Loss: 1.365, Accuracy: 30.000%\n",
      "Epoch 050: Loss: 0.603, Accuracy: 70.833%\n",
      "Epoch 100: Loss: 0.369, Accuracy: 91.667%\n",
      "Epoch 150: Loss: 0.267, Accuracy: 96.667%\n",
      "Epoch 200: Loss: 0.191, Accuracy: 96.667%\n",
      "Epoch 250: Loss: 0.154, Accuracy: 96.667%\n",
      "Epoch 300: Loss: 0.137, Accuracy: 95.833%\n",
      "Epoch 350: Loss: 0.108, Accuracy: 97.500%\n",
      "Epoch 400: Loss: 0.094, Accuracy: 98.333%\n",
      "Epoch 450: Loss: 0.099, Accuracy: 97.500%\n",
      "Epoch 500: Loss: 0.086, Accuracy: 98.333%\n"
     ]
    }
   ],
   "source": [
    "train_loss_result = []\n",
    "train_accuracy_result = []\n",
    "\n",
    "num_epochs = 501\n",
    "\n",
    "for epoch in range(num_epochs):\n",
    "  epoch_loss = tfe.metrics.Mean()\n",
    "  epoch_accuracy = tfe.metrics.Accuracy()\n",
    "  \n",
    "  for x, y in train_dataset:\n",
    "    loss_value, grads = grad(model, x, y)\n",
    "    optmizor.apply_gradients(zip(grads, model.trainable_variables), step)\n",
    "    epoch_loss(loss_value)\n",
    "    epoch_accuracy(tf.argmax(model(x), axis=1, output_type=tf.int32), y)\n",
    "  train_loss_result.append(epoch_loss.result())\n",
    "  train_accuracy_result.append(epoch_accuracy.result())\n",
    "  if epoch % 50 == 0:\n",
    "      print(\"Epoch {:03d}: Loss: {:.3f}, Accuracy: {:.3%}\".format(epoch,\n",
    "                                                                  epoch_loss.result(),\n",
    "                                                                epoch_accuracy.result()))"
   ]
  },
  {
   "cell_type": "markdown",
   "metadata": {
    "colab_type": "text",
    "id": "-7MuwGxo_bGj"
   },
   "source": [
    "# Evaluation"
   ]
  },
  {
   "cell_type": "code",
   "execution_count": 24,
   "metadata": {
    "colab": {
     "base_uri": "https://localhost:8080/",
     "height": 558
    },
    "colab_type": "code",
    "id": "9LOo0rPX_Wsb",
    "outputId": "a0bcbc74-cac2-462d-a351-6083c9c574b7"
   },
   "outputs": [
    {
     "data": {
      "image/png": "[encoded data removed]",
      "text/plain": [
       "<matplotlib.figure.Figure at 0x7fcf8aa62780>"
      ]
     },
     "metadata": {
      "tags": []
     },
     "output_type": "display_data"
    }
   ],
   "source": [
    "fig, axes = plt.subplots(2, sharex=True, figsize=(12, 8))\n",
    "fig.suptitle('Training Metrics')\n",
    "\n",
    "axes[0].set_ylabel(\"Loss\", fontsize=14)\n",
    "axes[0].plot(train_loss_result)\n",
    "\n",
    "axes[1].set_ylabel(\"Accuracy\", fontsize=14)\n",
    "axes[1].set_xlabel(\"Epoch\", fontsize=14)\n",
    "axes[1].plot(train_accuracy_result);"
   ]
  },
  {
   "cell_type": "code",
   "execution_count": 26,
   "metadata": {
    "colab": {
     "base_uri": "https://localhost:8080/",
     "height": 72
    },
    "colab_type": "code",
    "id": "NxYHeOVJztuc",
    "outputId": "ebfb3f1d-4e40-4295-9b1b-3834323210d2"
   },
   "outputs": [
    {
     "name": "stdout",
     "output_type": "stream",
     "text": [
      "Downloading data from http://download.tensorflow.org/data/iris_test.csv\n",
      "\r",
      "8192/573 [============================================================================================================================================================================================================================================================================================================================================================================================================================================] - 0s 0us/step\n"
     ]
    }
   ],
   "source": [
    "test_url = \"http://download.tensorflow.org/data/iris_test.csv\"\n",
    "\n",
    "test_dataset_csv = tf.keras.utils.get_file(\n",
    "  fname = 'test_data',\n",
    "  origin = test_url\n",
    ")"
   ]
  },
  {
   "cell_type": "code",
   "execution_count": 28,
   "metadata": {
    "colab": {
     "base_uri": "https://localhost:8080/",
     "height": 70
    },
    "colab_type": "code",
    "id": "jGIJQI7-z9iK",
    "outputId": "3c8ca8d8-b734-49c4-c805-ae7e726db3cc"
   },
   "outputs": [
    {
     "name": "stdout",
     "output_type": "stream",
     "text": [
      "WARNING:tensorflow:From <ipython-input-28-0666fa6fcccb>:7: make_csv_dataset (from tensorflow.contrib.data.python.ops.readers) is deprecated and will be removed in a future version.\n",
      "Instructions for updating:\n",
      "Use `tf.data.experimental.make_csv_dataset(...)`.\n"
     ]
    }
   ],
   "source": [
    "test_dataset = tf.contrib.data.make_csv_dataset(\n",
    "    test_dataset_csv,\n",
    "    batch_size, \n",
    "    column_names=column_names,\n",
    "    label_name='species',\n",
    "    num_epochs=1,\n",
    "    shuffle=False)\n",
    "\n",
    "test_dataset = test_dataset.map(parse_feature)"
   ]
  },
  {
   "cell_type": "code",
   "execution_count": 37,
   "metadata": {
    "colab": {
     "base_uri": "https://localhost:8080/",
     "height": 34
    },
    "colab_type": "code",
    "id": "4Omu8HiXBua5",
    "outputId": "e6732309-6d8f-4ddc-9ff1-b0902de5242d"
   },
   "outputs": [
    {
     "name": "stdout",
     "output_type": "stream",
     "text": [
      "tf.Tensor(0.9666666666666667, shape=(), dtype=float64)\n"
     ]
    }
   ],
   "source": [
    "accuracy = tfe.metrics.Accuracy()\n",
    "for (x, y) in test_dataset:\n",
    "  logit = model(x)\n",
    "  prediction = tf.argmax(logit, axis=1, output_type= tf.int32)\n",
    "#   print(prediction)\n",
    "  accuracy(prediction, y)\n",
    "#   print(accuracy)\n",
    "print(accuracy.result())"
   ]
  },
  {
   "cell_type": "markdown",
   "metadata": {
    "colab_type": "text",
    "id": "e3M1jMbKD2wl"
   },
   "source": [
    "# Prediction"
   ]
  },
  {
   "cell_type": "code",
   "execution_count": 39,
   "metadata": {
    "colab": {
     "base_uri": "https://localhost:8080/",
     "height": 70
    },
    "colab_type": "code",
    "id": "q0-f9rnTD2B3",
    "outputId": "d38ad5a0-28f9-4aa1-afd7-56c2744181fa"
   },
   "outputs": [
    {
     "name": "stdout",
     "output_type": "stream",
     "text": [
      "Example 0 prediction: Iris setosa (99.6%)\n",
      "Example 1 prediction: Iris versicolor (98.6%)\n",
      "Example 2 prediction: Iris virginica (82.4%)\n"
     ]
    }
   ],
   "source": [
    "predict_dataset = tf.convert_to_tensor([\n",
    "    [5.1, 3.3, 1.7, 0.5,],\n",
    "    [5.9, 3.0, 4.2, 1.5,],\n",
    "    [6.9, 3.1, 5.4, 2.1]\n",
    "])\n",
    "\n",
    "predictions = model(predict_dataset)\n",
    "\n",
    "for i, logits in enumerate(predictions):\n",
    "  class_idx = tf.argmax(logits).numpy()\n",
    "#   print(class_idx)\n",
    "  p = tf.nn.softmax(logits)[class_idx]\n",
    "  name = class_names[class_idx]\n",
    "  print(\"Example {} prediction: {} ({:4.1f}%)\".format(i, name, 100*p))"
   ]
  }
 ],
 "metadata": {
  "colab": {
   "collapsed_sections": [],
   "name": "gh_copy.ipynb",
   "provenance": [],
   "toc_visible": true,
   "version": "0.3.2"
  },
  "kernelspec": {
   "display_name": "Python 3",
   "language": "python",
   "name": "python3"
  },
  "language_info": {
   "codemirror_mode": {
    "name": "ipython",
    "version": 3
   },
   "file_extension": ".py",
   "mimetype": "text/x-python",
   "name": "python",
   "nbconvert_exporter": "python",
   "pygments_lexer": "ipython3",
   "version": "3.6.6"
  },
  "toc": {
   "base_numbering": 1,
   "nav_menu": {},
   "number_sections": true,
   "sideBar": true,
   "skip_h1_title": false,
   "title_cell": "Table of Contents",
   "title_sidebar": "Contents",
   "toc_cell": false,
   "toc_position": {},
   "toc_section_display": true,
   "toc_window_display": false
  }
 },
 "nbformat": 4,
 "nbformat_minor": 1
}
