{
 "cells": [
  {
   "cell_type": "markdown",
   "metadata": {},
   "source": [
    "# Module"
   ]
  },
  {
   "cell_type": "code",
   "execution_count": 362,
   "metadata": {
    "_cell_guid": "b1076dfc-b9ad-4769-8c92-a6c4dae69d19",
    "_uuid": "8f2839f25d086af736a60e9eeb907d3b93b6e0e5",
    "execution": {
     "iopub.execute_input": "2021-10-01T01:13:06.883696Z",
     "iopub.status.busy": "2021-10-01T01:13:06.882907Z",
     "iopub.status.idle": "2021-10-01T01:13:08.034688Z",
     "shell.execute_reply": "2021-10-01T01:13:08.033848Z",
     "shell.execute_reply.started": "2021-10-01T01:13:06.883590Z"
    }
   },
   "outputs": [
    {
     "name": "stdout",
     "output_type": "stream",
     "text": [
      "The autoreload extension is already loaded. To reload it, use:\n",
      "  %reload_ext autoreload\n"
     ]
    }
   ],
   "source": [
    "%matplotlib inline\n",
    "%load_ext autoreload\n",
    "%autoreload 2\n",
    "# This Python 3 environment comes with many helpful analytics libraries installed\n",
    "# It is defined by the kaggle/python Docker image: https://github.com/kaggle/docker-python\n",
    "# For example, here's several helpful packages to load\n",
    "\n",
    "import numpy as np # linear algebra\n",
    "import pandas as pd # data processing, CSV file I/O (e.g. pd.read_csv)\n",
    "import seaborn as sns\n",
    "from xgboost.sklearn import XGBClassifier\n",
    "import os\n",
    "import datetime\n",
    "import matplotlib.pyplot as plt\n",
    "\n",
    "\n",
    "import sys\n",
    "sys.path.append(\"../\")\n",
    "from src.EDA import get_col_type_dist\n",
    "from src.EDA.plot_utils import category_view_binary\n",
    "from src.DataProcessor.NewOrdinalEncoder import NewOrdinalEncoder\n"
   ]
  },
  {
   "cell_type": "markdown",
   "metadata": {},
   "source": [
    "# Conf "
   ]
  },
  {
   "cell_type": "code",
   "execution_count": 363,
   "metadata": {},
   "outputs": [],
   "source": [
    "debug = False\n",
    "pkl_data_source = True\n",
    "\n",
    "debug_sample_size = 10000\n",
    "file_dir = \"../data/ieee-fraud-detection/\"\n",
    "pkl_file_dir = \"../data/ieee-fraud-detection/pkl_file/\""
   ]
  },
  {
   "cell_type": "code",
   "execution_count": 364,
   "metadata": {},
   "outputs": [],
   "source": [
    "if not os.path.exists(pkl_file_dir):\n",
    "    os.mkdir(pkl_file_dir)\n",
    "    "
   ]
  },
  {
   "cell_type": "code",
   "execution_count": 365,
   "metadata": {
    "execution": {
     "iopub.execute_input": "2021-10-01T01:13:19.361021Z",
     "iopub.status.busy": "2021-10-01T01:13:19.360725Z",
     "iopub.status.idle": "2021-10-01T01:13:19.365569Z",
     "shell.execute_reply": "2021-10-01T01:13:19.364646Z",
     "shell.execute_reply.started": "2021-10-01T01:13:19.360990Z"
    }
   },
   "outputs": [],
   "source": [
    "ind_train = os.path.join(file_dir, \"train_identity.csv\")\n",
    "tra_train = os.path.join(file_dir, \"train_transaction.csv\")\n",
    "\n",
    "ind_test = os.path.join(file_dir, \"test_identity.csv\")\n",
    "tra_test = os.path.join(file_dir, \"test_transaction.csv\")"
   ]
  },
  {
   "cell_type": "markdown",
   "metadata": {},
   "source": [
    "# Data Review "
   ]
  },
  {
   "cell_type": "markdown",
   "metadata": {},
   "source": [
    "## Descriptive function "
   ]
  },
  {
   "cell_type": "code",
   "execution_count": 366,
   "metadata": {},
   "outputs": [],
   "source": [
    "def col_absence(train, test):\n",
    "    train_col = list(train.columns)\n",
    "    test_col = list(test.columns)\n",
    "\n",
    "    train_absence = [col for col in train_col+test_col if col not in train_col]\n",
    "    test_absence = [col for col in train_col+test_col if col not in test_col]\n",
    "\n",
    "    print(f\"train_absence: {len(train_absence)}\")\n",
    "    print(train_absence)\n",
    "    print(f\"test_absence: {len(test_absence)}\")\n",
    "    print(test_absence)"
   ]
  },
  {
   "cell_type": "code",
   "execution_count": 420,
   "metadata": {},
   "outputs": [
    {
     "data": {
      "text/html": [
       "<div>\n",
       "<style scoped>\n",
       "    .dataframe tbody tr th:only-of-type {\n",
       "        vertical-align: middle;\n",
       "    }\n",
       "\n",
       "    .dataframe tbody tr th {\n",
       "        vertical-align: top;\n",
       "    }\n",
       "\n",
       "    .dataframe thead th {\n",
       "        text-align: right;\n",
       "    }\n",
       "</style>\n",
       "<table border=\"1\" class=\"dataframe\">\n",
       "  <thead>\n",
       "    <tr style=\"text-align: right;\">\n",
       "      <th></th>\n",
       "      <th>TransactionID</th>\n",
       "      <th>isFraud</th>\n",
       "      <th>TransactionDT</th>\n",
       "      <th>TransactionAmt</th>\n",
       "      <th>ProductCD</th>\n",
       "      <th>card1</th>\n",
       "      <th>card2</th>\n",
       "      <th>card3</th>\n",
       "      <th>card4</th>\n",
       "      <th>card5</th>\n",
       "      <th>...</th>\n",
       "      <th>id-36</th>\n",
       "      <th>id-37</th>\n",
       "      <th>id-38</th>\n",
       "      <th>DeviceType</th>\n",
       "      <th>DeviceInfo</th>\n",
       "      <th>DT_M</th>\n",
       "      <th>DT_W</th>\n",
       "      <th>DT_D</th>\n",
       "      <th>DT_H</th>\n",
       "      <th>DT_DayOfWeek</th>\n",
       "    </tr>\n",
       "  </thead>\n",
       "  <tbody>\n",
       "    <tr>\n",
       "      <th>0</th>\n",
       "      <td>2987000</td>\n",
       "      <td>0</td>\n",
       "      <td>86400</td>\n",
       "      <td>68.5</td>\n",
       "      <td>W</td>\n",
       "      <td>13926</td>\n",
       "      <td>NaN</td>\n",
       "      <td>150.0</td>\n",
       "      <td>discover</td>\n",
       "      <td>142.0</td>\n",
       "      <td>...</td>\n",
       "      <td>NaN</td>\n",
       "      <td>NaN</td>\n",
       "      <td>NaN</td>\n",
       "      <td>NaN</td>\n",
       "      <td>NaN</td>\n",
       "      <td>1</td>\n",
       "      <td>5</td>\n",
       "      <td>31</td>\n",
       "      <td>0</td>\n",
       "      <td>1</td>\n",
       "    </tr>\n",
       "    <tr>\n",
       "      <th>1</th>\n",
       "      <td>2987001</td>\n",
       "      <td>0</td>\n",
       "      <td>86401</td>\n",
       "      <td>29.0</td>\n",
       "      <td>W</td>\n",
       "      <td>2755</td>\n",
       "      <td>404.0</td>\n",
       "      <td>150.0</td>\n",
       "      <td>mastercard</td>\n",
       "      <td>102.0</td>\n",
       "      <td>...</td>\n",
       "      <td>NaN</td>\n",
       "      <td>NaN</td>\n",
       "      <td>NaN</td>\n",
       "      <td>NaN</td>\n",
       "      <td>NaN</td>\n",
       "      <td>1</td>\n",
       "      <td>5</td>\n",
       "      <td>31</td>\n",
       "      <td>0</td>\n",
       "      <td>1</td>\n",
       "    </tr>\n",
       "    <tr>\n",
       "      <th>2</th>\n",
       "      <td>2987002</td>\n",
       "      <td>0</td>\n",
       "      <td>86469</td>\n",
       "      <td>59.0</td>\n",
       "      <td>W</td>\n",
       "      <td>4663</td>\n",
       "      <td>490.0</td>\n",
       "      <td>150.0</td>\n",
       "      <td>visa</td>\n",
       "      <td>166.0</td>\n",
       "      <td>...</td>\n",
       "      <td>NaN</td>\n",
       "      <td>NaN</td>\n",
       "      <td>NaN</td>\n",
       "      <td>NaN</td>\n",
       "      <td>NaN</td>\n",
       "      <td>1</td>\n",
       "      <td>5</td>\n",
       "      <td>31</td>\n",
       "      <td>0</td>\n",
       "      <td>1</td>\n",
       "    </tr>\n",
       "    <tr>\n",
       "      <th>3</th>\n",
       "      <td>2987003</td>\n",
       "      <td>0</td>\n",
       "      <td>86499</td>\n",
       "      <td>50.0</td>\n",
       "      <td>W</td>\n",
       "      <td>18132</td>\n",
       "      <td>567.0</td>\n",
       "      <td>150.0</td>\n",
       "      <td>mastercard</td>\n",
       "      <td>117.0</td>\n",
       "      <td>...</td>\n",
       "      <td>NaN</td>\n",
       "      <td>NaN</td>\n",
       "      <td>NaN</td>\n",
       "      <td>NaN</td>\n",
       "      <td>NaN</td>\n",
       "      <td>1</td>\n",
       "      <td>5</td>\n",
       "      <td>31</td>\n",
       "      <td>0</td>\n",
       "      <td>1</td>\n",
       "    </tr>\n",
       "    <tr>\n",
       "      <th>4</th>\n",
       "      <td>2987004</td>\n",
       "      <td>0</td>\n",
       "      <td>86506</td>\n",
       "      <td>50.0</td>\n",
       "      <td>H</td>\n",
       "      <td>4497</td>\n",
       "      <td>514.0</td>\n",
       "      <td>150.0</td>\n",
       "      <td>mastercard</td>\n",
       "      <td>102.0</td>\n",
       "      <td>...</td>\n",
       "      <td>F</td>\n",
       "      <td>T</td>\n",
       "      <td>T</td>\n",
       "      <td>mobile</td>\n",
       "      <td>SAMSUNG SM-G892A Build/NRD90M</td>\n",
       "      <td>1</td>\n",
       "      <td>5</td>\n",
       "      <td>31</td>\n",
       "      <td>0</td>\n",
       "      <td>1</td>\n",
       "    </tr>\n",
       "  </tbody>\n",
       "</table>\n",
       "<p>5 rows × 439 columns</p>\n",
       "</div>"
      ],
      "text/plain": [
       "   TransactionID  isFraud  TransactionDT  TransactionAmt ProductCD  card1  \\\n",
       "0        2987000        0          86400            68.5         W  13926   \n",
       "1        2987001        0          86401            29.0         W   2755   \n",
       "2        2987002        0          86469            59.0         W   4663   \n",
       "3        2987003        0          86499            50.0         W  18132   \n",
       "4        2987004        0          86506            50.0         H   4497   \n",
       "\n",
       "   card2  card3       card4  card5  ... id-36  id-37  id-38  DeviceType  \\\n",
       "0    NaN  150.0    discover  142.0  ...   NaN    NaN    NaN         NaN   \n",
       "1  404.0  150.0  mastercard  102.0  ...   NaN    NaN    NaN         NaN   \n",
       "2  490.0  150.0        visa  166.0  ...   NaN    NaN    NaN         NaN   \n",
       "3  567.0  150.0  mastercard  117.0  ...   NaN    NaN    NaN         NaN   \n",
       "4  514.0  150.0  mastercard  102.0  ...     F      T      T      mobile   \n",
       "\n",
       "                      DeviceInfo DT_M DT_W  DT_D  DT_H  DT_DayOfWeek  \n",
       "0                            NaN    1    5    31     0             1  \n",
       "1                            NaN    1    5    31     0             1  \n",
       "2                            NaN    1    5    31     0             1  \n",
       "3                            NaN    1    5    31     0             1  \n",
       "4  SAMSUNG SM-G892A Build/NRD90M    1    5    31     0             1  \n",
       "\n",
       "[5 rows x 439 columns]"
      ]
     },
     "execution_count": 420,
     "metadata": {},
     "output_type": "execute_result"
    }
   ],
   "source": [
    "train.head()"
   ]
  },
  {
   "cell_type": "markdown",
   "metadata": {},
   "source": [
    "# Data Preprocess"
   ]
  },
  {
   "cell_type": "markdown",
   "metadata": {},
   "source": [
    "## Function "
   ]
  },
  {
   "cell_type": "code",
   "execution_count": 367,
   "metadata": {
    "execution": {
     "iopub.execute_input": "2021-09-30T18:35:32.316978Z",
     "iopub.status.busy": "2021-09-30T18:35:32.316556Z",
     "iopub.status.idle": "2021-09-30T18:35:32.328959Z",
     "shell.execute_reply": "2021-09-30T18:35:32.328272Z",
     "shell.execute_reply.started": "2021-09-30T18:35:32.316946Z"
    }
   },
   "outputs": [],
   "source": [
    "\n",
    "def read_data(identy_file, transaction_file, debug=False, debug_sample_size=-1):\n",
    "    if debug:\n",
    "        identy = pd.read_csv(identy_file, nrows=debug_sample_size)\n",
    "        transaction = pd.read_csv(transaction_file, nrows=debug_sample_size)\n",
    "    else:\n",
    "        identy = pd.read_csv(identy_file)\n",
    "        transaction = pd.read_csv(transaction_file)\n",
    "    data = pd.merge(transaction, identy, on=\"TransactionID\", how='left')\n",
    "    return data\n",
    "\n",
    "# Memory Reduction\n",
    "def reduce_mem_usage(df, verbose=True):\n",
    "    numerics = ['int16', 'int32', 'int64', 'float16', 'float32', 'float64']\n",
    "    start_mem = df.memory_usage().sum() / 1024**2    \n",
    "    for col in df.columns:\n",
    "        col_type = df[col].dtypes\n",
    "        if col_type in numerics:\n",
    "            c_min = df[col].min()\n",
    "            c_max = df[col].max()\n",
    "            if str(col_type)[:3] == 'int':\n",
    "                if c_min > np.iinfo(np.int8).min and c_max < np.iinfo(np.int8).max:\n",
    "                    df[col] = df[col].astype(np.int8)\n",
    "                elif c_min > np.iinfo(np.int16).min and c_max < np.iinfo(np.int16).max:\n",
    "                    df[col] = df[col].astype(np.int16)\n",
    "                elif c_min > np.iinfo(np.int32).min and c_max < np.iinfo(np.int32).max:\n",
    "                    df[col] = df[col].astype(np.int32)\n",
    "                elif c_min > np.iinfo(np.int64).min and c_max < np.iinfo(np.int64).max:\n",
    "                    df[col] = df[col].astype(np.int64)  \n",
    "            else:\n",
    "                if c_min > np.finfo(np.float16).min and c_max < np.finfo(np.float16).max:\n",
    "                    df[col] = df[col].astype(np.float16)\n",
    "                elif c_min > np.finfo(np.float32).min and c_max < np.finfo(np.float32).max:\n",
    "                    df[col] = df[col].astype(np.float32)\n",
    "                else:\n",
    "                    df[col] = df[col].astype(np.float64)    \n",
    "    end_mem = df.memory_usage().sum() / 1024**2\n",
    "    if verbose: \n",
    "        print('Mem. usage decreased to {:5.2f} Mb ({:.1f}% reduction)'.format(end_mem, 100 * (start_mem - end_mem) / start_mem))\n",
    "    return df"
   ]
  },
  {
   "cell_type": "code",
   "execution_count": 368,
   "metadata": {
    "execution": {
     "iopub.execute_input": "2021-09-30T18:36:35.387423Z",
     "iopub.status.busy": "2021-09-30T18:36:35.387012Z",
     "iopub.status.idle": "2021-09-30T18:39:35.406948Z",
     "shell.execute_reply": "2021-09-30T18:39:35.406099Z",
     "shell.execute_reply.started": "2021-09-30T18:36:35.387388Z"
    }
   },
   "outputs": [],
   "source": [
    "if pkl_data_source:\n",
    "    train = pd.read_pickle(os.path.join(pkl_file_dir, 'train.pkl'))\n",
    "    test = pd.read_pickle(os.path.join(pkl_file_dir, 'test.pkl'))\n",
    "else: \n",
    "    train = read_data(ind_train, tra_train, debug=debug, debug_sample_size=debug_sample_size)\n",
    "    test = read_data(ind_test, tra_test, debug=debug, debug_sample_size=debug_sample_size)\n",
    "    train = reduce_mem_usage(train)\n",
    "    test = reduce_mem_usage(test)\n",
    "    test_cols = ['id-01', 'id-02', 'id-03', 'id-04', 'id-05', 'id-06', 'id-07', 'id-08', 'id-09', 'id-10', 'id-11', 'id-12', 'id-13', 'id-14', 'id-15', 'id-16', 'id-17', 'id-18', 'id-19', 'id-20', 'id-21', 'id-22', 'id-23', 'id-24', 'id-25', 'id-26', 'id-27', 'id-28', 'id-29', 'id-30', 'id-31', 'id-32', 'id-33', 'id-34', 'id-35', 'id-36', 'id-37', 'id-38']\n",
    "    train.rename(columns={'_'.join(col.split(\"-\")): col for col in test_cols}, inplace=True)\n",
    "    train.to_pickle(os.path.join(pkl_file_dir, 'train.pkl'))\n",
    "    test.to_pickle(os.path.join(pkl_file_dir, 'test.pkl'))"
   ]
  },
  {
   "cell_type": "code",
   "execution_count": 369,
   "metadata": {},
   "outputs": [],
   "source": [
    "# !ls {pkl_file_dir}"
   ]
  },
  {
   "cell_type": "markdown",
   "metadata": {},
   "source": [
    "## Data review "
   ]
  },
  {
   "cell_type": "code",
   "execution_count": 370,
   "metadata": {
    "execution": {
     "iopub.execute_input": "2021-09-30T18:39:35.40925Z",
     "iopub.status.busy": "2021-09-30T18:39:35.408364Z",
     "iopub.status.idle": "2021-09-30T18:39:35.416352Z",
     "shell.execute_reply": "2021-09-30T18:39:35.415376Z",
     "shell.execute_reply.started": "2021-09-30T18:39:35.409206Z"
    }
   },
   "outputs": [
    {
     "name": "stdout",
     "output_type": "stream",
     "text": [
      "train shape: (590540, 434)\n",
      "test shape: (506691, 433)\n"
     ]
    }
   ],
   "source": [
    "print(f\"train shape: {train.shape}\")\n",
    "print(f\"test shape: {test.shape}\")"
   ]
  },
  {
   "cell_type": "markdown",
   "metadata": {},
   "source": [
    "### col type "
   ]
  },
  {
   "cell_type": "code",
   "execution_count": 371,
   "metadata": {
    "execution": {
     "iopub.execute_input": "2021-09-30T18:39:35.41911Z",
     "iopub.status.busy": "2021-09-30T18:39:35.418382Z",
     "iopub.status.idle": "2021-09-30T18:39:35.43783Z",
     "shell.execute_reply": "2021-09-30T18:39:35.436757Z",
     "shell.execute_reply.started": "2021-09-30T18:39:35.419071Z"
    }
   },
   "outputs": [],
   "source": [
    "# train_col = list(train.columns)\n",
    "# test_col = list(test.columns)\n",
    "\n",
    "# train_absence = [col for col in train_col+test_col if col not in train_col]\n",
    "# test_absence = [col for col in train_col+test_col if col not in test_col]\n",
    "\n",
    "# print(f\"train_absence: {len(train_absence)}\")\n",
    "# print(train_absence)\n",
    "# print(f\"test_absence: {len(test_absence)}\")\n",
    "# print(test_absence)"
   ]
  },
  {
   "cell_type": "markdown",
   "metadata": {},
   "source": [
    "## TODO -> change to more efficient way  "
   ]
  },
  {
   "cell_type": "code",
   "execution_count": 372,
   "metadata": {},
   "outputs": [],
   "source": [
    "# for new_col in train_absence:\n",
    "#     old_col = '_'.join(new_col.split(\"-\"))\n",
    "#     train[new_col] = train[old_col]\n",
    "#     train.drop([old_col], axis=1)\n",
    "    \n"
   ]
  },
  {
   "cell_type": "code",
   "execution_count": 373,
   "metadata": {},
   "outputs": [],
   "source": [
    "# for new_col in train_absence:\n",
    "#     old_col = '_'.join(new_col.split(\"-\"))\n",
    "# #     train[new_col] = train[old_col]\n",
    "#     train = train.drop([old_col], axis=1)"
   ]
  },
  {
   "cell_type": "code",
   "execution_count": 374,
   "metadata": {},
   "outputs": [
    {
     "name": "stdout",
     "output_type": "stream",
     "text": [
      "********************\n",
      "Column Type: int32\n",
      "Column number: 2\n",
      "********************\n",
      "Column Type: int8\n",
      "Column number: 1\n",
      "********************\n",
      "Column Type: float16\n",
      "Column number: 354\n",
      "********************\n",
      "Column Type: object\n",
      "Column number: 31\n",
      "********************\n",
      "Column Type: int16\n",
      "Column number: 1\n",
      "********************\n",
      "Column Type: float32\n",
      "Column number: 45\n",
      "String type columns:\n",
      "['ProductCD', 'card4', 'card6', 'P_emaildomain', 'R_emaildomain', 'M1', 'M2', 'M3', 'M4', 'M5', 'M6', 'M7', 'M8', 'M9', 'id-12', 'id-15', 'id-16', 'id-23', 'id-27', 'id-28', 'id-29', 'id-30', 'id-31', 'id-33', 'id-34', 'id-35', 'id-36', 'id-37', 'id-38', 'DeviceType', 'DeviceInfo']\n"
     ]
    }
   ],
   "source": [
    "get_col_type_dist(train)"
   ]
  },
  {
   "cell_type": "markdown",
   "metadata": {},
   "source": [
    "### Label distribution "
   ]
  },
  {
   "cell_type": "code",
   "execution_count": 375,
   "metadata": {
    "execution": {
     "iopub.execute_input": "2021-09-30T18:39:35.439568Z",
     "iopub.status.busy": "2021-09-30T18:39:35.439285Z",
     "iopub.status.idle": "2021-09-30T18:39:36.543484Z",
     "shell.execute_reply": "2021-09-30T18:39:36.542594Z",
     "shell.execute_reply.started": "2021-09-30T18:39:35.439536Z"
    }
   },
   "outputs": [
    {
     "data": {
      "text/plain": [
       "0.03499000914417313"
      ]
     },
     "execution_count": 375,
     "metadata": {},
     "output_type": "execute_result"
    }
   ],
   "source": [
    "len(train[train['isFraud']==1])/len(train)"
   ]
  },
  {
   "cell_type": "code",
   "execution_count": 376,
   "metadata": {
    "execution": {
     "iopub.execute_input": "2021-09-30T18:39:36.544793Z",
     "iopub.status.busy": "2021-09-30T18:39:36.54456Z",
     "iopub.status.idle": "2021-09-30T18:39:36.821442Z",
     "shell.execute_reply": "2021-09-30T18:39:36.820541Z",
     "shell.execute_reply.started": "2021-09-30T18:39:36.544765Z"
    }
   },
   "outputs": [
    {
     "data": {
      "text/plain": [
       "<AxesSubplot:xlabel='isFraud', ylabel='count'>"
      ]
     },
     "execution_count": 376,
     "metadata": {},
     "output_type": "execute_result"
    },
    {
     "data": {
      "image/png": "[encoded data removed]",
      "text/plain": [
       "<Figure size 432x288 with 1 Axes>"
      ]
     },
     "metadata": {
      "needs_background": "light"
     },
     "output_type": "display_data"
    }
   ],
   "source": [
    "sns.countplot(data=train, x='isFraud')"
   ]
  },
  {
   "cell_type": "markdown",
   "metadata": {},
   "source": [
    "# EDA"
   ]
  },
  {
   "cell_type": "markdown",
   "metadata": {},
   "source": [
    "## Missing Value "
   ]
  },
  {
   "cell_type": "code",
   "execution_count": 443,
   "metadata": {},
   "outputs": [
    {
     "name": "stdout",
     "output_type": "stream",
     "text": [
      "Number of cols to remove: 72\n",
      "['dist2', 'D6', 'D7', 'D8', 'D9', 'D12', 'D13', 'D14', 'V138', 'V139', 'V140', 'V141', 'V142', 'V143', 'V144', 'V145', 'V146', 'V147', 'V148', 'V149', 'V150', 'V151', 'V152', 'V153', 'V154', 'V155', 'V156', 'V157', 'V158', 'V159', 'V160', 'V161', 'V162', 'V163', 'V164', 'V165', 'V166', 'V322', 'V323', 'V324', 'V325', 'V326', 'V327', 'V328', 'V329', 'V330', 'V331', 'V332', 'V333', 'V334', 'V335', 'V336', 'V337', 'V338', 'V339', 'id-03', 'id-04', 'id-07', 'id-08', 'id-09', 'id-10', 'id-14', 'id-18', 'id-21', 'id-22', 'id-24', 'id-25', 'id-26', 'id-30', 'id-32', 'id-33', 'id-34']\n"
     ]
    }
   ],
   "source": [
    "# def check_missing(df, threshold)\n",
    "\n",
    "df = train\n",
    "threshold = 0.8\n",
    "\n",
    "null_col_to_remove = []\n",
    "col_lst = []\n",
    "frac_lst = []\n",
    "unique_lst = []\n",
    "for col in df.columns:\n",
    "#     print(col)\n",
    "    unique_value = len(df[col].dropna().unique())\n",
    "    frac = round(df[col].isnull().sum()/float(df.shape[0]), 3)\n",
    "    if frac > threshold:\n",
    "        frac_lst.append(frac)\n",
    "        col_lst.append(col)\n",
    "        unique_lst.append(unique_value)\n",
    "        if unique_value > 3:\n",
    "            null_col_to_remove.append(col)\n",
    "res = {\n",
    "    \"col\": col_lst\n",
    "    , 'frac': frac_lst\n",
    "    , 'unique': unique_lst\n",
    "}\n",
    "res = pd.DataFrame(res).sort_values(by=\"frac\", ascending=False)\n",
    "    \n",
    "print(f'Number of cols to remove: {len(null_col_to_remove)}')\n",
    "print(null_col_to_remove)"
   ]
  },
  {
   "cell_type": "code",
   "execution_count": 445,
   "metadata": {},
   "outputs": [],
   "source": [
    "train = train.drop(null_col_to_remove, axis=1)"
   ]
  },
  {
   "cell_type": "markdown",
   "metadata": {},
   "source": [
    "## Feature Distribution "
   ]
  },
  {
   "cell_type": "markdown",
   "metadata": {},
   "source": [
    "### Categorical Feature "
   ]
  },
  {
   "cell_type": "code",
   "execution_count": 377,
   "metadata": {},
   "outputs": [],
   "source": [
    "cate_features = ['ProductCD', 'card4', 'card6', 'P_emaildomain', 'R_emaildomain', 'M1', 'M2', 'M3', 'M4', 'M5', 'M6', 'M7', 'M8', 'M9', 'id-12', 'id-15', 'id-16', 'id-23', 'id-27', 'id-28', 'id-29', 'id-30', 'id-31', 'id-33', 'id-34', 'id-35', 'id-36', 'id-37', 'id-38', 'DeviceType', 'DeviceInfo']"
   ]
  },
  {
   "cell_type": "code",
   "execution_count": 378,
   "metadata": {},
   "outputs": [
    {
     "name": "stdout",
     "output_type": "stream",
     "text": [
      "********************\n",
      "Column name: ProductCD\n",
      "\n",
      "W    439670\n",
      "C     68519\n",
      "R     37699\n",
      "H     33024\n",
      "S     11628\n",
      "Name: ProductCD, dtype: int64\n",
      "********************\n",
      "Column name: card4\n",
      "\n",
      "visa                384767\n",
      "mastercard          189217\n",
      "american express      8328\n",
      "discover              6651\n",
      "Name: card4, dtype: int64\n",
      "********************\n",
      "Column name: card6\n",
      "\n",
      "debit              439938\n",
      "credit             148986\n",
      "debit or credit        30\n",
      "charge card            15\n",
      "Name: card6, dtype: int64\n",
      "********************\n",
      "Column name: P_emaildomain\n",
      "\n",
      "gmail.com           228355\n",
      "yahoo.com           100934\n",
      "hotmail.com          45250\n",
      "anonymous.com        36998\n",
      "aol.com              28289\n",
      "comcast.net           7888\n",
      "icloud.com            6267\n",
      "outlook.com           5096\n",
      "msn.com               4092\n",
      "att.net               4033\n",
      "live.com              3041\n",
      "sbcglobal.net         2970\n",
      "verizon.net           2705\n",
      "ymail.com             2396\n",
      "bellsouth.net         1909\n",
      "yahoo.com.mx          1543\n",
      "me.com                1522\n",
      "cox.net               1393\n",
      "optonline.net         1011\n",
      "charter.net            816\n",
      "live.com.mx            749\n",
      "rocketmail.com         664\n",
      "mail.com               559\n",
      "earthlink.net          514\n",
      "gmail                  496\n",
      "outlook.es             438\n",
      "mac.com                436\n",
      "juno.com               322\n",
      "aim.com                315\n",
      "hotmail.es             305\n",
      "windstream.net         305\n",
      "roadrunner.com         305\n",
      "hotmail.fr             295\n",
      "frontier.com           280\n",
      "embarqmail.com         260\n",
      "web.de                 240\n",
      "netzero.com            230\n",
      "twc.com                230\n",
      "prodigy.net.mx         207\n",
      "centurylink.net        205\n",
      "netzero.net            196\n",
      "frontiernet.net        195\n",
      "q.com                  189\n",
      "suddenlink.net         175\n",
      "cfl.rr.com             172\n",
      "sc.rr.com              164\n",
      "cableone.net           159\n",
      "gmx.de                 149\n",
      "yahoo.fr               143\n",
      "yahoo.es               134\n",
      "hotmail.co.uk          112\n",
      "protonmail.com          76\n",
      "yahoo.de                74\n",
      "ptd.net                 68\n",
      "live.fr                 56\n",
      "yahoo.co.uk             49\n",
      "hotmail.de              43\n",
      "servicios-ta.com        35\n",
      "yahoo.co.jp             32\n",
      "Name: P_emaildomain, dtype: int64\n",
      "********************\n",
      "Column name: R_emaildomain\n",
      "\n",
      "gmail.com           57147\n",
      "hotmail.com         27509\n",
      "anonymous.com       20529\n",
      "yahoo.com           11842\n",
      "aol.com              3701\n",
      "outlook.com          2507\n",
      "comcast.net          1812\n",
      "yahoo.com.mx         1508\n",
      "icloud.com           1398\n",
      "msn.com               852\n",
      "live.com              762\n",
      "live.com.mx           754\n",
      "verizon.net           620\n",
      "me.com                556\n",
      "sbcglobal.net         552\n",
      "cox.net               459\n",
      "outlook.es            433\n",
      "att.net               430\n",
      "bellsouth.net         422\n",
      "hotmail.fr            293\n",
      "hotmail.es            292\n",
      "web.de                237\n",
      "mac.com               218\n",
      "prodigy.net.mx        207\n",
      "ymail.com             207\n",
      "optonline.net         187\n",
      "gmx.de                147\n",
      "yahoo.fr              137\n",
      "charter.net           127\n",
      "mail.com              122\n",
      "hotmail.co.uk         105\n",
      "gmail                  95\n",
      "earthlink.net          79\n",
      "yahoo.de               75\n",
      "rocketmail.com         69\n",
      "embarqmail.com         68\n",
      "scranton.edu           63\n",
      "yahoo.es               57\n",
      "live.fr                55\n",
      "roadrunner.com         53\n",
      "juno.com               53\n",
      "frontier.com           52\n",
      "windstream.net         47\n",
      "hotmail.de             42\n",
      "protonmail.com         41\n",
      "yahoo.co.uk            39\n",
      "cfl.rr.com             37\n",
      "aim.com                36\n",
      "servicios-ta.com       35\n",
      "yahoo.co.jp            33\n",
      "twc.com                29\n",
      "ptd.net                27\n",
      "cableone.net           27\n",
      "suddenlink.net         25\n",
      "q.com                  25\n",
      "netzero.com            14\n",
      "frontiernet.net        14\n",
      "centurylink.net        12\n",
      "netzero.net             9\n",
      "sc.rr.com               8\n",
      "Name: R_emaildomain, dtype: int64\n",
      "********************\n",
      "Column name: M1\n",
      "\n",
      "T    319415\n",
      "F        25\n",
      "Name: M1, dtype: int64\n",
      "********************\n",
      "Column name: M2\n",
      "\n",
      "T    285468\n",
      "F     33972\n",
      "Name: M2, dtype: int64\n",
      "********************\n",
      "Column name: M3\n",
      "\n",
      "T    251731\n",
      "F     67709\n",
      "Name: M3, dtype: int64\n",
      "********************\n",
      "Column name: M4\n",
      "\n",
      "M0    196405\n",
      "M2     59865\n",
      "M1     52826\n",
      "Name: M4, dtype: int64\n",
      "********************\n",
      "Column name: M5\n",
      "\n",
      "F    132491\n",
      "T    107567\n",
      "Name: M5, dtype: int64\n",
      "********************\n",
      "Column name: M6\n",
      "\n",
      "F    227856\n",
      "T    193324\n",
      "Name: M6, dtype: int64\n",
      "********************\n",
      "Column name: M7\n",
      "\n",
      "F    211374\n",
      "T     32901\n",
      "Name: M7, dtype: int64\n",
      "********************\n",
      "Column name: M8\n",
      "\n",
      "F    155251\n",
      "T     89037\n",
      "Name: M8, dtype: int64\n",
      "********************\n",
      "Column name: M9\n",
      "\n",
      "T    205656\n",
      "F     38632\n",
      "Name: M9, dtype: int64\n",
      "********************\n",
      "Column name: id-12\n",
      "\n",
      "NotFound    123025\n",
      "Found        21208\n",
      "Name: id-12, dtype: int64\n",
      "********************\n",
      "Column name: id-15\n",
      "\n",
      "Found      67728\n",
      "New        61612\n",
      "Unknown    11645\n",
      "Name: id-15, dtype: int64\n",
      "********************\n",
      "Column name: id-16\n",
      "\n",
      "Found       66324\n",
      "NotFound    63016\n",
      "Name: id-16, dtype: int64\n",
      "********************\n",
      "Column name: id-23\n",
      "\n",
      "IP_PROXY:TRANSPARENT    3489\n",
      "IP_PROXY:ANONYMOUS      1071\n",
      "IP_PROXY:HIDDEN          609\n",
      "Name: id-23, dtype: int64\n",
      "********************\n",
      "Column name: id-27\n",
      "\n",
      "Found       5155\n",
      "NotFound      14\n",
      "Name: id-27, dtype: int64\n",
      "********************\n",
      "Column name: id-28\n",
      "\n",
      "Found    76232\n",
      "New      64746\n",
      "Name: id-28, dtype: int64\n",
      "********************\n",
      "Column name: id-29\n",
      "\n",
      "Found       74926\n",
      "NotFound    66052\n",
      "Name: id-29, dtype: int64\n",
      "********************\n",
      "Column name: id-30\n",
      "\n",
      "Windows 10          21155\n",
      "Windows 7           13110\n",
      "iOS 11.2.1           3722\n",
      "iOS 11.1.2           3699\n",
      "Android 7.0          2871\n",
      "                    ...  \n",
      "func                   10\n",
      "iOS 11.4.0              5\n",
      "Mac OS X 10_13_5        4\n",
      "Windows                 3\n",
      "iOS 11.4.1              1\n",
      "Name: id-30, Length: 75, dtype: int64\n",
      "********************\n",
      "Column name: id-31\n",
      "\n",
      "chrome 63.0                22000\n",
      "mobile safari 11.0         13423\n",
      "mobile safari generic      11474\n",
      "ie 11.0 for desktop         9030\n",
      "safari generic              8195\n",
      "                           ...  \n",
      "chrome 67.0 for android        1\n",
      "cyberfox                       1\n",
      "chrome 69.0                    1\n",
      "Nokia/Lumia                    1\n",
      "BLU/Dash                       1\n",
      "Name: id-31, Length: 130, dtype: int64\n",
      "********************\n",
      "Column name: id-33\n",
      "\n",
      "1920x1080    16874\n",
      "1366x768      8605\n",
      "1334x750      6447\n",
      "2208x1242     4900\n",
      "1440x900      4384\n",
      "             ...  \n",
      "1281x800         1\n",
      "3199x1800        1\n",
      "2010x1080        1\n",
      "1729x973         1\n",
      "3360x1050        1\n",
      "Name: id-33, Length: 260, dtype: int64\n",
      "********************\n",
      "Column name: id-34\n",
      "\n",
      "match_status:2     60011\n",
      "match_status:1     17376\n",
      "match_status:0       415\n",
      "match_status:-1        3\n",
      "Name: id-34, dtype: int64\n",
      "********************\n",
      "Column name: id-35\n",
      "\n",
      "T    77814\n",
      "F    63171\n",
      "Name: id-35, dtype: int64\n",
      "********************\n",
      "Column name: id-36\n",
      "\n",
      "F    134066\n",
      "T      6919\n",
      "Name: id-36, dtype: int64\n",
      "********************\n",
      "Column name: id-37\n",
      "\n",
      "T    110452\n",
      "F     30533\n",
      "Name: id-37, dtype: int64\n",
      "********************\n",
      "Column name: id-38\n",
      "\n",
      "F    73922\n",
      "T    67063\n",
      "Name: id-38, dtype: int64\n",
      "********************\n",
      "Column name: DeviceType\n",
      "\n",
      "desktop    85165\n",
      "mobile     55645\n",
      "Name: DeviceType, dtype: int64\n",
      "********************\n",
      "Column name: DeviceInfo\n",
      "\n",
      "Windows           47722\n",
      "iOS Device        19782\n",
      "MacOS             12573\n",
      "Trident/7.0        7440\n",
      "rv:11.0            1901\n",
      "                  ...  \n",
      "LG-LG870              1\n",
      "SM-T818V              1\n",
      "Max                   1\n",
      "HTC_Desire_820        1\n",
      "LEX829                1\n",
      "Name: DeviceInfo, Length: 1786, dtype: int64\n"
     ]
    }
   ],
   "source": [
    "for col in cate_features:\n",
    "    print('*'*20)\n",
    "    print(f\"Column name: {col}\")\n",
    "    print()\n",
    "    print(train[col].value_counts())"
   ]
  },
  {
   "cell_type": "markdown",
   "metadata": {},
   "source": [
    "### Continuous Features"
   ]
  },
  {
   "cell_type": "code",
   "execution_count": 379,
   "metadata": {},
   "outputs": [
    {
     "data": {
      "text/html": [
       "<div>\n",
       "<style scoped>\n",
       "    .dataframe tbody tr th:only-of-type {\n",
       "        vertical-align: middle;\n",
       "    }\n",
       "\n",
       "    .dataframe tbody tr th {\n",
       "        vertical-align: top;\n",
       "    }\n",
       "\n",
       "    .dataframe thead th {\n",
       "        text-align: right;\n",
       "    }\n",
       "</style>\n",
       "<table border=\"1\" class=\"dataframe\">\n",
       "  <thead>\n",
       "    <tr style=\"text-align: right;\">\n",
       "      <th></th>\n",
       "      <th>TransactionID</th>\n",
       "      <th>isFraud</th>\n",
       "      <th>TransactionDT</th>\n",
       "      <th>TransactionAmt</th>\n",
       "      <th>ProductCD</th>\n",
       "      <th>card1</th>\n",
       "      <th>card2</th>\n",
       "      <th>card3</th>\n",
       "      <th>card4</th>\n",
       "      <th>card5</th>\n",
       "      <th>...</th>\n",
       "      <th>id-31</th>\n",
       "      <th>id-32</th>\n",
       "      <th>id-33</th>\n",
       "      <th>id-34</th>\n",
       "      <th>id-35</th>\n",
       "      <th>id-36</th>\n",
       "      <th>id-37</th>\n",
       "      <th>id-38</th>\n",
       "      <th>DeviceType</th>\n",
       "      <th>DeviceInfo</th>\n",
       "    </tr>\n",
       "  </thead>\n",
       "  <tbody>\n",
       "    <tr>\n",
       "      <th>0</th>\n",
       "      <td>2987000</td>\n",
       "      <td>0</td>\n",
       "      <td>86400</td>\n",
       "      <td>68.5</td>\n",
       "      <td>W</td>\n",
       "      <td>13926</td>\n",
       "      <td>NaN</td>\n",
       "      <td>150.0</td>\n",
       "      <td>discover</td>\n",
       "      <td>142.0</td>\n",
       "      <td>...</td>\n",
       "      <td>NaN</td>\n",
       "      <td>NaN</td>\n",
       "      <td>NaN</td>\n",
       "      <td>NaN</td>\n",
       "      <td>NaN</td>\n",
       "      <td>NaN</td>\n",
       "      <td>NaN</td>\n",
       "      <td>NaN</td>\n",
       "      <td>NaN</td>\n",
       "      <td>NaN</td>\n",
       "    </tr>\n",
       "    <tr>\n",
       "      <th>1</th>\n",
       "      <td>2987001</td>\n",
       "      <td>0</td>\n",
       "      <td>86401</td>\n",
       "      <td>29.0</td>\n",
       "      <td>W</td>\n",
       "      <td>2755</td>\n",
       "      <td>404.0</td>\n",
       "      <td>150.0</td>\n",
       "      <td>mastercard</td>\n",
       "      <td>102.0</td>\n",
       "      <td>...</td>\n",
       "      <td>NaN</td>\n",
       "      <td>NaN</td>\n",
       "      <td>NaN</td>\n",
       "      <td>NaN</td>\n",
       "      <td>NaN</td>\n",
       "      <td>NaN</td>\n",
       "      <td>NaN</td>\n",
       "      <td>NaN</td>\n",
       "      <td>NaN</td>\n",
       "      <td>NaN</td>\n",
       "    </tr>\n",
       "    <tr>\n",
       "      <th>2</th>\n",
       "      <td>2987002</td>\n",
       "      <td>0</td>\n",
       "      <td>86469</td>\n",
       "      <td>59.0</td>\n",
       "      <td>W</td>\n",
       "      <td>4663</td>\n",
       "      <td>490.0</td>\n",
       "      <td>150.0</td>\n",
       "      <td>visa</td>\n",
       "      <td>166.0</td>\n",
       "      <td>...</td>\n",
       "      <td>NaN</td>\n",
       "      <td>NaN</td>\n",
       "      <td>NaN</td>\n",
       "      <td>NaN</td>\n",
       "      <td>NaN</td>\n",
       "      <td>NaN</td>\n",
       "      <td>NaN</td>\n",
       "      <td>NaN</td>\n",
       "      <td>NaN</td>\n",
       "      <td>NaN</td>\n",
       "    </tr>\n",
       "    <tr>\n",
       "      <th>3</th>\n",
       "      <td>2987003</td>\n",
       "      <td>0</td>\n",
       "      <td>86499</td>\n",
       "      <td>50.0</td>\n",
       "      <td>W</td>\n",
       "      <td>18132</td>\n",
       "      <td>567.0</td>\n",
       "      <td>150.0</td>\n",
       "      <td>mastercard</td>\n",
       "      <td>117.0</td>\n",
       "      <td>...</td>\n",
       "      <td>NaN</td>\n",
       "      <td>NaN</td>\n",
       "      <td>NaN</td>\n",
       "      <td>NaN</td>\n",
       "      <td>NaN</td>\n",
       "      <td>NaN</td>\n",
       "      <td>NaN</td>\n",
       "      <td>NaN</td>\n",
       "      <td>NaN</td>\n",
       "      <td>NaN</td>\n",
       "    </tr>\n",
       "    <tr>\n",
       "      <th>4</th>\n",
       "      <td>2987004</td>\n",
       "      <td>0</td>\n",
       "      <td>86506</td>\n",
       "      <td>50.0</td>\n",
       "      <td>H</td>\n",
       "      <td>4497</td>\n",
       "      <td>514.0</td>\n",
       "      <td>150.0</td>\n",
       "      <td>mastercard</td>\n",
       "      <td>102.0</td>\n",
       "      <td>...</td>\n",
       "      <td>samsung browser 6.2</td>\n",
       "      <td>32.0</td>\n",
       "      <td>2220x1080</td>\n",
       "      <td>match_status:2</td>\n",
       "      <td>T</td>\n",
       "      <td>F</td>\n",
       "      <td>T</td>\n",
       "      <td>T</td>\n",
       "      <td>mobile</td>\n",
       "      <td>SAMSUNG SM-G892A Build/NRD90M</td>\n",
       "    </tr>\n",
       "  </tbody>\n",
       "</table>\n",
       "<p>5 rows × 434 columns</p>\n",
       "</div>"
      ],
      "text/plain": [
       "   TransactionID  isFraud  TransactionDT  TransactionAmt ProductCD  card1  \\\n",
       "0        2987000        0          86400            68.5         W  13926   \n",
       "1        2987001        0          86401            29.0         W   2755   \n",
       "2        2987002        0          86469            59.0         W   4663   \n",
       "3        2987003        0          86499            50.0         W  18132   \n",
       "4        2987004        0          86506            50.0         H   4497   \n",
       "\n",
       "   card2  card3       card4  card5  ...                id-31  id-32  \\\n",
       "0    NaN  150.0    discover  142.0  ...                  NaN    NaN   \n",
       "1  404.0  150.0  mastercard  102.0  ...                  NaN    NaN   \n",
       "2  490.0  150.0        visa  166.0  ...                  NaN    NaN   \n",
       "3  567.0  150.0  mastercard  117.0  ...                  NaN    NaN   \n",
       "4  514.0  150.0  mastercard  102.0  ...  samsung browser 6.2   32.0   \n",
       "\n",
       "       id-33           id-34  id-35 id-36 id-37  id-38  DeviceType  \\\n",
       "0        NaN             NaN    NaN   NaN   NaN    NaN         NaN   \n",
       "1        NaN             NaN    NaN   NaN   NaN    NaN         NaN   \n",
       "2        NaN             NaN    NaN   NaN   NaN    NaN         NaN   \n",
       "3        NaN             NaN    NaN   NaN   NaN    NaN         NaN   \n",
       "4  2220x1080  match_status:2      T     F     T      T      mobile   \n",
       "\n",
       "                      DeviceInfo  \n",
       "0                            NaN  \n",
       "1                            NaN  \n",
       "2                            NaN  \n",
       "3                            NaN  \n",
       "4  SAMSUNG SM-G892A Build/NRD90M  \n",
       "\n",
       "[5 rows x 434 columns]"
      ]
     },
     "execution_count": 379,
     "metadata": {},
     "output_type": "execute_result"
    }
   ],
   "source": [
    "train.head()"
   ]
  },
  {
   "cell_type": "code",
   "execution_count": 380,
   "metadata": {},
   "outputs": [
    {
     "data": {
      "text/html": [
       "<div>\n",
       "<style scoped>\n",
       "    .dataframe tbody tr th:only-of-type {\n",
       "        vertical-align: middle;\n",
       "    }\n",
       "\n",
       "    .dataframe tbody tr th {\n",
       "        vertical-align: top;\n",
       "    }\n",
       "\n",
       "    .dataframe thead th {\n",
       "        text-align: right;\n",
       "    }\n",
       "</style>\n",
       "<table border=\"1\" class=\"dataframe\">\n",
       "  <thead>\n",
       "    <tr style=\"text-align: right;\">\n",
       "      <th></th>\n",
       "      <th>TransactionID</th>\n",
       "      <th>isFraud</th>\n",
       "      <th>TransactionDT</th>\n",
       "      <th>TransactionAmt</th>\n",
       "      <th>card1</th>\n",
       "      <th>card2</th>\n",
       "      <th>card3</th>\n",
       "      <th>card5</th>\n",
       "      <th>addr1</th>\n",
       "      <th>addr2</th>\n",
       "      <th>...</th>\n",
       "      <th>id-17</th>\n",
       "      <th>id-18</th>\n",
       "      <th>id-19</th>\n",
       "      <th>id-20</th>\n",
       "      <th>id-21</th>\n",
       "      <th>id-22</th>\n",
       "      <th>id-24</th>\n",
       "      <th>id-25</th>\n",
       "      <th>id-26</th>\n",
       "      <th>id-32</th>\n",
       "    </tr>\n",
       "  </thead>\n",
       "  <tbody>\n",
       "    <tr>\n",
       "      <th>count</th>\n",
       "      <td>5.905400e+05</td>\n",
       "      <td>590540.000000</td>\n",
       "      <td>5.905400e+05</td>\n",
       "      <td>590540.000000</td>\n",
       "      <td>590540.000000</td>\n",
       "      <td>581607.0</td>\n",
       "      <td>588975.0</td>\n",
       "      <td>586281.0</td>\n",
       "      <td>524834.0</td>\n",
       "      <td>524834.0</td>\n",
       "      <td>...</td>\n",
       "      <td>139369.0</td>\n",
       "      <td>4.511300e+04</td>\n",
       "      <td>139318.0</td>\n",
       "      <td>139261.0</td>\n",
       "      <td>5159.0</td>\n",
       "      <td>5169.000000</td>\n",
       "      <td>4747.000000</td>\n",
       "      <td>5132.0000</td>\n",
       "      <td>5163.00000</td>\n",
       "      <td>77586.0</td>\n",
       "    </tr>\n",
       "    <tr>\n",
       "      <th>mean</th>\n",
       "      <td>3.282270e+06</td>\n",
       "      <td>0.034990</td>\n",
       "      <td>7.372311e+06</td>\n",
       "      <td>NaN</td>\n",
       "      <td>9898.734658</td>\n",
       "      <td>NaN</td>\n",
       "      <td>NaN</td>\n",
       "      <td>NaN</td>\n",
       "      <td>NaN</td>\n",
       "      <td>NaN</td>\n",
       "      <td>...</td>\n",
       "      <td>NaN</td>\n",
       "      <td>inf</td>\n",
       "      <td>NaN</td>\n",
       "      <td>NaN</td>\n",
       "      <td>inf</td>\n",
       "      <td>inf</td>\n",
       "      <td>12.820312</td>\n",
       "      <td>inf</td>\n",
       "      <td>inf</td>\n",
       "      <td>NaN</td>\n",
       "    </tr>\n",
       "    <tr>\n",
       "      <th>std</th>\n",
       "      <td>1.704744e+05</td>\n",
       "      <td>0.183755</td>\n",
       "      <td>4.617224e+06</td>\n",
       "      <td>NaN</td>\n",
       "      <td>4901.170153</td>\n",
       "      <td>NaN</td>\n",
       "      <td>0.0</td>\n",
       "      <td>0.0</td>\n",
       "      <td>NaN</td>\n",
       "      <td>0.0</td>\n",
       "      <td>...</td>\n",
       "      <td>0.0</td>\n",
       "      <td>1.561523e+00</td>\n",
       "      <td>NaN</td>\n",
       "      <td>NaN</td>\n",
       "      <td>inf</td>\n",
       "      <td>6.898438</td>\n",
       "      <td>2.371094</td>\n",
       "      <td>97.4375</td>\n",
       "      <td>32.09375</td>\n",
       "      <td>0.0</td>\n",
       "    </tr>\n",
       "    <tr>\n",
       "      <th>min</th>\n",
       "      <td>2.987000e+06</td>\n",
       "      <td>0.000000</td>\n",
       "      <td>8.640000e+04</td>\n",
       "      <td>0.250977</td>\n",
       "      <td>1000.000000</td>\n",
       "      <td>100.0</td>\n",
       "      <td>100.0</td>\n",
       "      <td>100.0</td>\n",
       "      <td>100.0</td>\n",
       "      <td>10.0</td>\n",
       "      <td>...</td>\n",
       "      <td>100.0</td>\n",
       "      <td>1.000000e+01</td>\n",
       "      <td>100.0</td>\n",
       "      <td>100.0</td>\n",
       "      <td>100.0</td>\n",
       "      <td>10.000000</td>\n",
       "      <td>11.000000</td>\n",
       "      <td>100.0000</td>\n",
       "      <td>100.00000</td>\n",
       "      <td>0.0</td>\n",
       "    </tr>\n",
       "    <tr>\n",
       "      <th>25%</th>\n",
       "      <td>3.134635e+06</td>\n",
       "      <td>0.000000</td>\n",
       "      <td>3.027058e+06</td>\n",
       "      <td>43.312500</td>\n",
       "      <td>6019.000000</td>\n",
       "      <td>214.0</td>\n",
       "      <td>150.0</td>\n",
       "      <td>166.0</td>\n",
       "      <td>204.0</td>\n",
       "      <td>87.0</td>\n",
       "      <td>...</td>\n",
       "      <td>166.0</td>\n",
       "      <td>1.300000e+01</td>\n",
       "      <td>266.0</td>\n",
       "      <td>256.0</td>\n",
       "      <td>252.0</td>\n",
       "      <td>14.000000</td>\n",
       "      <td>11.000000</td>\n",
       "      <td>321.0000</td>\n",
       "      <td>119.00000</td>\n",
       "      <td>24.0</td>\n",
       "    </tr>\n",
       "    <tr>\n",
       "      <th>50%</th>\n",
       "      <td>3.282270e+06</td>\n",
       "      <td>0.000000</td>\n",
       "      <td>7.306528e+06</td>\n",
       "      <td>68.750000</td>\n",
       "      <td>9678.000000</td>\n",
       "      <td>361.0</td>\n",
       "      <td>150.0</td>\n",
       "      <td>226.0</td>\n",
       "      <td>299.0</td>\n",
       "      <td>87.0</td>\n",
       "      <td>...</td>\n",
       "      <td>166.0</td>\n",
       "      <td>1.500000e+01</td>\n",
       "      <td>341.0</td>\n",
       "      <td>472.0</td>\n",
       "      <td>252.0</td>\n",
       "      <td>14.000000</td>\n",
       "      <td>11.000000</td>\n",
       "      <td>321.0000</td>\n",
       "      <td>149.00000</td>\n",
       "      <td>24.0</td>\n",
       "    </tr>\n",
       "    <tr>\n",
       "      <th>75%</th>\n",
       "      <td>3.429904e+06</td>\n",
       "      <td>0.000000</td>\n",
       "      <td>1.124662e+07</td>\n",
       "      <td>125.000000</td>\n",
       "      <td>14184.000000</td>\n",
       "      <td>512.0</td>\n",
       "      <td>150.0</td>\n",
       "      <td>226.0</td>\n",
       "      <td>330.0</td>\n",
       "      <td>87.0</td>\n",
       "      <td>...</td>\n",
       "      <td>225.0</td>\n",
       "      <td>1.500000e+01</td>\n",
       "      <td>427.0</td>\n",
       "      <td>533.0</td>\n",
       "      <td>486.5</td>\n",
       "      <td>14.000000</td>\n",
       "      <td>15.000000</td>\n",
       "      <td>371.0000</td>\n",
       "      <td>169.00000</td>\n",
       "      <td>32.0</td>\n",
       "    </tr>\n",
       "    <tr>\n",
       "      <th>max</th>\n",
       "      <td>3.577539e+06</td>\n",
       "      <td>1.000000</td>\n",
       "      <td>1.581113e+07</td>\n",
       "      <td>31936.000000</td>\n",
       "      <td>18396.000000</td>\n",
       "      <td>600.0</td>\n",
       "      <td>231.0</td>\n",
       "      <td>237.0</td>\n",
       "      <td>540.0</td>\n",
       "      <td>102.0</td>\n",
       "      <td>...</td>\n",
       "      <td>229.0</td>\n",
       "      <td>2.900000e+01</td>\n",
       "      <td>671.0</td>\n",
       "      <td>661.0</td>\n",
       "      <td>854.0</td>\n",
       "      <td>44.000000</td>\n",
       "      <td>26.000000</td>\n",
       "      <td>548.0000</td>\n",
       "      <td>216.00000</td>\n",
       "      <td>32.0</td>\n",
       "    </tr>\n",
       "  </tbody>\n",
       "</table>\n",
       "<p>8 rows × 403 columns</p>\n",
       "</div>"
      ],
      "text/plain": [
       "       TransactionID        isFraud  TransactionDT  TransactionAmt  \\\n",
       "count   5.905400e+05  590540.000000   5.905400e+05   590540.000000   \n",
       "mean    3.282270e+06       0.034990   7.372311e+06             NaN   \n",
       "std     1.704744e+05       0.183755   4.617224e+06             NaN   \n",
       "min     2.987000e+06       0.000000   8.640000e+04        0.250977   \n",
       "25%     3.134635e+06       0.000000   3.027058e+06       43.312500   \n",
       "50%     3.282270e+06       0.000000   7.306528e+06       68.750000   \n",
       "75%     3.429904e+06       0.000000   1.124662e+07      125.000000   \n",
       "max     3.577539e+06       1.000000   1.581113e+07    31936.000000   \n",
       "\n",
       "               card1     card2     card3     card5     addr1     addr2  ...  \\\n",
       "count  590540.000000  581607.0  588975.0  586281.0  524834.0  524834.0  ...   \n",
       "mean     9898.734658       NaN       NaN       NaN       NaN       NaN  ...   \n",
       "std      4901.170153       NaN       0.0       0.0       NaN       0.0  ...   \n",
       "min      1000.000000     100.0     100.0     100.0     100.0      10.0  ...   \n",
       "25%      6019.000000     214.0     150.0     166.0     204.0      87.0  ...   \n",
       "50%      9678.000000     361.0     150.0     226.0     299.0      87.0  ...   \n",
       "75%     14184.000000     512.0     150.0     226.0     330.0      87.0  ...   \n",
       "max     18396.000000     600.0     231.0     237.0     540.0     102.0  ...   \n",
       "\n",
       "          id-17         id-18     id-19     id-20   id-21        id-22  \\\n",
       "count  139369.0  4.511300e+04  139318.0  139261.0  5159.0  5169.000000   \n",
       "mean        NaN           inf       NaN       NaN     inf          inf   \n",
       "std         0.0  1.561523e+00       NaN       NaN     inf     6.898438   \n",
       "min       100.0  1.000000e+01     100.0     100.0   100.0    10.000000   \n",
       "25%       166.0  1.300000e+01     266.0     256.0   252.0    14.000000   \n",
       "50%       166.0  1.500000e+01     341.0     472.0   252.0    14.000000   \n",
       "75%       225.0  1.500000e+01     427.0     533.0   486.5    14.000000   \n",
       "max       229.0  2.900000e+01     671.0     661.0   854.0    44.000000   \n",
       "\n",
       "             id-24      id-25       id-26    id-32  \n",
       "count  4747.000000  5132.0000  5163.00000  77586.0  \n",
       "mean     12.820312        inf         inf      NaN  \n",
       "std       2.371094    97.4375    32.09375      0.0  \n",
       "min      11.000000   100.0000   100.00000      0.0  \n",
       "25%      11.000000   321.0000   119.00000     24.0  \n",
       "50%      11.000000   321.0000   149.00000     24.0  \n",
       "75%      15.000000   371.0000   169.00000     32.0  \n",
       "max      26.000000   548.0000   216.00000     32.0  \n",
       "\n",
       "[8 rows x 403 columns]"
      ]
     },
     "execution_count": 380,
     "metadata": {},
     "output_type": "execute_result"
    }
   ],
   "source": [
    "train.describe()"
   ]
  },
  {
   "cell_type": "code",
   "execution_count": 381,
   "metadata": {},
   "outputs": [
    {
     "data": {
      "text/html": [
       "<div>\n",
       "<style scoped>\n",
       "    .dataframe tbody tr th:only-of-type {\n",
       "        vertical-align: middle;\n",
       "    }\n",
       "\n",
       "    .dataframe tbody tr th {\n",
       "        vertical-align: top;\n",
       "    }\n",
       "\n",
       "    .dataframe thead th {\n",
       "        text-align: right;\n",
       "    }\n",
       "</style>\n",
       "<table border=\"1\" class=\"dataframe\">\n",
       "  <thead>\n",
       "    <tr style=\"text-align: right;\">\n",
       "      <th></th>\n",
       "      <th>TransactionID</th>\n",
       "      <th>TransactionDT</th>\n",
       "      <th>TransactionAmt</th>\n",
       "      <th>card1</th>\n",
       "      <th>card2</th>\n",
       "      <th>card3</th>\n",
       "      <th>card5</th>\n",
       "      <th>addr1</th>\n",
       "      <th>addr2</th>\n",
       "      <th>dist1</th>\n",
       "      <th>...</th>\n",
       "      <th>id-17</th>\n",
       "      <th>id-18</th>\n",
       "      <th>id-19</th>\n",
       "      <th>id-20</th>\n",
       "      <th>id-21</th>\n",
       "      <th>id-22</th>\n",
       "      <th>id-24</th>\n",
       "      <th>id-25</th>\n",
       "      <th>id-26</th>\n",
       "      <th>id-32</th>\n",
       "    </tr>\n",
       "  </thead>\n",
       "  <tbody>\n",
       "    <tr>\n",
       "      <th>count</th>\n",
       "      <td>5.066910e+05</td>\n",
       "      <td>5.066910e+05</td>\n",
       "      <td>506691.000000</td>\n",
       "      <td>506691.000000</td>\n",
       "      <td>498037.0</td>\n",
       "      <td>503689.0</td>\n",
       "      <td>502144.0</td>\n",
       "      <td>441082.0</td>\n",
       "      <td>441082.0</td>\n",
       "      <td>215474.0</td>\n",
       "      <td>...</td>\n",
       "      <td>135966.0</td>\n",
       "      <td>5.087500e+04</td>\n",
       "      <td>135906.0</td>\n",
       "      <td>135633.0</td>\n",
       "      <td>5059.0</td>\n",
       "      <td>5062.000000</td>\n",
       "      <td>4740.000000</td>\n",
       "      <td>5039.000</td>\n",
       "      <td>5047.00000</td>\n",
       "      <td>70671.0</td>\n",
       "    </tr>\n",
       "    <tr>\n",
       "      <th>mean</th>\n",
       "      <td>3.916894e+06</td>\n",
       "      <td>2.692994e+07</td>\n",
       "      <td>NaN</td>\n",
       "      <td>9957.222175</td>\n",
       "      <td>NaN</td>\n",
       "      <td>NaN</td>\n",
       "      <td>NaN</td>\n",
       "      <td>NaN</td>\n",
       "      <td>NaN</td>\n",
       "      <td>NaN</td>\n",
       "      <td>...</td>\n",
       "      <td>NaN</td>\n",
       "      <td>inf</td>\n",
       "      <td>NaN</td>\n",
       "      <td>NaN</td>\n",
       "      <td>inf</td>\n",
       "      <td>inf</td>\n",
       "      <td>13.179688</td>\n",
       "      <td>inf</td>\n",
       "      <td>inf</td>\n",
       "      <td>NaN</td>\n",
       "    </tr>\n",
       "    <tr>\n",
       "      <th>std</th>\n",
       "      <td>1.462692e+05</td>\n",
       "      <td>4.756507e+06</td>\n",
       "      <td>NaN</td>\n",
       "      <td>4884.960969</td>\n",
       "      <td>NaN</td>\n",
       "      <td>0.0</td>\n",
       "      <td>0.0</td>\n",
       "      <td>NaN</td>\n",
       "      <td>0.0</td>\n",
       "      <td>NaN</td>\n",
       "      <td>...</td>\n",
       "      <td>0.0</td>\n",
       "      <td>2.318359e+00</td>\n",
       "      <td>NaN</td>\n",
       "      <td>NaN</td>\n",
       "      <td>inf</td>\n",
       "      <td>5.617188</td>\n",
       "      <td>3.222656</td>\n",
       "      <td>86.375</td>\n",
       "      <td>31.90625</td>\n",
       "      <td>0.0</td>\n",
       "    </tr>\n",
       "    <tr>\n",
       "      <th>min</th>\n",
       "      <td>3.663549e+06</td>\n",
       "      <td>1.840322e+07</td>\n",
       "      <td>0.018005</td>\n",
       "      <td>1001.000000</td>\n",
       "      <td>100.0</td>\n",
       "      <td>100.0</td>\n",
       "      <td>100.0</td>\n",
       "      <td>100.0</td>\n",
       "      <td>10.0</td>\n",
       "      <td>0.0</td>\n",
       "      <td>...</td>\n",
       "      <td>100.0</td>\n",
       "      <td>1.100000e+01</td>\n",
       "      <td>100.0</td>\n",
       "      <td>100.0</td>\n",
       "      <td>100.0</td>\n",
       "      <td>11.000000</td>\n",
       "      <td>10.000000</td>\n",
       "      <td>100.000</td>\n",
       "      <td>100.00000</td>\n",
       "      <td>8.0</td>\n",
       "    </tr>\n",
       "    <tr>\n",
       "      <th>25%</th>\n",
       "      <td>3.790222e+06</td>\n",
       "      <td>2.277154e+07</td>\n",
       "      <td>40.000000</td>\n",
       "      <td>6019.000000</td>\n",
       "      <td>207.0</td>\n",
       "      <td>150.0</td>\n",
       "      <td>166.0</td>\n",
       "      <td>204.0</td>\n",
       "      <td>87.0</td>\n",
       "      <td>3.0</td>\n",
       "      <td>...</td>\n",
       "      <td>166.0</td>\n",
       "      <td>1.300000e+01</td>\n",
       "      <td>266.0</td>\n",
       "      <td>256.0</td>\n",
       "      <td>252.0</td>\n",
       "      <td>14.000000</td>\n",
       "      <td>11.000000</td>\n",
       "      <td>321.000</td>\n",
       "      <td>137.00000</td>\n",
       "      <td>24.0</td>\n",
       "    </tr>\n",
       "    <tr>\n",
       "      <th>50%</th>\n",
       "      <td>3.916894e+06</td>\n",
       "      <td>2.720466e+07</td>\n",
       "      <td>67.937500</td>\n",
       "      <td>9803.000000</td>\n",
       "      <td>369.0</td>\n",
       "      <td>150.0</td>\n",
       "      <td>226.0</td>\n",
       "      <td>299.0</td>\n",
       "      <td>87.0</td>\n",
       "      <td>8.0</td>\n",
       "      <td>...</td>\n",
       "      <td>166.0</td>\n",
       "      <td>1.500000e+01</td>\n",
       "      <td>321.0</td>\n",
       "      <td>484.0</td>\n",
       "      <td>576.0</td>\n",
       "      <td>14.000000</td>\n",
       "      <td>11.000000</td>\n",
       "      <td>321.000</td>\n",
       "      <td>147.00000</td>\n",
       "      <td>24.0</td>\n",
       "    </tr>\n",
       "    <tr>\n",
       "      <th>75%</th>\n",
       "      <td>4.043566e+06</td>\n",
       "      <td>3.134856e+07</td>\n",
       "      <td>125.000000</td>\n",
       "      <td>14276.000000</td>\n",
       "      <td>512.0</td>\n",
       "      <td>150.0</td>\n",
       "      <td>226.0</td>\n",
       "      <td>330.0</td>\n",
       "      <td>87.0</td>\n",
       "      <td>20.0</td>\n",
       "      <td>...</td>\n",
       "      <td>225.0</td>\n",
       "      <td>1.500000e+01</td>\n",
       "      <td>427.0</td>\n",
       "      <td>549.0</td>\n",
       "      <td>711.0</td>\n",
       "      <td>14.000000</td>\n",
       "      <td>15.000000</td>\n",
       "      <td>355.000</td>\n",
       "      <td>182.00000</td>\n",
       "      <td>32.0</td>\n",
       "    </tr>\n",
       "    <tr>\n",
       "      <th>max</th>\n",
       "      <td>4.170239e+06</td>\n",
       "      <td>3.421434e+07</td>\n",
       "      <td>10272.000000</td>\n",
       "      <td>18397.000000</td>\n",
       "      <td>600.0</td>\n",
       "      <td>232.0</td>\n",
       "      <td>237.0</td>\n",
       "      <td>540.0</td>\n",
       "      <td>102.0</td>\n",
       "      <td>8080.0</td>\n",
       "      <td>...</td>\n",
       "      <td>228.0</td>\n",
       "      <td>2.900000e+01</td>\n",
       "      <td>670.0</td>\n",
       "      <td>660.0</td>\n",
       "      <td>854.0</td>\n",
       "      <td>44.000000</td>\n",
       "      <td>26.000000</td>\n",
       "      <td>549.000</td>\n",
       "      <td>216.00000</td>\n",
       "      <td>48.0</td>\n",
       "    </tr>\n",
       "  </tbody>\n",
       "</table>\n",
       "<p>8 rows × 402 columns</p>\n",
       "</div>"
      ],
      "text/plain": [
       "       TransactionID  TransactionDT  TransactionAmt          card1     card2  \\\n",
       "count   5.066910e+05   5.066910e+05   506691.000000  506691.000000  498037.0   \n",
       "mean    3.916894e+06   2.692994e+07             NaN    9957.222175       NaN   \n",
       "std     1.462692e+05   4.756507e+06             NaN    4884.960969       NaN   \n",
       "min     3.663549e+06   1.840322e+07        0.018005    1001.000000     100.0   \n",
       "25%     3.790222e+06   2.277154e+07       40.000000    6019.000000     207.0   \n",
       "50%     3.916894e+06   2.720466e+07       67.937500    9803.000000     369.0   \n",
       "75%     4.043566e+06   3.134856e+07      125.000000   14276.000000     512.0   \n",
       "max     4.170239e+06   3.421434e+07    10272.000000   18397.000000     600.0   \n",
       "\n",
       "          card3     card5     addr1     addr2     dist1  ...     id-17  \\\n",
       "count  503689.0  502144.0  441082.0  441082.0  215474.0  ...  135966.0   \n",
       "mean        NaN       NaN       NaN       NaN       NaN  ...       NaN   \n",
       "std         0.0       0.0       NaN       0.0       NaN  ...       0.0   \n",
       "min       100.0     100.0     100.0      10.0       0.0  ...     100.0   \n",
       "25%       150.0     166.0     204.0      87.0       3.0  ...     166.0   \n",
       "50%       150.0     226.0     299.0      87.0       8.0  ...     166.0   \n",
       "75%       150.0     226.0     330.0      87.0      20.0  ...     225.0   \n",
       "max       232.0     237.0     540.0     102.0    8080.0  ...     228.0   \n",
       "\n",
       "              id-18     id-19     id-20   id-21        id-22        id-24  \\\n",
       "count  5.087500e+04  135906.0  135633.0  5059.0  5062.000000  4740.000000   \n",
       "mean            inf       NaN       NaN     inf          inf    13.179688   \n",
       "std    2.318359e+00       NaN       NaN     inf     5.617188     3.222656   \n",
       "min    1.100000e+01     100.0     100.0   100.0    11.000000    10.000000   \n",
       "25%    1.300000e+01     266.0     256.0   252.0    14.000000    11.000000   \n",
       "50%    1.500000e+01     321.0     484.0   576.0    14.000000    11.000000   \n",
       "75%    1.500000e+01     427.0     549.0   711.0    14.000000    15.000000   \n",
       "max    2.900000e+01     670.0     660.0   854.0    44.000000    26.000000   \n",
       "\n",
       "          id-25       id-26    id-32  \n",
       "count  5039.000  5047.00000  70671.0  \n",
       "mean        inf         inf      NaN  \n",
       "std      86.375    31.90625      0.0  \n",
       "min     100.000   100.00000      8.0  \n",
       "25%     321.000   137.00000     24.0  \n",
       "50%     321.000   147.00000     24.0  \n",
       "75%     355.000   182.00000     32.0  \n",
       "max     549.000   216.00000     48.0  \n",
       "\n",
       "[8 rows x 402 columns]"
      ]
     },
     "execution_count": 381,
     "metadata": {},
     "output_type": "execute_result"
    }
   ],
   "source": [
    "test.describe()"
   ]
  },
  {
   "cell_type": "code",
   "execution_count": 382,
   "metadata": {},
   "outputs": [
    {
     "data": {
      "text/html": [
       "<div>\n",
       "<style scoped>\n",
       "    .dataframe tbody tr th:only-of-type {\n",
       "        vertical-align: middle;\n",
       "    }\n",
       "\n",
       "    .dataframe tbody tr th {\n",
       "        vertical-align: top;\n",
       "    }\n",
       "\n",
       "    .dataframe thead th {\n",
       "        text-align: right;\n",
       "    }\n",
       "</style>\n",
       "<table border=\"1\" class=\"dataframe\">\n",
       "  <thead>\n",
       "    <tr style=\"text-align: right;\">\n",
       "      <th></th>\n",
       "      <th>DeviceType</th>\n",
       "      <th>DeviceInfo</th>\n",
       "    </tr>\n",
       "  </thead>\n",
       "  <tbody>\n",
       "    <tr>\n",
       "      <th>0</th>\n",
       "      <td>NaN</td>\n",
       "      <td>NaN</td>\n",
       "    </tr>\n",
       "    <tr>\n",
       "      <th>1</th>\n",
       "      <td>NaN</td>\n",
       "      <td>NaN</td>\n",
       "    </tr>\n",
       "    <tr>\n",
       "      <th>2</th>\n",
       "      <td>NaN</td>\n",
       "      <td>NaN</td>\n",
       "    </tr>\n",
       "    <tr>\n",
       "      <th>3</th>\n",
       "      <td>NaN</td>\n",
       "      <td>NaN</td>\n",
       "    </tr>\n",
       "    <tr>\n",
       "      <th>4</th>\n",
       "      <td>mobile</td>\n",
       "      <td>SAMSUNG SM-G892A Build/NRD90M</td>\n",
       "    </tr>\n",
       "    <tr>\n",
       "      <th>5</th>\n",
       "      <td>NaN</td>\n",
       "      <td>NaN</td>\n",
       "    </tr>\n",
       "    <tr>\n",
       "      <th>6</th>\n",
       "      <td>NaN</td>\n",
       "      <td>NaN</td>\n",
       "    </tr>\n",
       "    <tr>\n",
       "      <th>7</th>\n",
       "      <td>NaN</td>\n",
       "      <td>NaN</td>\n",
       "    </tr>\n",
       "    <tr>\n",
       "      <th>8</th>\n",
       "      <td>mobile</td>\n",
       "      <td>iOS Device</td>\n",
       "    </tr>\n",
       "    <tr>\n",
       "      <th>9</th>\n",
       "      <td>NaN</td>\n",
       "      <td>NaN</td>\n",
       "    </tr>\n",
       "  </tbody>\n",
       "</table>\n",
       "</div>"
      ],
      "text/plain": [
       "  DeviceType                     DeviceInfo\n",
       "0        NaN                            NaN\n",
       "1        NaN                            NaN\n",
       "2        NaN                            NaN\n",
       "3        NaN                            NaN\n",
       "4     mobile  SAMSUNG SM-G892A Build/NRD90M\n",
       "5        NaN                            NaN\n",
       "6        NaN                            NaN\n",
       "7        NaN                            NaN\n",
       "8     mobile                     iOS Device\n",
       "9        NaN                            NaN"
      ]
     },
     "execution_count": 382,
     "metadata": {},
     "output_type": "execute_result"
    }
   ],
   "source": [
    "train[['DeviceType', 'DeviceInfo']].head(10)"
   ]
  },
  {
   "cell_type": "markdown",
   "metadata": {},
   "source": [
    "# Feature Engineering "
   ]
  },
  {
   "cell_type": "markdown",
   "metadata": {},
   "source": [
    "## Extraction Function "
   ]
  },
  {
   "cell_type": "code",
   "execution_count": 383,
   "metadata": {},
   "outputs": [],
   "source": [
    "def extract_time_features(df):\n",
    "    df['DT'] = df['TransactionDT'].apply(lambda x: START_DATE_TIME+datetime.timedelta(seconds=x))\n",
    "    df['DT_M'] = df['DT'].apply(lambda x: x.month)\n",
    "    df['DT_W'] = df['DT'].apply(lambda x: x.week)\n",
    "    df['DT_D'] = df['DT'].apply(lambda x: x.day)\n",
    "    df['DT_H'] = df['DT'].apply(lambda x: x.hour)\n",
    "    df['DT_DayOfWeek'] = df['DT'].apply(lambda x: x.weekday())\n",
    "    df.drop('DT', inplace=True, axis=1)\n",
    "    return df"
   ]
  },
  {
   "cell_type": "markdown",
   "metadata": {},
   "source": [
    "## Time related features"
   ]
  },
  {
   "cell_type": "code",
   "execution_count": 384,
   "metadata": {},
   "outputs": [
    {
     "data": {
      "text/plain": [
       "count    590540.000000\n",
       "mean         84.729199\n",
       "std          53.437277\n",
       "min           1.000000\n",
       "25%          35.000000\n",
       "50%          84.000000\n",
       "75%         130.000000\n",
       "max         182.000000\n",
       "Name: TransactionDT, dtype: float64"
      ]
     },
     "execution_count": 384,
     "metadata": {},
     "output_type": "execute_result"
    }
   ],
   "source": [
    "(train['TransactionDT']//(3600*24)).describe()"
   ]
  },
  {
   "cell_type": "code",
   "execution_count": 385,
   "metadata": {},
   "outputs": [
    {
     "data": {
      "text/plain": [
       "count    506691.000000\n",
       "mean        311.086427\n",
       "std          55.058802\n",
       "min         213.000000\n",
       "25%         263.000000\n",
       "50%         314.000000\n",
       "75%         362.000000\n",
       "max         395.000000\n",
       "Name: TransactionDT, dtype: float64"
      ]
     },
     "execution_count": 385,
     "metadata": {},
     "output_type": "execute_result"
    }
   ],
   "source": [
    "(test['TransactionDT']//(3600*24)).describe()"
   ]
  },
  {
   "cell_type": "markdown",
   "metadata": {},
   "source": [
    "1. train: 1-182\n",
    "2. test: 213-395"
   ]
  },
  {
   "cell_type": "code",
   "execution_count": 386,
   "metadata": {},
   "outputs": [],
   "source": [
    "START_TIME = '2017-11-30'\n",
    "TIME_FORMAT = '%Y-%M-%d'\n",
    "START_DATE_TIME = datetime.datetime.strptime(START_TIME, TIME_FORMAT)"
   ]
  },
  {
   "cell_type": "code",
   "execution_count": null,
   "metadata": {},
   "outputs": [],
   "source": []
  },
  {
   "cell_type": "code",
   "execution_count": 387,
   "metadata": {},
   "outputs": [],
   "source": [
    "train = extract_time_features(train)"
   ]
  },
  {
   "cell_type": "code",
   "execution_count": 388,
   "metadata": {
    "scrolled": false
   },
   "outputs": [],
   "source": [
    "cols = [col for col in df.columns if 'DT_' in col and col !='DT_D']\n",
    "for col in cols:\n",
    "    category_view_binary(df=df, col=col, target='isFraud')\n",
    "# train[cols].head()"
   ]
  },
  {
   "cell_type": "code",
   "execution_count": 389,
   "metadata": {},
   "outputs": [
    {
     "data": {
      "text/plain": [
       "(590540, 439)"
      ]
     },
     "execution_count": 389,
     "metadata": {},
     "output_type": "execute_result"
    }
   ],
   "source": [
    "train.shape"
   ]
  },
  {
   "cell_type": "code",
   "execution_count": 390,
   "metadata": {},
   "outputs": [
    {
     "data": {
      "text/plain": [
       "(506691, 433)"
      ]
     },
     "execution_count": 390,
     "metadata": {},
     "output_type": "execute_result"
    }
   ],
   "source": [
    "test.shape"
   ]
  },
  {
   "cell_type": "markdown",
   "metadata": {},
   "source": [
    "## Frequency Encode "
   ]
  },
  {
   "cell_type": "code",
   "execution_count": 516,
   "metadata": {
    "scrolled": true
   },
   "outputs": [],
   "source": [
    "# Frequency Encoding\n",
    "# data leakage\n",
    "def frequency_encoding(train, test, columns, self_encoding=False):\n",
    "    for col in columns:\n",
    "        df = pd.concat([train[[col]], test[[col]]])\n",
    "        fq_encode = df[col].value_counts(dropna=False, normalize=True).to_dict()\n",
    "        if self_encoding:\n",
    "            train[col] = train[col].map(fq_encode)\n",
    "            test[col]  = test[col].map(fq_encode)            \n",
    "        else:\n",
    "            train[col+'_freq'] = train[col].map(fq_encode)\n",
    "            test[col+'_freq']  = test[col].map(fq_encode)\n",
    "    return train, test"
   ]
  },
  {
   "cell_type": "markdown",
   "metadata": {},
   "source": [
    "# Data Prep & Model Config"
   ]
  },
  {
   "cell_type": "markdown",
   "metadata": {},
   "source": [
    "## Model Config "
   ]
  },
  {
   "cell_type": "code",
   "execution_count": 473,
   "metadata": {},
   "outputs": [],
   "source": [
    "types = pd.DataFrame(train.dtypes)"
   ]
  },
  {
   "cell_type": "code",
   "execution_count": 474,
   "metadata": {},
   "outputs": [
    {
     "data": {
      "text/html": [
       "<div>\n",
       "<style scoped>\n",
       "    .dataframe tbody tr th:only-of-type {\n",
       "        vertical-align: middle;\n",
       "    }\n",
       "\n",
       "    .dataframe tbody tr th {\n",
       "        vertical-align: top;\n",
       "    }\n",
       "\n",
       "    .dataframe thead th {\n",
       "        text-align: right;\n",
       "    }\n",
       "</style>\n",
       "<table border=\"1\" class=\"dataframe\">\n",
       "  <thead>\n",
       "    <tr style=\"text-align: right;\">\n",
       "      <th></th>\n",
       "      <th>0</th>\n",
       "    </tr>\n",
       "  </thead>\n",
       "  <tbody>\n",
       "    <tr>\n",
       "      <th>TransactionID</th>\n",
       "      <td>int32</td>\n",
       "    </tr>\n",
       "    <tr>\n",
       "      <th>isFraud</th>\n",
       "      <td>int8</td>\n",
       "    </tr>\n",
       "    <tr>\n",
       "      <th>TransactionDT</th>\n",
       "      <td>int32</td>\n",
       "    </tr>\n",
       "    <tr>\n",
       "      <th>TransactionAmt</th>\n",
       "      <td>float16</td>\n",
       "    </tr>\n",
       "    <tr>\n",
       "      <th>ProductCD</th>\n",
       "      <td>object</td>\n",
       "    </tr>\n",
       "    <tr>\n",
       "      <th>...</th>\n",
       "      <td>...</td>\n",
       "    </tr>\n",
       "    <tr>\n",
       "      <th>DT_M</th>\n",
       "      <td>int64</td>\n",
       "    </tr>\n",
       "    <tr>\n",
       "      <th>DT_W</th>\n",
       "      <td>int64</td>\n",
       "    </tr>\n",
       "    <tr>\n",
       "      <th>DT_D</th>\n",
       "      <td>int64</td>\n",
       "    </tr>\n",
       "    <tr>\n",
       "      <th>DT_H</th>\n",
       "      <td>int64</td>\n",
       "    </tr>\n",
       "    <tr>\n",
       "      <th>DT_DayOfWeek</th>\n",
       "      <td>int64</td>\n",
       "    </tr>\n",
       "  </tbody>\n",
       "</table>\n",
       "<p>367 rows × 1 columns</p>\n",
       "</div>"
      ],
      "text/plain": [
       "                      0\n",
       "TransactionID     int32\n",
       "isFraud            int8\n",
       "TransactionDT     int32\n",
       "TransactionAmt  float16\n",
       "ProductCD        object\n",
       "...                 ...\n",
       "DT_M              int64\n",
       "DT_W              int64\n",
       "DT_D              int64\n",
       "DT_H              int64\n",
       "DT_DayOfWeek      int64\n",
       "\n",
       "[367 rows x 1 columns]"
      ]
     },
     "execution_count": 474,
     "metadata": {},
     "output_type": "execute_result"
    }
   ],
   "source": [
    "types"
   ]
  },
  {
   "cell_type": "code",
   "execution_count": 490,
   "metadata": {},
   "outputs": [],
   "source": [
    "category_cols = types[types[0] == np.object].index.to_list()"
   ]
  },
  {
   "cell_type": "markdown",
   "metadata": {},
   "source": [
    "## Data Prep "
   ]
  },
  {
   "cell_type": "code",
   "execution_count": 391,
   "metadata": {},
   "outputs": [],
   "source": [
    "test = extract_time_features(test)"
   ]
  },
  {
   "cell_type": "code",
   "execution_count": 446,
   "metadata": {},
   "outputs": [],
   "source": [
    "test = test.drop(null_col_to_remove, axis=1)"
   ]
  },
  {
   "cell_type": "code",
   "execution_count": 520,
   "metadata": {},
   "outputs": [],
   "source": [
    "train, test = frequency_encoding(train, test, category_cols, self_encoding=False)"
   ]
  },
  {
   "cell_type": "code",
   "execution_count": 521,
   "metadata": {},
   "outputs": [],
   "source": [
    "train, test = frequency_encoding(train, test, category_cols, self_encoding=True)"
   ]
  },
  {
   "cell_type": "code",
   "execution_count": 561,
   "metadata": {
    "scrolled": true
   },
   "outputs": [
    {
     "data": {
      "text/plain": [
       "['ProductCD_freq',\n",
       " 'card4_freq',\n",
       " 'card6_freq',\n",
       " 'P_emaildomain_freq',\n",
       " 'R_emaildomain_freq',\n",
       " 'M1_freq',\n",
       " 'M2_freq',\n",
       " 'M3_freq',\n",
       " 'M4_freq',\n",
       " 'M5_freq',\n",
       " 'M6_freq',\n",
       " 'M7_freq',\n",
       " 'M8_freq',\n",
       " 'M9_freq',\n",
       " 'id-12_freq',\n",
       " 'id-15_freq',\n",
       " 'id-16_freq',\n",
       " 'id-23_freq',\n",
       " 'id-27_freq',\n",
       " 'id-28_freq',\n",
       " 'id-29_freq',\n",
       " 'id-31_freq',\n",
       " 'id-35_freq',\n",
       " 'id-36_freq',\n",
       " 'id-37_freq',\n",
       " 'id-38_freq',\n",
       " 'DeviceType_freq',\n",
       " 'DeviceInfo_freq']"
      ]
     },
     "execution_count": 561,
     "metadata": {},
     "output_type": "execute_result"
    }
   ],
   "source": [
    "[col for col in train.columns if 'freq' in col]"
   ]
  },
  {
   "cell_type": "markdown",
   "metadata": {},
   "source": [
    "# Model Training"
   ]
  },
  {
   "cell_type": "code",
   "execution_count": 522,
   "metadata": {
    "execution": {
     "iopub.execute_input": "2021-09-30T18:39:37.12809Z",
     "iopub.status.busy": "2021-09-30T18:39:37.125712Z",
     "iopub.status.idle": "2021-09-30T18:39:37.132527Z",
     "shell.execute_reply": "2021-09-30T18:39:37.131588Z",
     "shell.execute_reply.started": "2021-09-30T18:39:37.128046Z"
    }
   },
   "outputs": [],
   "source": [
    "from sklearn.model_selection import train_test_split\n",
    "from sklearn.metrics import classification_report, plot_confusion_matrix\n",
    "from sklearn.preprocessing import OrdinalEncoder\n",
    "from sklearn.pipeline import Pipeline"
   ]
  },
  {
   "cell_type": "markdown",
   "metadata": {},
   "source": [
    "## Model config "
   ]
  },
  {
   "cell_type": "code",
   "execution_count": 523,
   "metadata": {
    "execution": {
     "iopub.execute_input": "2021-09-30T18:48:44.920764Z",
     "iopub.status.busy": "2021-09-30T18:48:44.920073Z",
     "iopub.status.idle": "2021-09-30T18:48:44.926418Z",
     "shell.execute_reply": "2021-09-30T18:48:44.92519Z",
     "shell.execute_reply.started": "2021-09-30T18:48:44.920696Z"
    }
   },
   "outputs": [],
   "source": [
    "n_estimators = 5\n",
    "max_depth = 5\n",
    "learning_rate = 0.1\n",
    "\n",
    "# columns to move\n",
    "col_to_remove = ['isFraud'] \n",
    "#+ type_dict[np.dtype('O')]"
   ]
  },
  {
   "cell_type": "code",
   "execution_count": 524,
   "metadata": {
    "execution": {
     "iopub.execute_input": "2021-09-30T18:39:37.146782Z",
     "iopub.status.busy": "2021-09-30T18:39:37.146254Z",
     "iopub.status.idle": "2021-09-30T18:39:37.623565Z",
     "shell.execute_reply": "2021-09-30T18:39:37.622595Z",
     "shell.execute_reply.started": "2021-09-30T18:39:37.146737Z"
    }
   },
   "outputs": [],
   "source": [
    "label = train['isFraud']\n",
    "data = train.drop(col_to_remove, axis=1)"
   ]
  },
  {
   "cell_type": "code",
   "execution_count": 525,
   "metadata": {},
   "outputs": [
    {
     "data": {
      "text/plain": [
       "(590540, 394)"
      ]
     },
     "execution_count": 525,
     "metadata": {},
     "output_type": "execute_result"
    }
   ],
   "source": [
    "data.shape"
   ]
  },
  {
   "cell_type": "markdown",
   "metadata": {
    "execution": {
     "iopub.execute_input": "2021-09-30T18:40:44.987583Z",
     "iopub.status.busy": "2021-09-30T18:40:44.987268Z",
     "iopub.status.idle": "2021-09-30T18:40:46.300577Z",
     "shell.execute_reply": "2021-09-30T18:40:46.29963Z",
     "shell.execute_reply.started": "2021-09-30T18:40:44.987551Z"
    }
   },
   "source": [
    "## ML Pipeline "
   ]
  },
  {
   "cell_type": "code",
   "execution_count": 548,
   "metadata": {},
   "outputs": [],
   "source": [
    "train_feature, val_feature, train_label, val_label= train_test_split(data, label, test_size=0.2)"
   ]
  },
  {
   "cell_type": "code",
   "execution_count": 549,
   "metadata": {},
   "outputs": [
    {
     "name": "stdout",
     "output_type": "stream",
     "text": [
      "train_absence: 0\n",
      "[]\n",
      "test_absence: 0\n",
      "[]\n"
     ]
    }
   ],
   "source": [
    "col_absence(train_feature, test)\n",
    "\n",
    "# test.drop(['isFraud'], inplace=True, axis=1)"
   ]
  },
  {
   "cell_type": "code",
   "execution_count": 550,
   "metadata": {},
   "outputs": [
    {
     "name": "stdout",
     "output_type": "stream",
     "text": [
      "Train data:\n",
      "(472432, 394)\n",
      "(472432,)\n",
      "val data:\n",
      "(118108, 394)\n",
      "(118108,)\n",
      "test data:\n",
      "(506691, 394)\n",
      "(506691, 394)\n"
     ]
    }
   ],
   "source": [
    "print(f'Train data:')\n",
    "print(train_feature.shape)\n",
    "print(train_label.shape)\n",
    "\n",
    "print(f'val data:')\n",
    "print(val_feature.shape)\n",
    "print(val_label.shape)\n",
    "\n",
    "print(f'test data:')\n",
    "print(test.shape)\n",
    "print(test.shape)\n",
    "\n",
    "assert train_feature.shape[1] == test.shape[1]"
   ]
  },
  {
   "cell_type": "code",
   "execution_count": 551,
   "metadata": {},
   "outputs": [],
   "source": [
    "#ordinal_encoder = OrdinalEncoder()\n",
    "# ordinal_encoder = NewOrdinalEncoder(category_cols=category_cols)\n",
    "model = XGBClassifier(n_estimators=n_estimators, max_depth=max_depth, enable_categorical=True)"
   ]
  },
  {
   "cell_type": "code",
   "execution_count": 552,
   "metadata": {},
   "outputs": [],
   "source": [
    "# ordinal_encoder.fit(pd.concat([data, test]))"
   ]
  },
  {
   "cell_type": "code",
   "execution_count": 555,
   "metadata": {},
   "outputs": [
    {
     "name": "stdout",
     "output_type": "stream",
     "text": [
      "[23:33:03] WARNING: /opt/concourse/worker/volumes/live/7a2b9f41-3287-451b-6691-43e9a6c0910f/volume/xgboost-split_1619728204606/work/src/learner.cc:541: \n",
      "Parameters: { enable_categorical } might not be used.\n",
      "\n",
      "  This may not be accurate due to some parameters are only used in language bindings but\n",
      "  passed down to XGBoost core.  Or some parameters are not used but slip through this\n",
      "  verification. Please open an issue if you find above cases.\n",
      "\n",
      "\n",
      "[23:33:11] WARNING: /opt/concourse/worker/volumes/live/7a2b9f41-3287-451b-6691-43e9a6c0910f/volume/xgboost-split_1619728204606/work/src/learner.cc:1061: Starting in XGBoost 1.3.0, the default evaluation metric used with the objective 'binary:logistic' was changed from 'error' to 'logloss'. Explicitly set eval_metric if you'd like to restore the old behavior.\n"
     ]
    },
    {
     "data": {
      "text/plain": [
       "XGBClassifier(base_score=0.5, booster='gbtree', colsample_bylevel=1,\n",
       "              colsample_bynode=1, colsample_bytree=1, enable_categorical=True,\n",
       "              gamma=0, gpu_id=-1, importance_type='gain',\n",
       "              interaction_constraints='', learning_rate=0.300000012,\n",
       "              max_delta_step=0, max_depth=5, min_child_weight=1, missing=nan,\n",
       "              monotone_constraints='()', n_estimators=5, n_jobs=4,\n",
       "              num_parallel_tree=1, random_state=0, reg_alpha=0, reg_lambda=1,\n",
       "              scale_pos_weight=1, subsample=1, tree_method='exact',\n",
       "              validate_parameters=1, verbosity=None)"
      ]
     },
     "execution_count": 555,
     "metadata": {},
     "output_type": "execute_result"
    }
   ],
   "source": [
    "# train_feature_trans = ordinal_encoder.transform(train_feature)\n",
    "model.fit(X=train_feature, y=train_label)"
   ]
  },
  {
   "cell_type": "code",
   "execution_count": 556,
   "metadata": {
    "execution": {
     "iopub.execute_input": "2021-09-30T18:40:03.474219Z",
     "iopub.status.busy": "2021-09-30T18:40:03.473597Z",
     "iopub.status.idle": "2021-09-30T18:40:03.536343Z",
     "shell.execute_reply": "2021-09-30T18:40:03.535719Z",
     "shell.execute_reply.started": "2021-09-30T18:40:03.474169Z"
    }
   },
   "outputs": [],
   "source": [
    "# val_trans = ordinal_encoder.transform(val_feature)"
   ]
  },
  {
   "cell_type": "code",
   "execution_count": 557,
   "metadata": {},
   "outputs": [],
   "source": [
    "val_pred = model.predict(val_feature)"
   ]
  },
  {
   "cell_type": "code",
   "execution_count": 558,
   "metadata": {
    "execution": {
     "iopub.execute_input": "2021-09-30T18:40:03.537821Z",
     "iopub.status.busy": "2021-09-30T18:40:03.537364Z",
     "iopub.status.idle": "2021-09-30T18:40:03.689851Z",
     "shell.execute_reply": "2021-09-30T18:40:03.688806Z",
     "shell.execute_reply.started": "2021-09-30T18:40:03.537777Z"
    }
   },
   "outputs": [
    {
     "name": "stdout",
     "output_type": "stream",
     "text": [
      "              precision    recall  f1-score   support\n",
      "\n",
      "           0       0.97      1.00      0.99    113977\n",
      "           1       0.88      0.25      0.39      4131\n",
      "\n",
      "    accuracy                           0.97    118108\n",
      "   macro avg       0.93      0.63      0.69    118108\n",
      "weighted avg       0.97      0.97      0.97    118108\n",
      "\n"
     ]
    }
   ],
   "source": [
    "print(classification_report(y_true=val_label, y_pred=val_pred))"
   ]
  },
  {
   "cell_type": "markdown",
   "metadata": {},
   "source": [
    "## feature importance"
   ]
  },
  {
   "cell_type": "code",
   "execution_count": 562,
   "metadata": {},
   "outputs": [
    {
     "data": {
      "image/png": "[encoded data removed]",
      "text/plain": [
       "<Figure size 1080x576 with 1 Axes>"
      ]
     },
     "metadata": {
      "needs_background": "light"
     },
     "output_type": "display_data"
    }
   ],
   "source": [
    "df = train_feature\n",
    "feature_num = 30\n",
    "\n",
    "importance = pd.Series(model.feature_importances_, index=df.columns).sort_values(ascending=False)\n",
    "importance_series = importance[:feature_num]\n",
    "plt.figure(figsize=(15, 8))\n",
    "sns.barplot(y=importance_series.index, x=importance_series.values)\n",
    "plt.title(\"feature importance\")\n",
    "plt.show()"
   ]
  },
  {
   "cell_type": "code",
   "execution_count": 567,
   "metadata": {},
   "outputs": [
    {
     "ename": "KeyError",
     "evalue": "'C1_freq'",
     "output_type": "error",
     "traceback": [
      "\u001b[0;31m---------------------------------------------------------------------------\u001b[0m",
      "\u001b[0;31mKeyError\u001b[0m                                  Traceback (most recent call last)",
      "\u001b[0;32m~/.conda/envs/machine_learning_learning/lib/python3.6/site-packages/pandas/core/indexes/base.py\u001b[0m in \u001b[0;36mget_loc\u001b[0;34m(self, key, method, tolerance)\u001b[0m\n\u001b[1;32m   2897\u001b[0m             \u001b[0;32mtry\u001b[0m\u001b[0;34m:\u001b[0m\u001b[0;34m\u001b[0m\u001b[0;34m\u001b[0m\u001b[0m\n\u001b[0;32m-> 2898\u001b[0;31m                 \u001b[0;32mreturn\u001b[0m \u001b[0mself\u001b[0m\u001b[0;34m.\u001b[0m\u001b[0m_engine\u001b[0m\u001b[0;34m.\u001b[0m\u001b[0mget_loc\u001b[0m\u001b[0;34m(\u001b[0m\u001b[0mcasted_key\u001b[0m\u001b[0;34m)\u001b[0m\u001b[0;34m\u001b[0m\u001b[0;34m\u001b[0m\u001b[0m\n\u001b[0m\u001b[1;32m   2899\u001b[0m             \u001b[0;32mexcept\u001b[0m \u001b[0mKeyError\u001b[0m \u001b[0;32mas\u001b[0m \u001b[0merr\u001b[0m\u001b[0;34m:\u001b[0m\u001b[0;34m\u001b[0m\u001b[0;34m\u001b[0m\u001b[0m\n",
      "\u001b[0;32mpandas/_libs/index.pyx\u001b[0m in \u001b[0;36mpandas._libs.index.IndexEngine.get_loc\u001b[0;34m()\u001b[0m\n",
      "\u001b[0;32mpandas/_libs/index.pyx\u001b[0m in \u001b[0;36mpandas._libs.index.IndexEngine.get_loc\u001b[0;34m()\u001b[0m\n",
      "\u001b[0;32mpandas/_libs/hashtable_class_helper.pxi\u001b[0m in \u001b[0;36mpandas._libs.hashtable.PyObjectHashTable.get_item\u001b[0;34m()\u001b[0m\n",
      "\u001b[0;32mpandas/_libs/hashtable_class_helper.pxi\u001b[0m in \u001b[0;36mpandas._libs.hashtable.PyObjectHashTable.get_item\u001b[0;34m()\u001b[0m\n",
      "\u001b[0;31mKeyError\u001b[0m: 'C1_freq'",
      "\nThe above exception was the direct cause of the following exception:\n",
      "\u001b[0;31mKeyError\u001b[0m                                  Traceback (most recent call last)",
      "\u001b[0;32m<ipython-input-567-a2abacf49f06>\u001b[0m in \u001b[0;36m<module>\u001b[0;34m\u001b[0m\n\u001b[0;32m----> 1\u001b[0;31m \u001b[0mimportance\u001b[0m\u001b[0;34m[\u001b[0m\u001b[0;34m'C1_freq'\u001b[0m\u001b[0;34m]\u001b[0m\u001b[0;34m\u001b[0m\u001b[0;34m\u001b[0m\u001b[0m\n\u001b[0m",
      "\u001b[0;32m~/.conda/envs/machine_learning_learning/lib/python3.6/site-packages/pandas/core/series.py\u001b[0m in \u001b[0;36m__getitem__\u001b[0;34m(self, key)\u001b[0m\n\u001b[1;32m    880\u001b[0m \u001b[0;34m\u001b[0m\u001b[0m\n\u001b[1;32m    881\u001b[0m         \u001b[0;32melif\u001b[0m \u001b[0mkey_is_scalar\u001b[0m\u001b[0;34m:\u001b[0m\u001b[0;34m\u001b[0m\u001b[0;34m\u001b[0m\u001b[0m\n\u001b[0;32m--> 882\u001b[0;31m             \u001b[0;32mreturn\u001b[0m \u001b[0mself\u001b[0m\u001b[0;34m.\u001b[0m\u001b[0m_get_value\u001b[0m\u001b[0;34m(\u001b[0m\u001b[0mkey\u001b[0m\u001b[0;34m)\u001b[0m\u001b[0;34m\u001b[0m\u001b[0;34m\u001b[0m\u001b[0m\n\u001b[0m\u001b[1;32m    883\u001b[0m \u001b[0;34m\u001b[0m\u001b[0m\n\u001b[1;32m    884\u001b[0m         \u001b[0;32mif\u001b[0m \u001b[0mis_hashable\u001b[0m\u001b[0;34m(\u001b[0m\u001b[0mkey\u001b[0m\u001b[0;34m)\u001b[0m\u001b[0;34m:\u001b[0m\u001b[0;34m\u001b[0m\u001b[0;34m\u001b[0m\u001b[0m\n",
      "\u001b[0;32m~/.conda/envs/machine_learning_learning/lib/python3.6/site-packages/pandas/core/series.py\u001b[0m in \u001b[0;36m_get_value\u001b[0;34m(self, label, takeable)\u001b[0m\n\u001b[1;32m    988\u001b[0m \u001b[0;34m\u001b[0m\u001b[0m\n\u001b[1;32m    989\u001b[0m         \u001b[0;31m# Similar to Index.get_value, but we do not fall back to positional\u001b[0m\u001b[0;34m\u001b[0m\u001b[0;34m\u001b[0m\u001b[0;34m\u001b[0m\u001b[0m\n\u001b[0;32m--> 990\u001b[0;31m         \u001b[0mloc\u001b[0m \u001b[0;34m=\u001b[0m \u001b[0mself\u001b[0m\u001b[0;34m.\u001b[0m\u001b[0mindex\u001b[0m\u001b[0;34m.\u001b[0m\u001b[0mget_loc\u001b[0m\u001b[0;34m(\u001b[0m\u001b[0mlabel\u001b[0m\u001b[0;34m)\u001b[0m\u001b[0;34m\u001b[0m\u001b[0;34m\u001b[0m\u001b[0m\n\u001b[0m\u001b[1;32m    991\u001b[0m         \u001b[0;32mreturn\u001b[0m \u001b[0mself\u001b[0m\u001b[0;34m.\u001b[0m\u001b[0mindex\u001b[0m\u001b[0;34m.\u001b[0m\u001b[0m_get_values_for_loc\u001b[0m\u001b[0;34m(\u001b[0m\u001b[0mself\u001b[0m\u001b[0;34m,\u001b[0m \u001b[0mloc\u001b[0m\u001b[0;34m,\u001b[0m \u001b[0mlabel\u001b[0m\u001b[0;34m)\u001b[0m\u001b[0;34m\u001b[0m\u001b[0;34m\u001b[0m\u001b[0m\n\u001b[1;32m    992\u001b[0m \u001b[0;34m\u001b[0m\u001b[0m\n",
      "\u001b[0;32m~/.conda/envs/machine_learning_learning/lib/python3.6/site-packages/pandas/core/indexes/base.py\u001b[0m in \u001b[0;36mget_loc\u001b[0;34m(self, key, method, tolerance)\u001b[0m\n\u001b[1;32m   2898\u001b[0m                 \u001b[0;32mreturn\u001b[0m \u001b[0mself\u001b[0m\u001b[0;34m.\u001b[0m\u001b[0m_engine\u001b[0m\u001b[0;34m.\u001b[0m\u001b[0mget_loc\u001b[0m\u001b[0;34m(\u001b[0m\u001b[0mcasted_key\u001b[0m\u001b[0;34m)\u001b[0m\u001b[0;34m\u001b[0m\u001b[0;34m\u001b[0m\u001b[0m\n\u001b[1;32m   2899\u001b[0m             \u001b[0;32mexcept\u001b[0m \u001b[0mKeyError\u001b[0m \u001b[0;32mas\u001b[0m \u001b[0merr\u001b[0m\u001b[0;34m:\u001b[0m\u001b[0;34m\u001b[0m\u001b[0;34m\u001b[0m\u001b[0m\n\u001b[0;32m-> 2900\u001b[0;31m                 \u001b[0;32mraise\u001b[0m \u001b[0mKeyError\u001b[0m\u001b[0;34m(\u001b[0m\u001b[0mkey\u001b[0m\u001b[0;34m)\u001b[0m \u001b[0;32mfrom\u001b[0m \u001b[0merr\u001b[0m\u001b[0;34m\u001b[0m\u001b[0;34m\u001b[0m\u001b[0m\n\u001b[0m\u001b[1;32m   2901\u001b[0m \u001b[0;34m\u001b[0m\u001b[0m\n\u001b[1;32m   2902\u001b[0m         \u001b[0;32mif\u001b[0m \u001b[0mtolerance\u001b[0m \u001b[0;32mis\u001b[0m \u001b[0;32mnot\u001b[0m \u001b[0;32mNone\u001b[0m\u001b[0;34m:\u001b[0m\u001b[0;34m\u001b[0m\u001b[0;34m\u001b[0m\u001b[0m\n",
      "\u001b[0;31mKeyError\u001b[0m: 'C1_freq'"
     ]
    }
   ],
   "source": [
    "importance['C1_freq']"
   ]
  },
  {
   "cell_type": "code",
   "execution_count": 566,
   "metadata": {},
   "outputs": [
    {
     "data": {
      "text/plain": [
       "V123             0.000000\n",
       "V64              0.000000\n",
       "V56              0.000000\n",
       "id-16_freq       0.000000\n",
       "V294             0.033134\n",
       "V195             0.000000\n",
       "V91              0.000000\n",
       "V119             0.000000\n",
       "TransactionID    0.002815\n",
       "V268             0.000802\n",
       "dtype: float32"
      ]
     },
     "execution_count": 566,
     "metadata": {},
     "output_type": "execute_result"
    }
   ],
   "source": [
    "importance.sample(1)"
   ]
  },
  {
   "cell_type": "markdown",
   "metadata": {},
   "source": [
    "# Result Generation"
   ]
  },
  {
   "cell_type": "code",
   "execution_count": 560,
   "metadata": {
    "execution": {
     "iopub.execute_input": "2021-09-30T18:48:50.123534Z",
     "iopub.status.busy": "2021-09-30T18:48:50.123243Z",
     "iopub.status.idle": "2021-09-30T18:48:50.127699Z",
     "shell.execute_reply": "2021-09-30T18:48:50.126936Z",
     "shell.execute_reply.started": "2021-09-30T18:48:50.123505Z"
    }
   },
   "outputs": [
    {
     "ename": "ValueError",
     "evalue": "list.remove(x): x not in list",
     "output_type": "error",
     "traceback": [
      "\u001b[0;31m---------------------------------------------------------------------------\u001b[0m",
      "\u001b[0;31mValueError\u001b[0m                                Traceback (most recent call last)",
      "\u001b[0;32m<ipython-input-560-6ebb85e19078>\u001b[0m in \u001b[0;36m<module>\u001b[0;34m\u001b[0m\n\u001b[0;32m----> 1\u001b[0;31m \u001b[0mcol_to_remove\u001b[0m\u001b[0;34m.\u001b[0m\u001b[0mremove\u001b[0m\u001b[0;34m(\u001b[0m\u001b[0;34m\"isFraud\"\u001b[0m\u001b[0;34m)\u001b[0m\u001b[0;34m\u001b[0m\u001b[0;34m\u001b[0m\u001b[0m\n\u001b[0m\u001b[1;32m      2\u001b[0m \u001b[0;31m# col_to_remove.append(\"TransactionID\")\u001b[0m\u001b[0;34m\u001b[0m\u001b[0;34m\u001b[0m\u001b[0;34m\u001b[0m\u001b[0m\n",
      "\u001b[0;31mValueError\u001b[0m: list.remove(x): x not in list"
     ]
    }
   ],
   "source": [
    "col_to_remove.remove(\"isFraud\")\n",
    "# col_to_remove.append(\"TransactionID\")"
   ]
  },
  {
   "cell_type": "code",
   "execution_count": null,
   "metadata": {
    "execution": {
     "iopub.execute_input": "2021-09-30T18:48:52.760664Z",
     "iopub.status.busy": "2021-09-30T18:48:52.760338Z",
     "iopub.status.idle": "2021-09-30T18:48:53.30468Z",
     "shell.execute_reply": "2021-09-30T18:48:53.303884Z",
     "shell.execute_reply.started": "2021-09-30T18:48:52.76063Z"
    }
   },
   "outputs": [],
   "source": [
    "data_test = test.drop(col_to_remove, axis=1)\n"
   ]
  },
  {
   "cell_type": "code",
   "execution_count": null,
   "metadata": {
    "execution": {
     "iopub.execute_input": "2021-09-30T18:48:57.21278Z",
     "iopub.status.busy": "2021-09-30T18:48:57.212449Z",
     "iopub.status.idle": "2021-09-30T18:48:57.218547Z",
     "shell.execute_reply": "2021-09-30T18:48:57.217242Z",
     "shell.execute_reply.started": "2021-09-30T18:48:57.212747Z"
    }
   },
   "outputs": [],
   "source": [
    "print(data.shape)\n",
    "print(data_test.shape)"
   ]
  },
  {
   "cell_type": "code",
   "execution_count": null,
   "metadata": {
    "execution": {
     "iopub.execute_input": "2021-09-30T18:48:59.558834Z",
     "iopub.status.busy": "2021-09-30T18:48:59.558555Z",
     "iopub.status.idle": "2021-09-30T18:48:59.573222Z",
     "shell.execute_reply": "2021-09-30T18:48:59.572359Z",
     "shell.execute_reply.started": "2021-09-30T18:48:59.558805Z"
    }
   },
   "outputs": [],
   "source": [
    "data.columns"
   ]
  },
  {
   "cell_type": "code",
   "execution_count": null,
   "metadata": {
    "execution": {
     "iopub.execute_input": "2021-09-30T18:49:05.48965Z",
     "iopub.status.busy": "2021-09-30T18:49:05.489322Z",
     "iopub.status.idle": "2021-09-30T18:49:08.29893Z",
     "shell.execute_reply": "2021-09-30T18:49:08.297646Z",
     "shell.execute_reply.started": "2021-09-30T18:49:05.48961Z"
    }
   },
   "outputs": [],
   "source": [
    "pipeline = Pipeline([\n",
    "#     ('ordinal_encoder', ordinal_encoder)\n",
    "    , ('model', model)\n",
    "])"
   ]
  },
  {
   "cell_type": "code",
   "execution_count": null,
   "metadata": {},
   "outputs": [],
   "source": [
    "test_pred = pipeline.predict_proba(data_test)"
   ]
  },
  {
   "cell_type": "code",
   "execution_count": null,
   "metadata": {
    "execution": {
     "iopub.execute_input": "2021-09-30T18:51:48.75698Z",
     "iopub.status.busy": "2021-09-30T18:51:48.75573Z",
     "iopub.status.idle": "2021-09-30T18:51:48.764259Z",
     "shell.execute_reply": "2021-09-30T18:51:48.762408Z",
     "shell.execute_reply.started": "2021-09-30T18:51:48.756798Z"
    }
   },
   "outputs": [],
   "source": [
    "test_pred.shape"
   ]
  },
  {
   "cell_type": "code",
   "execution_count": null,
   "metadata": {
    "execution": {
     "iopub.execute_input": "2021-09-30T18:52:12.024599Z",
     "iopub.status.busy": "2021-09-30T18:52:12.023823Z",
     "iopub.status.idle": "2021-09-30T18:52:12.03086Z",
     "shell.execute_reply": "2021-09-30T18:52:12.029703Z",
     "shell.execute_reply.started": "2021-09-30T18:52:12.024558Z"
    }
   },
   "outputs": [],
   "source": [
    "res = pd.DataFrame()\n",
    "res[\"isFraud\"] = test_pred[:, 1]"
   ]
  },
  {
   "cell_type": "code",
   "execution_count": null,
   "metadata": {
    "execution": {
     "iopub.execute_input": "2021-09-30T18:53:07.599041Z",
     "iopub.status.busy": "2021-09-30T18:53:07.598617Z",
     "iopub.status.idle": "2021-09-30T18:53:07.688708Z",
     "shell.execute_reply": "2021-09-30T18:53:07.687659Z",
     "shell.execute_reply.started": "2021-09-30T18:53:07.599009Z"
    }
   },
   "outputs": [],
   "source": [
    "res['TransactionID'] = test['TransactionID']"
   ]
  },
  {
   "cell_type": "code",
   "execution_count": null,
   "metadata": {
    "execution": {
     "iopub.execute_input": "2021-09-30T18:55:15.656018Z",
     "iopub.status.busy": "2021-09-30T18:55:15.655704Z",
     "iopub.status.idle": "2021-09-30T18:55:16.651918Z",
     "shell.execute_reply": "2021-09-30T18:55:16.650638Z",
     "shell.execute_reply.started": "2021-09-30T18:55:15.655989Z"
    }
   },
   "outputs": [],
   "source": [
    "res.to_csv(os.path.join(file_dir, \"result_100303.csv\"), index=False)"
   ]
  },
  {
   "cell_type": "code",
   "execution_count": 419,
   "metadata": {
    "execution": {
     "iopub.execute_input": "2021-09-30T18:56:11.475637Z",
     "iopub.status.busy": "2021-09-30T18:56:11.475005Z",
     "iopub.status.idle": "2021-09-30T18:56:12.347138Z",
     "shell.execute_reply": "2021-09-30T18:56:12.346106Z",
     "shell.execute_reply.started": "2021-09-30T18:56:11.475561Z"
    },
    "scrolled": true
   },
   "outputs": [
    {
     "name": "stdout",
     "output_type": "stream",
     "text": [
      "\u001b[34mpkl_file\u001b[m\u001b[m              result_100302.csv     test_transaction.csv\r\n",
      "result_1001.csv       sample_submission.csv train_identity.csv\r\n",
      "result_1003.csv       test_identity.csv     train_transaction.csv\r\n"
     ]
    }
   ],
   "source": [
    "! ls {file_dir}"
   ]
  },
  {
   "cell_type": "markdown",
   "metadata": {},
   "source": [
    "# Performance Log "
   ]
  },
  {
   "cell_type": "markdown",
   "metadata": {},
   "source": [
    "\n",
    "\n",
    "|           | Change | Precision | Recall | Accuracy |\n",
    "|:---------:|--------|:---------:|:------:|:--------:|\n",
    "| Version 3 |add date feature|  0.92 | 0.63    |   0.70    |\n",
    "| Version 4 | removing missing cols|    0.93   |  0.62    | 0.68   |\n",
    "|           |        |           |        |          |\n",
    "|           |        |           |        |          |\n"
   ]
  },
  {
   "attachments": {
    "image-2.png": {
     "image/png": "[encoded data removed]"
    },
    "image-3.png": {
     "image/png": "[encoded data removed]"
    },
    "image.png": {
     "image/png": "[encoded data removed]"
    }
   },
   "cell_type": "markdown",
   "metadata": {},
   "source": [
    "version 2:\n",
    "\n",
    "![image.png](attachment:image.png)\n",
    "\n",
    "version 3:\n",
    "\n",
    "![image-2.png](attachment:image-2.png)\n",
    "\n",
    "version 4\n",
    "\n",
    "![image-3.png](attachment:image-3.png)"
   ]
  },
  {
   "cell_type": "code",
   "execution_count": null,
   "metadata": {},
   "outputs": [],
   "source": []
  }
 ],
 "metadata": {
  "kernelspec": {
   "display_name": "Python3.6(machine_learning_learning)",
   "language": "python",
   "name": "machine_learning_learning"
  },
  "language_info": {
   "codemirror_mode": {
    "name": "ipython",
    "version": 3
   },
   "file_extension": ".py",
   "mimetype": "text/x-python",
   "name": "python",
   "nbconvert_exporter": "python",
   "pygments_lexer": "ipython3",
   "version": "3.6.13"
  },
  "toc": {
   "base_numbering": 1,
   "nav_menu": {},
   "number_sections": true,
   "sideBar": true,
   "skip_h1_title": false,
   "title_cell": "Table of Contents",
   "title_sidebar": "Contents",
   "toc_cell": false,
   "toc_position": {
    "height": "calc(100% - 180px)",
    "left": "10px",
    "top": "150px",
    "width": "261.812px"
   },
   "toc_section_display": true,
   "toc_window_display": true
  }
 },
 "nbformat": 4,
 "nbformat_minor": 4
}
