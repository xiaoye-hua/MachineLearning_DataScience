{
 "cells": [
  {
   "cell_type": "markdown",
   "id": "f6169bf9",
   "metadata": {},
   "source": [
    "# Module "
   ]
  },
  {
   "cell_type": "code",
   "execution_count": 46,
   "id": "4445a11d",
   "metadata": {},
   "outputs": [
    {
     "name": "stdout",
     "output_type": "stream",
     "text": [
      "The autoreload extension is already loaded. To reload it, use:\n",
      "  %reload_ext autoreload\n"
     ]
    }
   ],
   "source": [
    "%matplotlib inline\n",
    "%load_ext autoreload\n",
    "%autoreload 2\n",
    "import sys\n",
    "sys.path.append('../')\n",
    "\n",
    "import matplotlib.pyplot as plt\n",
    "import pandas as pd\n",
    "import numpy as np\n",
    "import seaborn as sns\n",
    "\n",
    "from sklearn import datasets\n",
    "\n",
    "from src.AssignmentTools.xgboost_tools import plot_feature_importances\n",
    "from src.AssignmentTools.plot_utils import count_plot"
   ]
  },
  {
   "cell_type": "markdown",
   "id": "8e39fe38",
   "metadata": {},
   "source": [
    "# Config"
   ]
  },
  {
   "cell_type": "code",
   "execution_count": 18,
   "id": "d6ec0a12",
   "metadata": {},
   "outputs": [],
   "source": [
    "data = datasets.fetch_kddcup99(subset='SA'\n",
    "                              )"
   ]
  },
  {
   "cell_type": "code",
   "execution_count": 19,
   "id": "9a41bb36",
   "metadata": {},
   "outputs": [],
   "source": [
    "X = pd.DataFrame(data.data)\n",
    "y = pd.DataFrame(data.target)\n",
    "X.columns = data.feature_names"
   ]
  },
  {
   "cell_type": "markdown",
   "id": "10a3a051",
   "metadata": {},
   "source": [
    "# EDA "
   ]
  },
  {
   "cell_type": "markdown",
   "id": "a0328aba",
   "metadata": {},
   "source": [
    "## Target Variable"
   ]
  },
  {
   "cell_type": "code",
   "execution_count": 20,
   "id": "4c92655f",
   "metadata": {
    "scrolled": false
   },
   "outputs": [
    {
     "data": {
      "text/plain": [
       "b'normal.'             97278\n",
       "b'smurf.'               2376\n",
       "b'neptune.'              934\n",
       "b'back.'                  14\n",
       "b'satan.'                 11\n",
       "b'ipsweep.'               11\n",
       "b'teardrop.'               9\n",
       "b'warezclient.'            8\n",
       "b'portsweep.'              8\n",
       "b'pod.'                    3\n",
       "b'guess_passwd.'           1\n",
       "b'ftp_write.'              1\n",
       "b'buffer_overflow.'        1\n",
       "dtype: int64"
      ]
     },
     "execution_count": 20,
     "metadata": {},
     "output_type": "execute_result"
    }
   ],
   "source": [
    "y[[0]].value_counts()"
   ]
  },
  {
   "cell_type": "code",
   "execution_count": 24,
   "id": "e0707314",
   "metadata": {},
   "outputs": [
    {
     "data": {
      "text/plain": [
       "array([b'normal.', b'normal.', b'normal.', ..., b'smurf.', b'smurf.',\n",
       "       b'smurf.'], dtype=object)"
      ]
     },
     "execution_count": 24,
     "metadata": {},
     "output_type": "execute_result"
    }
   ],
   "source": [
    "y[0].values"
   ]
  },
  {
   "cell_type": "code",
   "execution_count": 34,
   "id": "dde63088",
   "metadata": {},
   "outputs": [],
   "source": [
    "map_dict = {}\n",
    "for value in list(pd.unique(y[0].values)):\n",
    "#     print(value)\n",
    "#     print(value == b'normal.')\n",
    "    if value == b'normal.':\n",
    "        map_dict[value] = 1\n",
    "    else:\n",
    "        map_dict[value] = 0"
   ]
  },
  {
   "cell_type": "code",
   "execution_count": 37,
   "id": "3b038690",
   "metadata": {},
   "outputs": [],
   "source": [
    "y['label'] = y.apply(lambda x: map_dict[x[0]], axis=1)\n",
    "del y[0]"
   ]
  },
  {
   "cell_type": "code",
   "execution_count": 38,
   "id": "9dc04901",
   "metadata": {},
   "outputs": [
    {
     "data": {
      "text/html": [
       "<div>\n",
       "<style scoped>\n",
       "    .dataframe tbody tr th:only-of-type {\n",
       "        vertical-align: middle;\n",
       "    }\n",
       "\n",
       "    .dataframe tbody tr th {\n",
       "        vertical-align: top;\n",
       "    }\n",
       "\n",
       "    .dataframe thead th {\n",
       "        text-align: right;\n",
       "    }\n",
       "</style>\n",
       "<table border=\"1\" class=\"dataframe\">\n",
       "  <thead>\n",
       "    <tr style=\"text-align: right;\">\n",
       "      <th></th>\n",
       "      <th>label</th>\n",
       "    </tr>\n",
       "  </thead>\n",
       "  <tbody>\n",
       "    <tr>\n",
       "      <th>0</th>\n",
       "      <td>1</td>\n",
       "    </tr>\n",
       "    <tr>\n",
       "      <th>1</th>\n",
       "      <td>1</td>\n",
       "    </tr>\n",
       "    <tr>\n",
       "      <th>2</th>\n",
       "      <td>1</td>\n",
       "    </tr>\n",
       "    <tr>\n",
       "      <th>3</th>\n",
       "      <td>1</td>\n",
       "    </tr>\n",
       "    <tr>\n",
       "      <th>4</th>\n",
       "      <td>1</td>\n",
       "    </tr>\n",
       "    <tr>\n",
       "      <th>...</th>\n",
       "      <td>...</td>\n",
       "    </tr>\n",
       "    <tr>\n",
       "      <th>100650</th>\n",
       "      <td>0</td>\n",
       "    </tr>\n",
       "    <tr>\n",
       "      <th>100651</th>\n",
       "      <td>0</td>\n",
       "    </tr>\n",
       "    <tr>\n",
       "      <th>100652</th>\n",
       "      <td>0</td>\n",
       "    </tr>\n",
       "    <tr>\n",
       "      <th>100653</th>\n",
       "      <td>0</td>\n",
       "    </tr>\n",
       "    <tr>\n",
       "      <th>100654</th>\n",
       "      <td>0</td>\n",
       "    </tr>\n",
       "  </tbody>\n",
       "</table>\n",
       "<p>100655 rows × 1 columns</p>\n",
       "</div>"
      ],
      "text/plain": [
       "        label\n",
       "0           1\n",
       "1           1\n",
       "2           1\n",
       "3           1\n",
       "4           1\n",
       "...       ...\n",
       "100650      0\n",
       "100651      0\n",
       "100652      0\n",
       "100653      0\n",
       "100654      0\n",
       "\n",
       "[100655 rows x 1 columns]"
      ]
     },
     "execution_count": 38,
     "metadata": {},
     "output_type": "execute_result"
    }
   ],
   "source": [
    "y"
   ]
  },
  {
   "cell_type": "code",
   "execution_count": 41,
   "id": "f3a111b5",
   "metadata": {},
   "outputs": [],
   "source": [
    "def labels(ax, df, xytext=(0, 0)):\n",
    "    for bar in ax.patches: \n",
    "        ax.annotate('%{:.2f}\\n{:.0f}'.format(100*bar.get_height()/len(df),bar.get_height()), (bar.get_x() + bar.get_width() / 2,  \n",
    "                    bar.get_height()), ha='center', va='center', \n",
    "                    size=11, xytext=xytext, \n",
    "                    textcoords='offset points')"
   ]
  },
  {
   "cell_type": "code",
   "execution_count": 47,
   "id": "3b029a9f",
   "metadata": {},
   "outputs": [
    {
     "data": {
      "image/png": "[encoded data removed]",
      "text/plain": [
       "<Figure size 432x288 with 1 Axes>"
      ]
     },
     "metadata": {
      "needs_background": "light"
     },
     "output_type": "display_data"
    }
   ],
   "source": [
    "count_plot(y, 'label')"
   ]
  },
  {
   "cell_type": "markdown",
   "id": "28bd2081",
   "metadata": {},
   "source": [
    "## Feature  "
   ]
  },
  {
   "cell_type": "code",
   "execution_count": 5,
   "id": "01299451",
   "metadata": {
    "scrolled": false
   },
   "outputs": [
    {
     "name": "stdout",
     "output_type": "stream",
     "text": [
      "<class 'pandas.core.frame.DataFrame'>\n",
      "RangeIndex: 100655 entries, 0 to 100654\n",
      "Data columns (total 41 columns):\n",
      " #   Column                       Non-Null Count   Dtype \n",
      "---  ------                       --------------   ----- \n",
      " 0   duration                     100655 non-null  object\n",
      " 1   protocol_type                100655 non-null  object\n",
      " 2   service                      100655 non-null  object\n",
      " 3   flag                         100655 non-null  object\n",
      " 4   src_bytes                    100655 non-null  object\n",
      " 5   dst_bytes                    100655 non-null  object\n",
      " 6   land                         100655 non-null  object\n",
      " 7   wrong_fragment               100655 non-null  object\n",
      " 8   urgent                       100655 non-null  object\n",
      " 9   hot                          100655 non-null  object\n",
      " 10  num_failed_logins            100655 non-null  object\n",
      " 11  logged_in                    100655 non-null  object\n",
      " 12  num_compromised              100655 non-null  object\n",
      " 13  root_shell                   100655 non-null  object\n",
      " 14  su_attempted                 100655 non-null  object\n",
      " 15  num_root                     100655 non-null  object\n",
      " 16  num_file_creations           100655 non-null  object\n",
      " 17  num_shells                   100655 non-null  object\n",
      " 18  num_access_files             100655 non-null  object\n",
      " 19  num_outbound_cmds            100655 non-null  object\n",
      " 20  is_host_login                100655 non-null  object\n",
      " 21  is_guest_login               100655 non-null  object\n",
      " 22  count                        100655 non-null  object\n",
      " 23  srv_count                    100655 non-null  object\n",
      " 24  serror_rate                  100655 non-null  object\n",
      " 25  srv_serror_rate              100655 non-null  object\n",
      " 26  rerror_rate                  100655 non-null  object\n",
      " 27  srv_rerror_rate              100655 non-null  object\n",
      " 28  same_srv_rate                100655 non-null  object\n",
      " 29  diff_srv_rate                100655 non-null  object\n",
      " 30  srv_diff_host_rate           100655 non-null  object\n",
      " 31  dst_host_count               100655 non-null  object\n",
      " 32  dst_host_srv_count           100655 non-null  object\n",
      " 33  dst_host_same_srv_rate       100655 non-null  object\n",
      " 34  dst_host_diff_srv_rate       100655 non-null  object\n",
      " 35  dst_host_same_src_port_rate  100655 non-null  object\n",
      " 36  dst_host_srv_diff_host_rate  100655 non-null  object\n",
      " 37  dst_host_serror_rate         100655 non-null  object\n",
      " 38  dst_host_srv_serror_rate     100655 non-null  object\n",
      " 39  dst_host_rerror_rate         100655 non-null  object\n",
      " 40  dst_host_srv_rerror_rate     100655 non-null  object\n",
      "dtypes: object(41)\n",
      "memory usage: 31.5+ MB\n"
     ]
    }
   ],
   "source": [
    "X.info()"
   ]
  },
  {
   "cell_type": "code",
   "execution_count": 6,
   "id": "1e07cd08",
   "metadata": {},
   "outputs": [
    {
     "data": {
      "text/html": [
       "<div>\n",
       "<style scoped>\n",
       "    .dataframe tbody tr th:only-of-type {\n",
       "        vertical-align: middle;\n",
       "    }\n",
       "\n",
       "    .dataframe tbody tr th {\n",
       "        vertical-align: top;\n",
       "    }\n",
       "\n",
       "    .dataframe thead th {\n",
       "        text-align: right;\n",
       "    }\n",
       "</style>\n",
       "<table border=\"1\" class=\"dataframe\">\n",
       "  <thead>\n",
       "    <tr style=\"text-align: right;\">\n",
       "      <th></th>\n",
       "      <th>duration</th>\n",
       "      <th>protocol_type</th>\n",
       "      <th>service</th>\n",
       "      <th>flag</th>\n",
       "      <th>src_bytes</th>\n",
       "      <th>dst_bytes</th>\n",
       "      <th>land</th>\n",
       "      <th>wrong_fragment</th>\n",
       "      <th>urgent</th>\n",
       "      <th>hot</th>\n",
       "      <th>...</th>\n",
       "      <th>dst_host_count</th>\n",
       "      <th>dst_host_srv_count</th>\n",
       "      <th>dst_host_same_srv_rate</th>\n",
       "      <th>dst_host_diff_srv_rate</th>\n",
       "      <th>dst_host_same_src_port_rate</th>\n",
       "      <th>dst_host_srv_diff_host_rate</th>\n",
       "      <th>dst_host_serror_rate</th>\n",
       "      <th>dst_host_srv_serror_rate</th>\n",
       "      <th>dst_host_rerror_rate</th>\n",
       "      <th>dst_host_srv_rerror_rate</th>\n",
       "    </tr>\n",
       "  </thead>\n",
       "  <tbody>\n",
       "    <tr>\n",
       "      <th>0</th>\n",
       "      <td>0</td>\n",
       "      <td>b'tcp'</td>\n",
       "      <td>b'http'</td>\n",
       "      <td>b'SF'</td>\n",
       "      <td>181</td>\n",
       "      <td>5450</td>\n",
       "      <td>0</td>\n",
       "      <td>0</td>\n",
       "      <td>0</td>\n",
       "      <td>0</td>\n",
       "      <td>...</td>\n",
       "      <td>9</td>\n",
       "      <td>9</td>\n",
       "      <td>1</td>\n",
       "      <td>0</td>\n",
       "      <td>0.11</td>\n",
       "      <td>0</td>\n",
       "      <td>0</td>\n",
       "      <td>0</td>\n",
       "      <td>0</td>\n",
       "      <td>0</td>\n",
       "    </tr>\n",
       "    <tr>\n",
       "      <th>1</th>\n",
       "      <td>0</td>\n",
       "      <td>b'tcp'</td>\n",
       "      <td>b'http'</td>\n",
       "      <td>b'SF'</td>\n",
       "      <td>239</td>\n",
       "      <td>486</td>\n",
       "      <td>0</td>\n",
       "      <td>0</td>\n",
       "      <td>0</td>\n",
       "      <td>0</td>\n",
       "      <td>...</td>\n",
       "      <td>19</td>\n",
       "      <td>19</td>\n",
       "      <td>1</td>\n",
       "      <td>0</td>\n",
       "      <td>0.05</td>\n",
       "      <td>0</td>\n",
       "      <td>0</td>\n",
       "      <td>0</td>\n",
       "      <td>0</td>\n",
       "      <td>0</td>\n",
       "    </tr>\n",
       "    <tr>\n",
       "      <th>2</th>\n",
       "      <td>0</td>\n",
       "      <td>b'tcp'</td>\n",
       "      <td>b'http'</td>\n",
       "      <td>b'SF'</td>\n",
       "      <td>235</td>\n",
       "      <td>1337</td>\n",
       "      <td>0</td>\n",
       "      <td>0</td>\n",
       "      <td>0</td>\n",
       "      <td>0</td>\n",
       "      <td>...</td>\n",
       "      <td>29</td>\n",
       "      <td>29</td>\n",
       "      <td>1</td>\n",
       "      <td>0</td>\n",
       "      <td>0.03</td>\n",
       "      <td>0</td>\n",
       "      <td>0</td>\n",
       "      <td>0</td>\n",
       "      <td>0</td>\n",
       "      <td>0</td>\n",
       "    </tr>\n",
       "    <tr>\n",
       "      <th>3</th>\n",
       "      <td>0</td>\n",
       "      <td>b'tcp'</td>\n",
       "      <td>b'http'</td>\n",
       "      <td>b'SF'</td>\n",
       "      <td>219</td>\n",
       "      <td>1337</td>\n",
       "      <td>0</td>\n",
       "      <td>0</td>\n",
       "      <td>0</td>\n",
       "      <td>0</td>\n",
       "      <td>...</td>\n",
       "      <td>39</td>\n",
       "      <td>39</td>\n",
       "      <td>1</td>\n",
       "      <td>0</td>\n",
       "      <td>0.03</td>\n",
       "      <td>0</td>\n",
       "      <td>0</td>\n",
       "      <td>0</td>\n",
       "      <td>0</td>\n",
       "      <td>0</td>\n",
       "    </tr>\n",
       "    <tr>\n",
       "      <th>4</th>\n",
       "      <td>0</td>\n",
       "      <td>b'tcp'</td>\n",
       "      <td>b'http'</td>\n",
       "      <td>b'SF'</td>\n",
       "      <td>217</td>\n",
       "      <td>2032</td>\n",
       "      <td>0</td>\n",
       "      <td>0</td>\n",
       "      <td>0</td>\n",
       "      <td>0</td>\n",
       "      <td>...</td>\n",
       "      <td>49</td>\n",
       "      <td>49</td>\n",
       "      <td>1</td>\n",
       "      <td>0</td>\n",
       "      <td>0.02</td>\n",
       "      <td>0</td>\n",
       "      <td>0</td>\n",
       "      <td>0</td>\n",
       "      <td>0</td>\n",
       "      <td>0</td>\n",
       "    </tr>\n",
       "  </tbody>\n",
       "</table>\n",
       "<p>5 rows × 41 columns</p>\n",
       "</div>"
      ],
      "text/plain": [
       "  duration protocol_type  service   flag src_bytes dst_bytes land  \\\n",
       "0        0        b'tcp'  b'http'  b'SF'       181      5450    0   \n",
       "1        0        b'tcp'  b'http'  b'SF'       239       486    0   \n",
       "2        0        b'tcp'  b'http'  b'SF'       235      1337    0   \n",
       "3        0        b'tcp'  b'http'  b'SF'       219      1337    0   \n",
       "4        0        b'tcp'  b'http'  b'SF'       217      2032    0   \n",
       "\n",
       "  wrong_fragment urgent hot  ... dst_host_count dst_host_srv_count  \\\n",
       "0              0      0   0  ...              9                  9   \n",
       "1              0      0   0  ...             19                 19   \n",
       "2              0      0   0  ...             29                 29   \n",
       "3              0      0   0  ...             39                 39   \n",
       "4              0      0   0  ...             49                 49   \n",
       "\n",
       "  dst_host_same_srv_rate dst_host_diff_srv_rate dst_host_same_src_port_rate  \\\n",
       "0                      1                      0                        0.11   \n",
       "1                      1                      0                        0.05   \n",
       "2                      1                      0                        0.03   \n",
       "3                      1                      0                        0.03   \n",
       "4                      1                      0                        0.02   \n",
       "\n",
       "  dst_host_srv_diff_host_rate dst_host_serror_rate dst_host_srv_serror_rate  \\\n",
       "0                           0                    0                        0   \n",
       "1                           0                    0                        0   \n",
       "2                           0                    0                        0   \n",
       "3                           0                    0                        0   \n",
       "4                           0                    0                        0   \n",
       "\n",
       "  dst_host_rerror_rate dst_host_srv_rerror_rate  \n",
       "0                    0                        0  \n",
       "1                    0                        0  \n",
       "2                    0                        0  \n",
       "3                    0                        0  \n",
       "4                    0                        0  \n",
       "\n",
       "[5 rows x 41 columns]"
      ]
     },
     "execution_count": 6,
     "metadata": {},
     "output_type": "execute_result"
    }
   ],
   "source": [
    "X.head()"
   ]
  },
  {
   "cell_type": "markdown",
   "id": "49e1c92f",
   "metadata": {},
   "source": [
    "# Model"
   ]
  },
  {
   "cell_type": "markdown",
   "id": "9e3a6bd1",
   "metadata": {},
   "source": [
    "##  Grid Search"
   ]
  },
  {
   "cell_type": "markdown",
   "id": "a31d42f9",
   "metadata": {},
   "source": [
    "## Evaluation CV "
   ]
  },
  {
   "cell_type": "markdown",
   "id": "a21b23d2",
   "metadata": {},
   "source": [
    "## Training "
   ]
  },
  {
   "cell_type": "markdown",
   "id": "e5c6692f",
   "metadata": {},
   "source": [
    "## Importance "
   ]
  },
  {
   "cell_type": "code",
   "execution_count": null,
   "id": "065ef06d",
   "metadata": {},
   "outputs": [],
   "source": []
  }
 ],
 "metadata": {
  "hide_input": false,
  "kernelspec": {
   "display_name": "Python3.6(machine_learning_learning)",
   "language": "python",
   "name": "machine_learning_learning"
  },
  "language_info": {
   "codemirror_mode": {
    "name": "ipython",
    "version": 3
   },
   "file_extension": ".py",
   "mimetype": "text/x-python",
   "name": "python",
   "nbconvert_exporter": "python",
   "pygments_lexer": "ipython3",
   "version": "3.6.13"
  },
  "toc": {
   "base_numbering": 1,
   "nav_menu": {},
   "number_sections": true,
   "sideBar": true,
   "skip_h1_title": false,
   "title_cell": "Table of Contents",
   "title_sidebar": "Contents",
   "toc_cell": false,
   "toc_position": {},
   "toc_section_display": true,
   "toc_window_display": true
  }
 },
 "nbformat": 4,
 "nbformat_minor": 5
}
