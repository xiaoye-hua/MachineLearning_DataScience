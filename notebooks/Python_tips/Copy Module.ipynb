{
 "cells": [
  {
   "cell_type": "markdown",
   "id": "369cf934",
   "metadata": {},
   "source": [
    "# Module"
   ]
  },
  {
   "cell_type": "code",
   "execution_count": 3,
   "id": "f3258da1",
   "metadata": {},
   "outputs": [],
   "source": [
    "import copy"
   ]
  },
  {
   "cell_type": "markdown",
   "id": "bdababf5",
   "metadata": {},
   "source": [
    "# Simple Objects "
   ]
  },
  {
   "cell_type": "code",
   "execution_count": 1,
   "id": "d62ee64e",
   "metadata": {},
   "outputs": [
    {
     "name": "stdout",
     "output_type": "stream",
     "text": [
      "a:3; b: 4\n"
     ]
    }
   ],
   "source": [
    "a = 3\n",
    "b = a\n",
    "b += 1\n",
    "print(f\"a:{a}; b: {b}\")"
   ]
  },
  {
   "cell_type": "markdown",
   "id": "13995bd0",
   "metadata": {},
   "source": [
    "# Complex Object "
   ]
  },
  {
   "cell_type": "code",
   "execution_count": 8,
   "id": "11dba3e3",
   "metadata": {},
   "outputs": [
    {
     "name": "stdout",
     "output_type": "stream",
     "text": [
      "a:[1, 2, 3]; b: [1, 2, 3], b_copy: [1, 2, 3], b_deepcopy: [1, 2, 3]\n",
      "a:[1, 2, 3, 5]; b: [1, 2, 3, 5], b_copy: [1, 2, 3], b_deepcopy: [1, 2, 3]\n",
      "a:[1, 2, 3, 5]; b: [1, 2, 3, 5], b_copy: [1, 2, 3, 5], b_deepcopy: [1, 2, 3]\n",
      "a:[1, 2, 3, 5]; b: [1, 2, 3, 5], b_copy: [1, 2, 3, 5], b_deepcopy: [1, 2, 3, 5]\n"
     ]
    }
   ],
   "source": [
    "a = [1, 2, 3]\n",
    "b = a\n",
    "b_copy = copy.copy(a)\n",
    "b_deepcopy = copy.deepcopy(a)\n",
    "print(f\"a:{a}; b: {b}, b_copy: {b_copy}, b_deepcopy: {b_deepcopy}\")\n",
    "b.append(5)\n",
    "print(f\"a:{a}; b: {b}, b_copy: {b_copy}, b_deepcopy: {b_deepcopy}\")\n",
    "b_copy.append(5)\n",
    "print(f\"a:{a}; b: {b}, b_copy: {b_copy}, b_deepcopy: {b_deepcopy}\")\n",
    "b_deepcopy.append(5)\n",
    "print(f\"a:{a}; b: {b}, b_copy: {b_copy}, b_deepcopy: {b_deepcopy}\")\n",
    "\n",
    "\n",
    "# a = {3: 'h', 4: '5'}\n",
    "# b = a\n",
    "# b.\n",
    "# print(f\"a:{a}; b: {b}\")"
   ]
  },
  {
   "cell_type": "code",
   "execution_count": null,
   "id": "8c915db9",
   "metadata": {},
   "outputs": [],
   "source": []
  }
 ],
 "metadata": {
  "kernelspec": {
   "display_name": "Python 3 (ipykernel)",
   "language": "python",
   "name": "python3"
  },
  "language_info": {
   "codemirror_mode": {
    "name": "ipython",
    "version": 3
   },
   "file_extension": ".py",
   "mimetype": "text/x-python",
   "name": "python",
   "nbconvert_exporter": "python",
   "pygments_lexer": "ipython3",
   "version": "3.8.2"
  }
 },
 "nbformat": 4,
 "nbformat_minor": 5
}
