{
 "cells": [
  {
   "cell_type": "markdown",
   "id": "3e488a55",
   "metadata": {},
   "source": [
    "# Module "
   ]
  },
  {
   "cell_type": "code",
   "execution_count": 7,
   "id": "5de18ad8",
   "metadata": {},
   "outputs": [],
   "source": [
    "import pandas as pd\n",
    "from sklearn.metrics import log_loss, roc_auc_score\n",
    "from sklearn.model_selection import train_test_split\n",
    "from sklearn.preprocessing import LabelEncoder, MinMaxScaler\n",
    "\n",
    "from deepctr.models import *\n",
    "from deepctr.feature_column import SparseFeat, DenseFeat, get_feature_names"
   ]
  },
  {
   "cell_type": "markdown",
   "id": "7b3254f6",
   "metadata": {},
   "source": [
    "# Config "
   ]
  },
  {
   "cell_type": "code",
   "execution_count": 20,
   "id": "d6b24cda",
   "metadata": {},
   "outputs": [],
   "source": [
    "data_dir = '../data/data.txt'"
   ]
  },
  {
   "cell_type": "code",
   "execution_count": 27,
   "id": "9d71291e",
   "metadata": {},
   "outputs": [],
   "source": [
    "data = pd.read_csv(data_dir)\n"
   ]
  },
  {
   "cell_type": "code",
   "execution_count": 28,
   "id": "8ba3dfa3",
   "metadata": {},
   "outputs": [],
   "source": [
    "\n",
    "sparse_features = ['C' + str(i) for i in range(1, 27)]\n",
    "dense_features = ['I' + str(i) for i in range(1, 14)]\n",
    "\n",
    "data[sparse_features] = data[sparse_features].fillna('-1', )\n",
    "data[dense_features] = data[dense_features].fillna(0, )\n",
    "target = ['label']"
   ]
  },
  {
   "cell_type": "code",
   "execution_count": 29,
   "id": "3fcc3ce4",
   "metadata": {},
   "outputs": [],
   "source": [
    "# 1.Label Encoding for sparse features,and do simple Transformation for dense features\n",
    "for feat in sparse_features:\n",
    "    lbe = LabelEncoder()\n",
    "    data[feat] = lbe.fit_transform(data[feat])\n",
    "mms = MinMaxScaler(feature_range=(0, 1))\n",
    "data[dense_features] = mms.fit_transform(data[dense_features])"
   ]
  },
  {
   "cell_type": "code",
   "execution_count": 30,
   "id": "8952e0de",
   "metadata": {},
   "outputs": [],
   "source": [
    "# 2.count #unique features for each sparse field,and record dense feature field name\n",
    "\n",
    "fixlen_feature_columns = [SparseFeat(feat, vocabulary_size=data[feat].max() + 1, embedding_dim=4)\n",
    "                          for i, feat in enumerate(sparse_features)] + [DenseFeat(feat, 1, )\n",
    "                                                                        for feat in dense_features]\n",
    "\n",
    "dnn_feature_columns = fixlen_feature_columns\n",
    "linear_feature_columns = fixlen_feature_columns\n",
    "\n",
    "feature_names = get_feature_names(linear_feature_columns + dnn_feature_columns)"
   ]
  },
  {
   "cell_type": "code",
   "execution_count": 31,
   "id": "5ddf01f2",
   "metadata": {},
   "outputs": [
    {
     "data": {
      "text/plain": [
       "39"
      ]
     },
     "execution_count": 31,
     "metadata": {},
     "output_type": "execute_result"
    }
   ],
   "source": [
    "len(fixlen_feature_columns)"
   ]
  },
  {
   "cell_type": "code",
   "execution_count": 34,
   "id": "a61c70b6",
   "metadata": {},
   "outputs": [],
   "source": [
    "# 3.generate input data for model\n",
    "\n",
    "train, test = train_test_split(data, test_size=0.2, random_state=2020)\n",
    "train_model_input = {name: train[name] for name in feature_names}\n",
    "test_model_input = {name: test[name] for name in feature_names}"
   ]
  },
  {
   "cell_type": "code",
   "execution_count": 18,
   "id": "03a28794",
   "metadata": {},
   "outputs": [],
   "source": [
    "# 4.Define Model,train,predict and evaluate\n",
    "model = DeepFM(linear_feature_columns, dnn_feature_columns, task='binary')\n",
    "model.compile(\"adam\", \"binary_crossentropy\",\n",
    "              metrics=['binary_crossentropy'], )\n"
   ]
  },
  {
   "cell_type": "code",
   "execution_count": 19,
   "id": "5b78c140",
   "metadata": {},
   "outputs": [
    {
     "name": "stdout",
     "output_type": "stream",
     "text": [
      "WARNING:tensorflow:Falling back from v2 loop because of error: Failed to find data adapter that can handle input: (<class 'dict'> containing {\"<class 'str'>\"} keys and {\"<class 'pandas.core.series.Series'>\"} values), <class 'NoneType'>\n"
     ]
    },
    {
     "name": "stderr",
     "output_type": "stream",
     "text": [
      "/Users/mac/.conda/envs/machine_learning_learning/lib/python3.6/site-packages/tensorflow_core/python/framework/indexed_slices.py:424: UserWarning: Converting sparse IndexedSlices to a dense Tensor of unknown shape. This may consume a large amount of memory.\n",
      "  \"Converting sparse IndexedSlices to a dense Tensor of unknown shape. \"\n",
      "/Users/mac/.conda/envs/machine_learning_learning/lib/python3.6/site-packages/tensorflow_core/python/framework/indexed_slices.py:424: UserWarning: Converting sparse IndexedSlices to a dense Tensor of unknown shape. This may consume a large amount of memory.\n",
      "  \"Converting sparse IndexedSlices to a dense Tensor of unknown shape. \"\n"
     ]
    },
    {
     "name": "stdout",
     "output_type": "stream",
     "text": [
      "Train on 128 samples, validate on 32 samples\n",
      "Epoch 1/10\n",
      "128/128 - 6s - loss: 0.7748 - binary_crossentropy: 0.7748 - val_loss: 0.7587 - val_binary_crossentropy: 0.7587\n",
      "Epoch 2/10\n",
      "128/128 - 0s - loss: 0.7503 - binary_crossentropy: 0.7503 - val_loss: 0.7457 - val_binary_crossentropy: 0.7456\n",
      "Epoch 3/10\n",
      "128/128 - 0s - loss: 0.7294 - binary_crossentropy: 0.7294 - val_loss: 0.7324 - val_binary_crossentropy: 0.7324\n",
      "Epoch 4/10\n",
      "128/128 - 0s - loss: 0.7089 - binary_crossentropy: 0.7088 - val_loss: 0.7183 - val_binary_crossentropy: 0.7183\n",
      "Epoch 5/10\n",
      "128/128 - 0s - loss: 0.6882 - binary_crossentropy: 0.6882 - val_loss: 0.7037 - val_binary_crossentropy: 0.7037\n",
      "Epoch 6/10\n",
      "128/128 - 0s - loss: 0.6673 - binary_crossentropy: 0.6673 - val_loss: 0.6884 - val_binary_crossentropy: 0.6884\n",
      "Epoch 7/10\n",
      "128/128 - 0s - loss: 0.6456 - binary_crossentropy: 0.6456 - val_loss: 0.6728 - val_binary_crossentropy: 0.6728\n",
      "Epoch 8/10\n",
      "128/128 - 0s - loss: 0.6234 - binary_crossentropy: 0.6234 - val_loss: 0.6572 - val_binary_crossentropy: 0.6572\n",
      "Epoch 9/10\n",
      "128/128 - 0s - loss: 0.6007 - binary_crossentropy: 0.6007 - val_loss: 0.6417 - val_binary_crossentropy: 0.6416\n",
      "Epoch 10/10\n",
      "128/128 - 0s - loss: 0.5778 - binary_crossentropy: 0.5778 - val_loss: 0.6265 - val_binary_crossentropy: 0.6265\n",
      "WARNING:tensorflow:Falling back from v2 loop because of error: Failed to find data adapter that can handle input: (<class 'dict'> containing {\"<class 'str'>\"} keys and {\"<class 'pandas.core.series.Series'>\"} values), <class 'NoneType'>\n",
      "test LogLoss 0.6063\n",
      "test AUC 0.6344\n"
     ]
    }
   ],
   "source": [
    "history = model.fit(train_model_input, train[target].values,\n",
    "                    batch_size=256, epochs=10, verbose=2, validation_split=0.2, )\n",
    "pred_ans = model.predict(test_model_input, batch_size=256)\n",
    "print(\"test LogLoss\", round(log_loss(test[target].values, pred_ans), 4))\n",
    "print(\"test AUC\", round(roc_auc_score(test[target].values, pred_ans), 4))"
   ]
  },
  {
   "cell_type": "code",
   "execution_count": null,
   "id": "62f995d9",
   "metadata": {},
   "outputs": [],
   "source": []
  }
 ],
 "metadata": {
  "kernelspec": {
   "display_name": "Python3.6(machine_learning_learning)",
   "language": "python",
   "name": "machine_learning_learning"
  },
  "language_info": {
   "codemirror_mode": {
    "name": "ipython",
    "version": 3
   },
   "file_extension": ".py",
   "mimetype": "text/x-python",
   "name": "python",
   "nbconvert_exporter": "python",
   "pygments_lexer": "ipython3",
   "version": "3.6.13"
  },
  "toc": {
   "base_numbering": 1,
   "nav_menu": {},
   "number_sections": true,
   "sideBar": true,
   "skip_h1_title": false,
   "title_cell": "Table of Contents",
   "title_sidebar": "Contents",
   "toc_cell": false,
   "toc_position": {},
   "toc_section_display": true,
   "toc_window_display": false
  }
 },
 "nbformat": 4,
 "nbformat_minor": 5
}
